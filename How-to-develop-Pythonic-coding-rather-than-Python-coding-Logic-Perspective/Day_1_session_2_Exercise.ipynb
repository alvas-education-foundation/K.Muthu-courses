{
  "nbformat": 4,
  "nbformat_minor": 0,
  "metadata": {
    "colab": {
      "name": "Day 1 session 2 Exercise.ipynb",
      "provenance": [],
      "collapsed_sections": [],
      "authorship_tag": "ABX9TyOF/TKtfe00YEZS1rgdJ2tZ",
      "include_colab_link": true
    },
    "kernelspec": {
      "name": "python3",
      "display_name": "Python 3"
    }
  },
  "cells": [
    {
      "cell_type": "markdown",
      "metadata": {
        "id": "view-in-github",
        "colab_type": "text"
      },
      "source": [
        "<a href=\"https://colab.research.google.com/github/alvas-education-foundation/K.Muthu-courses/blob/master/How-to-develop-Pythonic-coding-rather-than-Python-coding-Logic-Perspective/Day_1_session_2_Exercise.ipynb\" target=\"_parent\"><img src=\"https://colab.research.google.com/assets/colab-badge.svg\" alt=\"Open In Colab\"/></a>"
      ]
    },
    {
      "cell_type": "markdown",
      "metadata": {
        "id": "gxpwgEyb6JMZ",
        "colab_type": "text"
      },
      "source": [
        "## **Session 2 Exercise Programs**"
      ]
    },
    {
      "cell_type": "code",
      "metadata": {
        "id": "ZfpWSVbU6Sqp",
        "colab_type": "code",
        "colab": {
          "base_uri": "https://localhost:8080/",
          "height": 101
        },
        "outputId": "8379a942-b0fb-47bb-c0bc-9b2154d98a0f"
      },
      "source": [
        "'''\n",
        "1. Write a program to print the triangle \n",
        "i/p  4\n",
        "\n",
        "1\n",
        "2    3\n",
        "3    4   5\n",
        "4    5   6   7\n",
        "'''\n",
        "\n",
        "n = int(input('Enter a no: '))\n",
        "for  x in range(1,n+1):\n",
        "  for y in range(x,2*x):\n",
        "    print(y,end = ' ')\n",
        "  print()\n"
      ],
      "execution_count": null,
      "outputs": [
        {
          "output_type": "stream",
          "text": [
            "Enter a no: 4\n",
            "1 \n",
            "2 3 \n",
            "3 4 5 \n",
            "4 5 6 7 \n"
          ],
          "name": "stdout"
        }
      ]
    },
    {
      "cell_type": "code",
      "metadata": {
        "id": "4MHGAfnD9CR3",
        "colab_type": "code",
        "colab": {
          "base_uri": "https://localhost:8080/",
          "height": 101
        },
        "outputId": "e51e8047-c58b-44f0-911d-fe7143f9bf1c"
      },
      "source": [
        "'''\n",
        "2. Enter number 4\n",
        "\n",
        "*\n",
        "* *\n",
        "* * *\n",
        "* * * *\n",
        "'''\n",
        "\n",
        "n = int(input('Enter a no: '))\n",
        "for x in range(1,n+1):\n",
        "  for y in range(x):\n",
        "    print('*',end = ' ')\n",
        "  print()\n"
      ],
      "execution_count": null,
      "outputs": [
        {
          "output_type": "stream",
          "text": [
            "Enter a no: 4\n",
            "* \n",
            "* * \n",
            "* * * \n",
            "* * * * \n"
          ],
          "name": "stdout"
        }
      ]
    },
    {
      "cell_type": "code",
      "metadata": {
        "id": "8gouE2w39k3x",
        "colab_type": "code",
        "colab": {
          "base_uri": "https://localhost:8080/",
          "height": 118
        },
        "outputId": "4abb29dc-b76a-4fd1-bd85-a87b55e71fe2"
      },
      "source": [
        "'''\n",
        "3 Enter number 5\n",
        "\n",
        "5\n",
        "4 5\n",
        "3 4 5\n",
        "2 3 4 5\n",
        "1 2 3 4 5\n",
        "'''\n",
        "\n",
        "n = int(input('Enter a no: '))\n",
        "for x in range(1,n+1):\n",
        "  i = n-x+1\n",
        "  for y in range(x):\n",
        "    print(i,end = ' ')\n",
        "    i += 1\n",
        "  print()\n",
        "\n"
      ],
      "execution_count": null,
      "outputs": [
        {
          "output_type": "stream",
          "text": [
            "Enter a no: 5\n",
            "5 \n",
            "4 5 \n",
            "3 4 5 \n",
            "2 3 4 5 \n",
            "1 2 3 4 5 \n"
          ],
          "name": "stdout"
        }
      ]
    },
    {
      "cell_type": "code",
      "metadata": {
        "id": "Yyi8tHmZ_duZ",
        "colab_type": "code",
        "colab": {
          "base_uri": "https://localhost:8080/",
          "height": 118
        },
        "outputId": "d4ca535d-1fef-45b6-f3e3-ef236226bc90"
      },
      "source": [
        "'''\n",
        "4.  Enter number 5\n",
        "\n",
        "5 4 3 2 1\n",
        "4 3 2 1\n",
        "3 2 1\n",
        "2 1\n",
        "1\n",
        "'''\n",
        "n = int(input('Enter a no: '))\n",
        "for x in range(5,0,-1):\n",
        "  for y in range(x,0,-1):\n",
        "    print(y,end = ' ')\n",
        "  print()"
      ],
      "execution_count": null,
      "outputs": [
        {
          "output_type": "stream",
          "text": [
            "Enter a no: 5\n",
            "5 4 3 2 1 \n",
            "4 3 2 1 \n",
            "3 2 1 \n",
            "2 1 \n",
            "1 \n"
          ],
          "name": "stdout"
        }
      ]
    },
    {
      "cell_type": "code",
      "metadata": {
        "id": "dy67uzBmARM8",
        "colab_type": "code",
        "colab": {
          "base_uri": "https://localhost:8080/",
          "height": 151
        },
        "outputId": "af7b7ec8-f349-4d11-dc77-8036797eaf2f"
      },
      "source": [
        "'''\n",
        "5. Enter number 4\n",
        "\n",
        "1 2 3 4\n",
        "2 3 4\n",
        "3 4\n",
        "4\n",
        "3 4\n",
        "2 3 4\n",
        "1 2 3 4\n",
        "'''\n",
        "n = int(input('Enter a no: '))\n",
        "for x in range(1,n):\n",
        "  for y in range(x,n+1):\n",
        "    print(y,end = ' ')\n",
        "  print()\n",
        "\n",
        "for x in range(1,n+1):\n",
        "  i = n-x+1\n",
        "  for y in range(x):\n",
        "    print(i,end = ' ')\n",
        "    i += 1\n",
        "  print()"
      ],
      "execution_count": null,
      "outputs": [
        {
          "output_type": "stream",
          "text": [
            "Enter a no: 4\n",
            "1 2 3 4 \n",
            "2 3 4 \n",
            "3 4 \n",
            "4 \n",
            "3 4 \n",
            "2 3 4 \n",
            "1 2 3 4 \n"
          ],
          "name": "stdout"
        }
      ]
    },
    {
      "cell_type": "code",
      "metadata": {
        "id": "koTYyKrvC_bo",
        "colab_type": "code",
        "colab": {
          "base_uri": "https://localhost:8080/",
          "height": 50
        },
        "outputId": "24499a4a-9d43-4aae-c2b0-a14306d4359b"
      },
      "source": [
        "#6. Find the length of a string without using len functions\n",
        "\n",
        "string = input('Enter a string: ')\n",
        "count = 0\n",
        "for char in string:\n",
        "  count += 1\n",
        "print(count)"
      ],
      "execution_count": null,
      "outputs": [
        {
          "output_type": "stream",
          "text": [
            "Enter a string: may be tomorrow\n",
            "15\n"
          ],
          "name": "stdout"
        }
      ]
    },
    {
      "cell_type": "code",
      "metadata": {
        "id": "8zlWOnQjDdSP",
        "colab_type": "code",
        "colab": {
          "base_uri": "https://localhost:8080/",
          "height": 67
        },
        "outputId": "a5fe47e3-30b0-43dc-eb39-07cc31711758"
      },
      "source": [
        "# 7. Find the no of words and characters in a string\n",
        "\n",
        "string = input('Enter a string: ')\n",
        "c_word = c_char = 0\n",
        "for word in string.split():\n",
        "  c_word += 1\n",
        "  for char in word:\n",
        "    c_char += 1\n",
        "print('No of Words: ',c_word)\n",
        "print('No of Characters: ',c_char)"
      ],
      "execution_count": null,
      "outputs": [
        {
          "output_type": "stream",
          "text": [
            "Enter a string: how are u feeling\n",
            "No of Words:  4\n",
            "No of Characters:  14\n"
          ],
          "name": "stdout"
        }
      ]
    },
    {
      "cell_type": "code",
      "metadata": {
        "id": "Bwho_yNiEfPu",
        "colab_type": "code",
        "colab": {
          "base_uri": "https://localhost:8080/",
          "height": 67
        },
        "outputId": "53432130-0631-4508-9e76-b8dc4e0cc47a"
      },
      "source": [
        "# 8. Find the no of occurrences of a word in a string\n",
        "\n",
        "string = input('Enter a string:')\n",
        "word = input('Enter the word: ')\n",
        "count = 0\n",
        "\n",
        "for x in string.split():\n",
        "  if x == word:\n",
        "    count += 1\n",
        "print('No of occurances of '+word+' is: ',count)"
      ],
      "execution_count": null,
      "outputs": [
        {
          "output_type": "stream",
          "text": [
            "Enter a string:find you find in you or find somewhere find that\n",
            "Enter the word: find\n",
            "No of occurances of find is:  4\n"
          ],
          "name": "stdout"
        }
      ]
    }
  ]
}