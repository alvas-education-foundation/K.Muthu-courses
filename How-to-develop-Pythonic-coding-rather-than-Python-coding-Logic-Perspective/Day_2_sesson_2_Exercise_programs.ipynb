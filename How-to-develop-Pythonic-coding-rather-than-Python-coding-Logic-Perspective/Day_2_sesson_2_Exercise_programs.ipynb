{
  "nbformat": 4,
  "nbformat_minor": 0,
  "metadata": {
    "colab": {
      "name": "Day 2 sesson 2 Exercise programs.ipynb",
      "provenance": [],
      "collapsed_sections": [],
      "authorship_tag": "ABX9TyNSchLcyO3vqkZzb2y6IsYh",
      "include_colab_link": true
    },
    "kernelspec": {
      "name": "python3",
      "display_name": "Python 3"
    }
  },
  "cells": [
    {
      "cell_type": "markdown",
      "metadata": {
        "id": "view-in-github",
        "colab_type": "text"
      },
      "source": [
        "<a href=\"https://colab.research.google.com/github/alvas-education-foundation/K.Muthu-courses/blob/master/How-to-develop-Pythonic-coding-rather-than-Python-coding-Logic-Perspective/Day_2_sesson_2_Exercise_programs.ipynb\" target=\"_parent\"><img src=\"https://colab.research.google.com/assets/colab-badge.svg\" alt=\"Open In Colab\"/></a>"
      ]
    },
    {
      "cell_type": "markdown",
      "metadata": {
        "id": "s6LnJ7CYKrm2",
        "colab_type": "text"
      },
      "source": [
        "## **Session 2 Excercise Programs**"
      ]
    },
    {
      "cell_type": "markdown",
      "metadata": {
        "id": "YsfW5kXIK1VU",
        "colab_type": "text"
      },
      "source": [
        "### 1. Dictionary Excercise"
      ]
    },
    {
      "cell_type": "code",
      "metadata": {
        "id": "d4Yrl_9dZChN",
        "colab_type": "code",
        "colab": {
          "base_uri": "https://localhost:8080/",
          "height": 151
        },
        "outputId": "e9399e23-80d9-43fd-ead4-10aa71ea090b"
      },
      "source": [
        "# 1.\tAdd rollno and marks {name:mark} for n number of students through keyboard in a dictionary and print the marks in descending order with respective name.\n",
        "\n",
        "import operator\n",
        "d = {}\n",
        "for x in range(int(input('Enter the no of students: '))):\n",
        "  name = input('Enter name %d: '%(x+1))\n",
        "  mark = int(input('Enter mark %d: '%(x+1)))\n",
        "  d[name] = mark\n",
        "d = sorted(d.items(),key = operator.itemgetter(1),reverse = True)\n",
        "print(d)"
      ],
      "execution_count": null,
      "outputs": [
        {
          "output_type": "stream",
          "text": [
            "Enter the no of students: 3\n",
            "Enter name 1: charan\n",
            "Enter mark 1: 45\n",
            "Enter name 2: likith\n",
            "Enter mark 2: 90\n",
            "Enter name 3: akil\n",
            "Enter mark 3: 78\n",
            "[('likith', 90), ('akil', 78), ('charan', 45)]\n"
          ],
          "name": "stdout"
        }
      ]
    },
    {
      "cell_type": "code",
      "metadata": {
        "id": "3TgAWGmDchZ6",
        "colab_type": "code",
        "colab": {
          "base_uri": "https://localhost:8080/",
          "height": 151
        },
        "outputId": "c92e01f0-e167-4683-c35f-560add065f3b"
      },
      "source": [
        "# 2.\tAdd  name and salary {name:salary} for n number of employees through keyboard in a dictionary and print them in name alphabetical order with salary\n",
        "\n",
        "d = {}\n",
        "for x in range(int(input('Enter the no of employees: '))):\n",
        "  name = input('Enter name %d: '%(x+1))\n",
        "  sal = int(input('Enter salary %d: '%(x+1)))\n",
        "  d[name] = sal\n",
        "print(sorted(d.items()))"
      ],
      "execution_count": null,
      "outputs": [
        {
          "output_type": "stream",
          "text": [
            "Enter the no of employees: 3\n",
            "Enter name 1: harish\n",
            "Enter salary 1: 30000\n",
            "Enter name 2: anil\n",
            "Enter salary 2: 24000\n",
            "Enter name 3: suresh\n",
            "Enter salary 3: 34000\n",
            "[('anil', 24000), ('harish', 30000), ('suresh', 34000)]\n"
          ],
          "name": "stdout"
        }
      ]
    },
    {
      "cell_type": "code",
      "metadata": {
        "id": "0326-G06dJCy",
        "colab_type": "code",
        "colab": {
          "base_uri": "https://localhost:8080/",
          "height": 218
        },
        "outputId": "de703814-84a0-41d1-9791-5266131e2404"
      },
      "source": [
        "# 3.\tAdd  name and salary {name:salary} for n number of employees through keyboard in a dictionary \n",
        "#     and print them in salary  ascending order and  sum, max, min and average of the salaries\n",
        "\n",
        "import operator\n",
        "d = {}\n",
        "for x in range(int(input('Enter the no of employees: '))):\n",
        "  name = input('Enter name %d: '%(x+1))\n",
        "  sal = int(input('Enter salary %d: '%(x+1)))\n",
        "  d[name] = sal\n",
        "print(sorted(d.items(),key = operator.itemgetter(1)))\n",
        "print('Sum of salary: ',sum(d.values()))\n",
        "print('Max of salary: ',max(d.values()))\n",
        "print('Min of salary: ',min(d.values()))\n",
        "print('Average of salary: ',sum(d.values())/len(d.values()))"
      ],
      "execution_count": null,
      "outputs": [
        {
          "output_type": "stream",
          "text": [
            "Enter the no of employees: 3\n",
            "Enter name 1: harish\n",
            "Enter salary 1: 30000\n",
            "Enter name 2: anil\n",
            "Enter salary 2: 24000\n",
            "Enter name 3: suresh\n",
            "Enter salary 3: 34000\n",
            "[('anil', 24000), ('harish', 30000), ('suresh', 34000)]\n",
            "Sum of salary:  88000\n",
            "Max of salary:  34000\n",
            "Min of salary:  24000\n",
            "Average of salary:  29333.333333333332\n"
          ],
          "name": "stdout"
        }
      ]
    },
    {
      "cell_type": "code",
      "metadata": {
        "id": "PLV6YEwPeYHi",
        "colab_type": "code",
        "colab": {
          "base_uri": "https://localhost:8080/",
          "height": 151
        },
        "outputId": "b08284cf-9631-4efa-db0a-229a48df90e6"
      },
      "source": [
        "# 4.\tAdd name and salary {name:salary} for n number of employees through keyboard in a dictionary \n",
        "#     and print only the employees whose salary is greater than 2000 but less than 4000\n",
        "\n",
        "\n",
        "\n",
        "d = {}\n",
        "for x in range(int(input('Enter the no of employees: '))):\n",
        "  name = input('Enter name %d: '%(x+1))\n",
        "  sal = int(input('Enter salary %d: '%(x+1)))\n",
        "  d[name] = sal\n",
        "print({i:j for i,j in d.items() if j > 2000 and j < 4000})"
      ],
      "execution_count": null,
      "outputs": [
        {
          "output_type": "stream",
          "text": [
            "Enter the no of employees: 3\n",
            "Enter name 1: ramesh\n",
            "Enter salary 1: 2500\n",
            "Enter name 2: suresh\n",
            "Enter salary 2: 1500\n",
            "Enter name 3: ganesh\n",
            "Enter salary 3: 3500\n",
            "{'ramesh': 2500, 'ganesh': 3500}\n"
          ],
          "name": "stdout"
        }
      ]
    },
    {
      "cell_type": "code",
      "metadata": {
        "id": "5APGoWEf-C5e",
        "colab_type": "code",
        "colab": {
          "base_uri": "https://localhost:8080/",
          "height": 50
        },
        "outputId": "9072be13-1e37-4fe2-8d44-254f95f9430a"
      },
      "source": [
        "# 5.\tPython program to convert a 3 digit number  into words\n",
        "\n",
        "d={0:'',1:'one',2:'two',3:'three',4:'four',5:'five',6:'six',7:'seven',8:'eight',9:'nine',\\\n",
        "   10:'ten',11:'eleven',12:'twelve',13:'thirteen',14:'fourteen',15:'fifteen',16:'sixteen',\\\n",
        "   17:'seventeen',18:'eightteen',19:'nineteen',20:'twenty',30:'thirty',40:'fourty',50:'fifty',\\\n",
        "   60:'sixty',70:'seventy',80:'eighty',90:'ninty',100:'hundred'}\n",
        "\n",
        "num=int(input(\"Enter the integer between 1 to 99:\"))\n",
        "if (num<=20):\n",
        "      print(d[num])\n",
        "if(num>20 and num<100):\n",
        "        if num%10==0:       \n",
        "            print(d[num])\n",
        "        else:\n",
        "            print(d[num//10*10]+\" \"+d[num%10])\n",
        "if (num>=100 and num<1000):\n",
        "  if num%100 == 0:\n",
        "    print(d[num//100]+' '+d[100])\n",
        "  elif num%10 == 0:\n",
        "    print(d[num//100]+' '+d[100]+' and '+d[num%100//10*10])\n",
        "  else:\n",
        "    print(d[num//100]+' '+d[100]+' and '+d[num%100//10*10]+' '+d[num%10])"
      ],
      "execution_count": null,
      "outputs": [
        {
          "output_type": "stream",
          "text": [
            "Enter the integer between 1 to 99:999\n",
            "nine hundred and ninty nine\n"
          ],
          "name": "stdout"
        }
      ]
    },
    {
      "cell_type": "markdown",
      "metadata": {
        "id": "kjZqxgH3DgvP",
        "colab_type": "text"
      },
      "source": [
        "### 2. Files Exercise"
      ]
    },
    {
      "cell_type": "code",
      "metadata": {
        "id": "LKi_cRVPDmob",
        "colab_type": "code",
        "colab": {
          "base_uri": "https://localhost:8080/",
          "height": 50
        },
        "outputId": "eb618552-0ed4-4215-deea-c42e8793a1c6"
      },
      "source": [
        "# 1.Python Program to count the total number of charaters (except blank space) in a text file.\n",
        "\n",
        "from google.colab import drive\n",
        "drive.mount('/content/drive')\n",
        "file = '/content/drive/My Drive/text files/doc_1.txt'\n",
        "count = 0\n",
        "with open(file,'r') as f:\n",
        "  for line in f:\n",
        "    for word in line:\n",
        "      count += len(word)\n",
        "print('Total no of characters: ',count)"
      ],
      "execution_count": null,
      "outputs": [
        {
          "output_type": "stream",
          "text": [
            "Drive already mounted at /content/drive; to attempt to forcibly remount, call drive.mount(\"/content/drive\", force_remount=True).\n",
            "Total no of characters:  56\n"
          ],
          "name": "stdout"
        }
      ]
    },
    {
      "cell_type": "code",
      "metadata": {
        "id": "ZPrP467wD1fT",
        "colab_type": "code",
        "colab": {
          "base_uri": "https://localhost:8080/",
          "height": 34
        },
        "outputId": "fc43558c-5d2e-41e5-8e94-475d96f8e2d0"
      },
      "source": [
        "# 2.Python Program to print all the numbers present in a text file with its total number of occurrence.\n",
        "\n",
        "file = '/content/drive/My Drive/text files/doc_3.txt'\n",
        "d = {}\n",
        "with open(file,'r') as f:\n",
        "  for line in f:\n",
        "    for word in line:\n",
        "      if word.isdigit():\n",
        "        if word in d.keys():\n",
        "          d[word] += 1\n",
        "        else:\n",
        "          d[word] = 1\n",
        "print(\"No's with total no of occurances: \",d)"
      ],
      "execution_count": null,
      "outputs": [
        {
          "output_type": "stream",
          "text": [
            "No's with total no of occurances:  {'4': 2, '5': 1, '3': 1, '0': 1, '9': 1}\n"
          ],
          "name": "stdout"
        }
      ]
    },
    {
      "cell_type": "code",
      "metadata": {
        "id": "fEAr3c9CGFih",
        "colab_type": "code",
        "colab": {}
      },
      "source": [
        "# 3.Python Program to append the contents of one file to another file \n",
        "\n",
        "file1 = '/content/drive/My Drive/text files/doc_1.txt'\n",
        "file2 = '/content/drive/My Drive/text files/doc_3.txt'\n",
        "d = {}\n",
        "with open(file1,'r') as f1:\n",
        "  with open(file2,'a') as f2:\n",
        "    for line in f1:\n",
        "      f2.write(line)"
      ],
      "execution_count": null,
      "outputs": []
    },
    {
      "cell_type": "code",
      "metadata": {
        "id": "9vIUHADSHdVr",
        "colab_type": "code",
        "colab": {
          "base_uri": "https://localhost:8080/",
          "height": 34
        },
        "outputId": "b0917e43-1a07-42ad-cf77-a2101fce1b79"
      },
      "source": [
        "# 4.Python Program to count the number of blank spaces in a text file. \n",
        "\n",
        "file = '/content/drive/My Drive/text files/doc_1.txt'\n",
        "count = 0\n",
        "with open(file,'r') as f:\n",
        "  for line in f:\n",
        "    count += len(line.split())-1\n",
        "print(count)"
      ],
      "execution_count": null,
      "outputs": [
        {
          "output_type": "stream",
          "text": [
            "9\n"
          ],
          "name": "stdout"
        }
      ]
    },
    {
      "cell_type": "code",
      "metadata": {
        "id": "PiTsomelRPwX",
        "colab_type": "code",
        "colab": {
          "base_uri": "https://localhost:8080/",
          "height": 101
        },
        "outputId": "250cb2e4-3a3a-4f34-b68d-4d6ba85706f0"
      },
      "source": [
        "# 5.Python Program to read a file and capitalize the first letter of every word in the file and copy the every word capitalized content  into another file and read it .\n",
        "\n",
        "file1 = '/content/drive/My Drive/text files/doc_1.txt'\n",
        "file2 = '/content/drive/My Drive/text files/doc_capital_1.txt'\n",
        "count = 0\n",
        "with open(file1,'r') as f1:\n",
        "  with open(file2,'w') as f2:\n",
        "    for line in f1:\n",
        "      f2.write(line.title())\n",
        "\n",
        "with open(file2,'r') as f:\n",
        "  for line in f:\n",
        "    print(line)\n"
      ],
      "execution_count": null,
      "outputs": [
        {
          "output_type": "stream",
          "text": [
            "I Am Iron Man\n",
            "\n",
            "Love You 3000\n",
            "\n",
            "Sorry Earth Is Closed Today.\n"
          ],
          "name": "stdout"
        }
      ]
    }
  ]
}