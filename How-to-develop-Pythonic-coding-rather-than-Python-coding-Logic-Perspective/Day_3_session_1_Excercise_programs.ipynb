{
  "nbformat": 4,
  "nbformat_minor": 0,
  "metadata": {
    "colab": {
      "name": "Day 3  session 1   Excercise programs.ipynb",
      "provenance": [],
      "collapsed_sections": [],
      "authorship_tag": "ABX9TyPQWNX/6zy/QhJBRXUAR5Sd",
      "include_colab_link": true
    },
    "kernelspec": {
      "name": "python3",
      "display_name": "Python 3"
    }
  },
  "cells": [
    {
      "cell_type": "markdown",
      "metadata": {
        "id": "view-in-github",
        "colab_type": "text"
      },
      "source": [
        "<a href=\"https://colab.research.google.com/github/alvas-education-foundation/K.Muthu-courses/blob/master/How-to-develop-Pythonic-coding-rather-than-Python-coding-Logic-Perspective/Day_3_session_1_Excercise_programs.ipynb\" target=\"_parent\"><img src=\"https://colab.research.google.com/assets/colab-badge.svg\" alt=\"Open In Colab\"/></a>"
      ]
    },
    {
      "cell_type": "code",
      "metadata": {
        "id": "Mm1ry8M96hSW",
        "colab_type": "code",
        "colab": {
          "base_uri": "https://localhost:8080/",
          "height": 54
        },
        "outputId": "ada1fe28-15aa-496e-8367-5c4e66b6ee5f"
      },
      "source": [
        "# Write a Python program to find numbers between 100 and 400 (both included) which are divisable either by 5 or 7. \n",
        "#The numbers obtained should be printed in a comma-separated sequence\n",
        "\n",
        "a = [print(x,end = ',') for x in range(100,400+1) if x%5 is 0 or x%7 is 0]"
      ],
      "execution_count": 16,
      "outputs": [
        {
          "output_type": "stream",
          "text": [
            "100,105,110,112,115,119,120,125,126,130,133,135,140,145,147,150,154,155,160,161,165,168,170,175,180,182,185,189,190,195,196,200,203,205,210,215,217,220,224,225,230,231,235,238,240,245,250,252,255,259,260,265,266,270,273,275,280,285,287,290,294,295,300,301,305,308,310,315,320,322,325,329,330,335,336,340,343,345,350,355,357,360,364,365,370,371,375,378,380,385,390,392,395,399,400,"
          ],
          "name": "stdout"
        }
      ]
    },
    {
      "cell_type": "code",
      "metadata": {
        "id": "ArdKhqMN6wXO",
        "colab_type": "code",
        "colab": {
          "base_uri": "https://localhost:8080/",
          "height": 54
        },
        "outputId": "830c9106-197d-4f79-cfc2-e3ed26aaa52d"
      },
      "source": [
        "# Write a Python program to find  prime numbers between 200 and 600 (both included). \n",
        "#The numbers obtained should be printed in a comma-separated sequence\n",
        "\n",
        "for x in range(200,601):\n",
        "  for y in range(2,x//2+1):\n",
        "    if x%y == 0:\n",
        "      break\n",
        "  else:\n",
        "    print(x,end=',')"
      ],
      "execution_count": 17,
      "outputs": [
        {
          "output_type": "stream",
          "text": [
            "211,223,227,229,233,239,241,251,257,263,269,271,277,281,283,293,307,311,313,317,331,337,347,349,353,359,367,373,379,383,389,397,401,409,419,421,431,433,439,443,449,457,461,463,467,479,487,491,499,503,509,521,523,541,547,557,563,569,571,577,587,593,599,"
          ],
          "name": "stdout"
        }
      ]
    },
    {
      "cell_type": "code",
      "metadata": {
        "id": "-ZXdJ7VtKpb1",
        "colab_type": "code",
        "colab": {
          "base_uri": "https://localhost:8080/",
          "height": 67
        },
        "outputId": "c7fc35f9-74e6-4259-de9f-60db27b0be86"
      },
      "source": [
        "# Write a Python program to find All Numbers which are Odd and Palindromes Between a Range of Numbers without using Recursion. \n",
        "#The numbers obtained should be printed in a comma-separated sequence\n",
        "\n",
        "a = [print(x,end=',') for x in range(int(input('Enter Lower range: ')),int(input('Enter Upper range: '))) if x%2 and str(x) == str(x)[::-1]]"
      ],
      "execution_count": 51,
      "outputs": [
        {
          "output_type": "stream",
          "text": [
            "Enter Lower range: 100\n",
            "Enter Upper range: 200\n",
            "101,111,121,131,141,151,161,171,181,191,"
          ],
          "name": "stdout"
        }
      ]
    },
    {
      "cell_type": "code",
      "metadata": {
        "id": "XIzJZL3wS8WP",
        "colab_type": "code",
        "colab": {
          "base_uri": "https://localhost:8080/",
          "height": 50
        },
        "outputId": "98f27fc0-3054-48eb-ef2c-04fd223fd5c0"
      },
      "source": [
        "# Write a Python Program to read a number n and print the series “5+10+…..+n = sum upto n ” . \n",
        "# The numbers should be printed  as they are  shown in the quotes with sum of numbers upto n \n",
        "\n",
        "arr = [x for x in range(5,int(input('Enter a no: '))+1,5)]\n",
        "print('+'.join([str(i) for i in arr]),'=',sum(arr))"
      ],
      "execution_count": 58,
      "outputs": [
        {
          "output_type": "stream",
          "text": [
            "Enter a no: 50\n",
            "5+10+15+20+25+30+35+40+45+50 = 275\n"
          ],
          "name": "stdout"
        }
      ]
    }
  ]
}