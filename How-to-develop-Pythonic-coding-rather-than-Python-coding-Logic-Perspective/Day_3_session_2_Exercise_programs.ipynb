{
  "nbformat": 4,
  "nbformat_minor": 0,
  "metadata": {
    "colab": {
      "name": "Day 3  session 2   Exercise programs.ipynb",
      "provenance": [],
      "collapsed_sections": [],
      "authorship_tag": "ABX9TyPiqYSx/ExLGiVH8Yfswgbk",
      "include_colab_link": true
    },
    "kernelspec": {
      "name": "python3",
      "display_name": "Python 3"
    }
  },
  "cells": [
    {
      "cell_type": "markdown",
      "metadata": {
        "id": "view-in-github",
        "colab_type": "text"
      },
      "source": [
        "<a href=\"https://colab.research.google.com/github/alvas-education-foundation/K.Muthu-courses/blob/master/How-to-develop-Pythonic-coding-rather-than-Python-coding-Logic-Perspective/Day_3_session_2_Exercise_programs.ipynb\" target=\"_parent\"><img src=\"https://colab.research.google.com/assets/colab-badge.svg\" alt=\"Open In Colab\"/></a>"
      ]
    },
    {
      "cell_type": "code",
      "metadata": {
        "id": "6YF9tUqdWOkE",
        "colab_type": "code",
        "colab": {
          "base_uri": "https://localhost:8080/",
          "height": 202
        },
        "outputId": "2bdc17ea-aa90-4355-fc92-9fb7e66678a6"
      },
      "source": [
        "# Write a Python Program to Print Multiplication Table of a  number which got through keyboard.\n",
        "\n",
        "n = int(input('Enter a no: '))\n",
        "arr = [print(n,'x',x,'=',n*x) for x in range(1,11)]"
      ],
      "execution_count": 3,
      "outputs": [
        {
          "output_type": "stream",
          "text": [
            "Enter a no: 3\n",
            "3 x 1 = 3\n",
            "3 x 2 = 6\n",
            "3 x 3 = 9\n",
            "3 x 4 = 12\n",
            "3 x 5 = 15\n",
            "3 x 6 = 18\n",
            "3 x 7 = 21\n",
            "3 x 8 = 24\n",
            "3 x 9 = 27\n",
            "3 x 10 = 30\n"
          ],
          "name": "stdout"
        }
      ]
    },
    {
      "cell_type": "code",
      "metadata": {
        "id": "BazwyYYLXOeQ",
        "colab_type": "code",
        "colab": {
          "base_uri": "https://localhost:8080/",
          "height": 34
        },
        "outputId": "f823114a-3d0a-412e-ba11-29e7b0f829af"
      },
      "source": [
        "# Write a  Python Program to find the Armstrong Numbers between 1 and 2000 \n",
        "# ( i.e 153 is amtrong numbers as 1**3+5**3+3**3=153 )\n",
        "\n",
        "for x in range(1,2000):\n",
        "  i = str(x)\n",
        "  l = len(i)\n",
        "  ex = []\n",
        "  for y in range(l):\n",
        "    ex.append(i[y]+'**'+str(l))\n",
        "  if eval('+'.join(ex)) == x:\n",
        "    print(x,end = ' ')"
      ],
      "execution_count": 18,
      "outputs": [
        {
          "output_type": "stream",
          "text": [
            "1 2 3 4 5 6 7 8 9 153 370 371 407 1634 "
          ],
          "name": "stdout"
        }
      ]
    },
    {
      "cell_type": "code",
      "metadata": {
        "id": "hy0UJe7JeFfx",
        "colab_type": "code",
        "colab": {
          "base_uri": "https://localhost:8080/",
          "height": 202
        },
        "outputId": "bc6f3e40-0138-4fb3-afaa-01eee0e9e87a"
      },
      "source": [
        "# Write a python program to get the list of tuples (rollno, name) for n students by getting rollno and name through keyboard. \n",
        "# Sort and print  them as rollno wise and name wise both ascending and descending as well as alphabetical and dealphabetical orders\n",
        "\n",
        "import operator\n",
        "arr = [(int(input('Enter rollno %d: '%(x))),input('Enter name %d: '%(x))) for x in range(1,int(input('Enter no of students: '))+1)]\n",
        "print('Student details based on rollno in ascending order',sorted(arr))\n",
        "print('Student details based on rollno in descending order',sorted(arr,reverse = True))\n",
        "print('Student details based on name in ascending order',sorted(arr,key = operator.itemgetter(1)))\n",
        "print('Student details based on name in descending order',sorted(arr,key = operator.itemgetter(1),reverse = True))"
      ],
      "execution_count": 3,
      "outputs": [
        {
          "output_type": "stream",
          "text": [
            "Enter no of students: 3\n",
            "Enter rollno 1: 12\n",
            "Enter name 1: ramesh\n",
            "Enter rollno 2: 5\n",
            "Enter name 2: suresh\n",
            "Enter rollno 3: 8\n",
            "Enter name 3: ganesh\n",
            "Student details based on rollno in ascending order [(5, 'suresh'), (8, 'ganesh'), (12, 'ramesh')]\n",
            "Student details based on rollno in descending order [(12, 'ramesh'), (8, 'ganesh'), (5, 'suresh')]\n",
            "Student details based on name in ascending order [(8, 'ganesh'), (12, 'ramesh'), (5, 'suresh')]\n",
            "Student details based on name in descending order [(5, 'suresh'), (12, 'ramesh'), (8, 'ganesh')]\n"
          ],
          "name": "stdout"
        }
      ]
    },
    {
      "cell_type": "code",
      "metadata": {
        "id": "uT0CmYM_2dTU",
        "colab_type": "code",
        "colab": {
          "base_uri": "https://localhost:8080/",
          "height": 67
        },
        "outputId": "79d006c2-d45b-4f23-ed03-e047b44e99f8"
      },
      "source": [
        "# Python Program to Detect if Two Strings are Anagrams \n",
        "# ( They are  the two strings which have same length and same words which may be different in their order)\n",
        "\n",
        "s1 = input('Enter the 1st string: ')\n",
        "s2 = input('Enter the 2nd string: ')\n",
        "if len(s1) == len(s2) and sorted(set(s1)) == sorted(set(s2)):\n",
        "  print('Strings are Anagrams')\n",
        "else:\n",
        "  print('Strings are not Anagrams')"
      ],
      "execution_count": 7,
      "outputs": [
        {
          "output_type": "stream",
          "text": [
            "Enter the 1st string: car\n",
            "Enter the 2nd string: rca\n",
            "Strings are Anagrams\n"
          ],
          "name": "stdout"
        }
      ]
    }
  ]
}