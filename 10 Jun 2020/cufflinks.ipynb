{
  "nbformat": 4,
  "nbformat_minor": 0,
  "metadata": {
    "colab": {
      "name": "plot1",
      "provenance": [],
      "collapsed_sections": []
    },
    "kernelspec": {
      "name": "python3",
      "display_name": "Python 3"
    }
  },
  "cells": [
    {
      "cell_type": "code",
      "metadata": {
        "id": "jWr1miIFx7HK",
        "colab_type": "code",
        "colab": {}
      },
      "source": [
        "import pandas as pd\n",
        "import numpy as np\n",
        "import plotly as pl\n",
        "import cufflinks as cf\n",
        "import plotly.offline as po\n",
        "%matplotlib inline"
      ],
      "execution_count": 0,
      "outputs": []
    },
    {
      "cell_type": "code",
      "metadata": {
        "id": "4uMi-0usy4xr",
        "colab_type": "code",
        "outputId": "387ccce4-3657-4d88-bc1d-430530b7cb43",
        "colab": {
          "base_uri": "https://localhost:8080/",
          "height": 17
        }
      },
      "source": [
        "po.init_notebook_mode(connected=True)"
      ],
      "execution_count": 81,
      "outputs": [
        {
          "output_type": "display_data",
          "data": {
            "text/html": [
              "        <script type=\"text/javascript\">\n",
              "        window.PlotlyConfig = {MathJaxConfig: 'local'};\n",
              "        if (window.MathJax) {MathJax.Hub.Config({SVG: {font: \"STIX-Web\"}});}\n",
              "        if (typeof require !== 'undefined') {\n",
              "        require.undef(\"plotly\");\n",
              "        requirejs.config({\n",
              "            paths: {\n",
              "                'plotly': ['https://cdn.plot.ly/plotly-latest.min']\n",
              "            }\n",
              "        });\n",
              "        require(['plotly'], function(Plotly) {\n",
              "            window._Plotly = Plotly;\n",
              "        });\n",
              "        }\n",
              "        </script>\n",
              "        "
            ]
          },
          "metadata": {
            "tags": []
          }
        }
      ]
    },
    {
      "cell_type": "code",
      "metadata": {
        "id": "VZnEHG_L0VgD",
        "colab_type": "code",
        "outputId": "c81ae151-a93f-42b9-be95-876bdb40ffdd",
        "colab": {
          "base_uri": "https://localhost:8080/",
          "height": 17
        }
      },
      "source": [
        "cf.go_offline()"
      ],
      "execution_count": 82,
      "outputs": [
        {
          "output_type": "display_data",
          "data": {
            "text/html": [
              "        <script type=\"text/javascript\">\n",
              "        window.PlotlyConfig = {MathJaxConfig: 'local'};\n",
              "        if (window.MathJax) {MathJax.Hub.Config({SVG: {font: \"STIX-Web\"}});}\n",
              "        if (typeof require !== 'undefined') {\n",
              "        require.undef(\"plotly\");\n",
              "        requirejs.config({\n",
              "            paths: {\n",
              "                'plotly': ['https://cdn.plot.ly/plotly-latest.min']\n",
              "            }\n",
              "        });\n",
              "        require(['plotly'], function(Plotly) {\n",
              "            window._Plotly = Plotly;\n",
              "        });\n",
              "        }\n",
              "        </script>\n",
              "        "
            ]
          },
          "metadata": {
            "tags": []
          }
        }
      ]
    },
    {
      "cell_type": "code",
      "metadata": {
        "id": "T7c6Errv0ebf",
        "colab_type": "code",
        "colab": {}
      },
      "source": [
        "df = pd.DataFrame(np.random.rand(100,5) , columns=['a','b','c','d','e'])"
      ],
      "execution_count": 0,
      "outputs": []
    },
    {
      "cell_type": "code",
      "metadata": {
        "id": "ilqSqV7l3XIp",
        "colab_type": "code",
        "outputId": "25127d94-9812-4642-913a-3f1746136d78",
        "colab": {
          "base_uri": "https://localhost:8080/",
          "height": 542
        }
      },
      "source": [
        "df.iplot(kind='scatter',x='a',y='b',mode='markers',size=7,symbol='x')"
      ],
      "execution_count": 84,
      "outputs": [
        {
          "output_type": "display_data",
          "data": {
            "text/html": [
              "<div>\n",
              "        \n",
              "        \n",
              "            <div id=\"4e9cff68-0f8b-479c-b663-95be0f4d0564\" class=\"plotly-graph-div\" style=\"height:525px; width:100%;\"></div>\n",
              "            <script type=\"text/javascript\">\n",
              "                require([\"plotly\"], function(Plotly) {\n",
              "                    window.PLOTLYENV=window.PLOTLYENV || {};\n",
              "                    window.PLOTLYENV.BASE_URL='https://plot.ly';\n",
              "                    \n",
              "                if (document.getElementById(\"4e9cff68-0f8b-479c-b663-95be0f4d0564\")) {\n",
              "                    Plotly.newPlot(\n",
              "                        '4e9cff68-0f8b-479c-b663-95be0f4d0564',\n",
              "                        [{\"line\": {\"color\": \"rgba(255, 153, 51, 1.0)\", \"dash\": \"solid\", \"shape\": \"linear\", \"width\": 1.3}, \"marker\": {\"size\": 7, \"symbol\": \"x\"}, \"mode\": \"markers\", \"name\": \"b\", \"text\": \"\", \"type\": \"scatter\", \"x\": [0.37609697461376856, 0.20015150787928115, 0.9613110930688991, 0.07379151292761887, 0.5415786144642684, 0.3859342648063391, 0.972174788802087, 0.7091101037151499, 0.8954384976164633, 0.7554321511313211, 0.22217275790160596, 0.2062588459113106, 0.6686828079858399, 0.1385909969629976, 0.21628933743800915, 0.9407633460152702, 0.48633981943569793, 0.6691552476559746, 0.42559479953074264, 0.3748273382152849, 0.01101695877733655, 0.9917208269321008, 0.06628893394252156, 0.006434719636494224, 0.2752766774577283, 0.6695172339512171, 0.07851299219330088, 0.22013074769731333, 0.15180715565343328, 0.3672598705716832, 0.5487387467486701, 0.6708331417204486, 0.9641722122716029, 0.23860162675291774, 0.5595010233288253, 0.4207726965477695, 0.9296296975190127, 0.14471446112499864, 0.7482004235668012, 0.38378608705385064, 0.6592042579643931, 0.3332143646705893, 0.3213975590197603, 0.10231675890827119, 0.12001921898701451, 0.24543501694234093, 0.1547112687051263, 0.7083402558058903, 0.6141910561099395, 0.9203213180531646, 0.5192264585593097, 0.18810572200791964, 0.47376086050116795, 0.8040434645619444, 0.4973297589232646, 0.9093224563690225, 0.6574138593651496, 0.7518166791373752, 0.15137793778333286, 0.493838158900881, 0.9581497810056016, 0.12684171613837325, 0.3428605590667809, 0.6628628621864585, 0.7583618481961643, 0.015250298143215213, 0.5051731167157442, 0.6368787013670724, 0.7046551818496082, 0.639755771480962, 0.8336010946451613, 0.2076820246851756, 0.5150977091558013, 0.428652765496509, 0.7298535406519255, 0.533394380569046, 0.8406229288919806, 0.514896550694654, 0.24333737343337358, 0.23031163003017174, 0.5530993873585878, 0.7989437236541155, 0.1967445859198027, 0.08152369487640165, 0.4424218698954493, 0.8510036671202461, 0.4948547899299717, 0.9159627056706446, 0.3599765788376408, 0.283437923196066, 0.37808683387390607, 0.09468901619714476, 0.6376254008074992, 0.32429305515472284, 0.8886079420484048, 0.26336850366689935, 0.9992474933271761, 0.561038367988352, 0.364177225500636, 0.4311612070114388], \"y\": [0.7285965508552592, 0.3264395565507072, 0.17777337886531763, 0.08930993873550008, 0.8917585974979793, 0.39328479095156954, 0.661044701778079, 0.31317096036364545, 0.8641280190087983, 0.29448025520164534, 0.9172442659081431, 0.36292097680538116, 0.3554448326969416, 0.20271836303112145, 0.9693589388581938, 0.04693355571242208, 0.4890576634401125, 0.6536337883313069, 0.8854395409190047, 0.5064989724408591, 0.5177495006139676, 0.30875202542359237, 0.016240728943423655, 0.7834149745171924, 0.38603785216769193, 0.5614058829937794, 0.37200945056313195, 0.30007776657750385, 0.09628227401162892, 0.5483526487654512, 0.7385265443831003, 0.7232859926189801, 0.9265120905167069, 0.035362210377484105, 0.6672663812787749, 0.21490958585447295, 0.2034490150798055, 0.8607075458055333, 0.8041008849023151, 0.4608229570089897, 0.6083372495229005, 0.9802477288968282, 0.7062359647645287, 0.0650822657907546, 0.9861519202719178, 0.5721523248847868, 0.19751163895220247, 0.4543177601270535, 0.14261275324915823, 0.4728588624217832, 0.5592942947432572, 0.7415887756520115, 0.5391528613387303, 0.07990386340000455, 0.9094069297636461, 0.27827164172163366, 0.881728213787127, 0.27486540521877467, 0.5386164239153762, 0.11833171885609695, 0.33386808000628676, 0.9033628528313126, 0.5950396889040918, 0.7458306665974866, 0.9753740963450107, 0.7087747686929403, 0.8159432338974885, 0.06734844377307159, 0.40192055274708194, 0.4612851963857856, 0.5078709162772186, 0.8738711152991113, 0.059166742328256694, 0.6557880674981983, 0.49700229931549367, 0.05625451927382341, 0.130576304055672, 0.8008490788833187, 0.6718107056736079, 0.47653881810481447, 0.6226161066927288, 0.1861185134304596, 0.8063705664889177, 0.7907469399018273, 0.8443286598128386, 0.9814386847107586, 0.3388133906449925, 0.3281358529831484, 0.936186925412127, 0.1984755418930455, 0.637183207813849, 0.25052858666709477, 0.3222794238067487, 0.8183157529121003, 0.8656218004927918, 0.4058313927983348, 0.9985326391547292, 0.3786258261022504, 0.37241492730611514, 0.9818317910324574]}],\n",
              "                        {\"legend\": {\"bgcolor\": \"#F5F6F9\", \"font\": {\"color\": \"#4D5663\"}}, \"paper_bgcolor\": \"#F5F6F9\", \"plot_bgcolor\": \"#F5F6F9\", \"template\": {\"data\": {\"bar\": [{\"error_x\": {\"color\": \"#2a3f5f\"}, \"error_y\": {\"color\": \"#2a3f5f\"}, \"marker\": {\"line\": {\"color\": \"#E5ECF6\", \"width\": 0.5}}, \"type\": \"bar\"}], \"barpolar\": [{\"marker\": {\"line\": {\"color\": \"#E5ECF6\", \"width\": 0.5}}, \"type\": \"barpolar\"}], \"carpet\": [{\"aaxis\": {\"endlinecolor\": \"#2a3f5f\", \"gridcolor\": \"white\", \"linecolor\": \"white\", \"minorgridcolor\": \"white\", \"startlinecolor\": \"#2a3f5f\"}, \"baxis\": {\"endlinecolor\": \"#2a3f5f\", \"gridcolor\": \"white\", \"linecolor\": \"white\", \"minorgridcolor\": \"white\", \"startlinecolor\": \"#2a3f5f\"}, \"type\": \"carpet\"}], \"choropleth\": [{\"colorbar\": {\"outlinewidth\": 0, \"ticks\": \"\"}, \"type\": \"choropleth\"}], \"contour\": [{\"colorbar\": {\"outlinewidth\": 0, \"ticks\": \"\"}, \"colorscale\": [[0.0, \"#0d0887\"], [0.1111111111111111, \"#46039f\"], [0.2222222222222222, \"#7201a8\"], [0.3333333333333333, \"#9c179e\"], [0.4444444444444444, \"#bd3786\"], [0.5555555555555556, \"#d8576b\"], [0.6666666666666666, \"#ed7953\"], [0.7777777777777778, \"#fb9f3a\"], [0.8888888888888888, \"#fdca26\"], [1.0, \"#f0f921\"]], \"type\": \"contour\"}], \"contourcarpet\": [{\"colorbar\": {\"outlinewidth\": 0, \"ticks\": \"\"}, \"type\": \"contourcarpet\"}], \"heatmap\": [{\"colorbar\": {\"outlinewidth\": 0, \"ticks\": \"\"}, \"colorscale\": [[0.0, \"#0d0887\"], [0.1111111111111111, \"#46039f\"], [0.2222222222222222, \"#7201a8\"], [0.3333333333333333, \"#9c179e\"], [0.4444444444444444, \"#bd3786\"], [0.5555555555555556, \"#d8576b\"], [0.6666666666666666, \"#ed7953\"], [0.7777777777777778, \"#fb9f3a\"], [0.8888888888888888, \"#fdca26\"], [1.0, \"#f0f921\"]], \"type\": \"heatmap\"}], \"heatmapgl\": [{\"colorbar\": {\"outlinewidth\": 0, \"ticks\": \"\"}, \"colorscale\": [[0.0, \"#0d0887\"], [0.1111111111111111, \"#46039f\"], [0.2222222222222222, \"#7201a8\"], [0.3333333333333333, \"#9c179e\"], [0.4444444444444444, \"#bd3786\"], [0.5555555555555556, \"#d8576b\"], [0.6666666666666666, \"#ed7953\"], [0.7777777777777778, \"#fb9f3a\"], [0.8888888888888888, \"#fdca26\"], [1.0, \"#f0f921\"]], \"type\": \"heatmapgl\"}], \"histogram\": [{\"marker\": {\"colorbar\": {\"outlinewidth\": 0, \"ticks\": \"\"}}, \"type\": \"histogram\"}], \"histogram2d\": [{\"colorbar\": {\"outlinewidth\": 0, \"ticks\": \"\"}, \"colorscale\": [[0.0, \"#0d0887\"], [0.1111111111111111, \"#46039f\"], [0.2222222222222222, \"#7201a8\"], [0.3333333333333333, \"#9c179e\"], [0.4444444444444444, \"#bd3786\"], [0.5555555555555556, \"#d8576b\"], [0.6666666666666666, \"#ed7953\"], [0.7777777777777778, \"#fb9f3a\"], [0.8888888888888888, \"#fdca26\"], [1.0, \"#f0f921\"]], \"type\": \"histogram2d\"}], \"histogram2dcontour\": [{\"colorbar\": {\"outlinewidth\": 0, \"ticks\": \"\"}, \"colorscale\": [[0.0, \"#0d0887\"], [0.1111111111111111, \"#46039f\"], [0.2222222222222222, \"#7201a8\"], [0.3333333333333333, \"#9c179e\"], [0.4444444444444444, \"#bd3786\"], [0.5555555555555556, \"#d8576b\"], [0.6666666666666666, \"#ed7953\"], [0.7777777777777778, \"#fb9f3a\"], [0.8888888888888888, \"#fdca26\"], [1.0, \"#f0f921\"]], \"type\": \"histogram2dcontour\"}], \"mesh3d\": [{\"colorbar\": {\"outlinewidth\": 0, \"ticks\": \"\"}, \"type\": \"mesh3d\"}], \"parcoords\": [{\"line\": {\"colorbar\": {\"outlinewidth\": 0, \"ticks\": \"\"}}, \"type\": \"parcoords\"}], \"pie\": [{\"automargin\": true, \"type\": \"pie\"}], \"scatter\": [{\"marker\": {\"colorbar\": {\"outlinewidth\": 0, \"ticks\": \"\"}}, \"type\": \"scatter\"}], \"scatter3d\": [{\"line\": {\"colorbar\": {\"outlinewidth\": 0, \"ticks\": \"\"}}, \"marker\": {\"colorbar\": {\"outlinewidth\": 0, \"ticks\": \"\"}}, \"type\": \"scatter3d\"}], \"scattercarpet\": [{\"marker\": {\"colorbar\": {\"outlinewidth\": 0, \"ticks\": \"\"}}, \"type\": \"scattercarpet\"}], \"scattergeo\": [{\"marker\": {\"colorbar\": {\"outlinewidth\": 0, \"ticks\": \"\"}}, \"type\": \"scattergeo\"}], \"scattergl\": [{\"marker\": {\"colorbar\": {\"outlinewidth\": 0, \"ticks\": \"\"}}, \"type\": \"scattergl\"}], \"scattermapbox\": [{\"marker\": {\"colorbar\": {\"outlinewidth\": 0, \"ticks\": \"\"}}, \"type\": \"scattermapbox\"}], \"scatterpolar\": [{\"marker\": {\"colorbar\": {\"outlinewidth\": 0, \"ticks\": \"\"}}, \"type\": \"scatterpolar\"}], \"scatterpolargl\": [{\"marker\": {\"colorbar\": {\"outlinewidth\": 0, \"ticks\": \"\"}}, \"type\": \"scatterpolargl\"}], \"scatterternary\": [{\"marker\": {\"colorbar\": {\"outlinewidth\": 0, \"ticks\": \"\"}}, \"type\": \"scatterternary\"}], \"surface\": [{\"colorbar\": {\"outlinewidth\": 0, \"ticks\": \"\"}, \"colorscale\": [[0.0, \"#0d0887\"], [0.1111111111111111, \"#46039f\"], [0.2222222222222222, \"#7201a8\"], [0.3333333333333333, \"#9c179e\"], [0.4444444444444444, \"#bd3786\"], [0.5555555555555556, \"#d8576b\"], [0.6666666666666666, \"#ed7953\"], [0.7777777777777778, \"#fb9f3a\"], [0.8888888888888888, \"#fdca26\"], [1.0, \"#f0f921\"]], \"type\": \"surface\"}], \"table\": [{\"cells\": {\"fill\": {\"color\": \"#EBF0F8\"}, \"line\": {\"color\": \"white\"}}, \"header\": {\"fill\": {\"color\": \"#C8D4E3\"}, \"line\": {\"color\": \"white\"}}, \"type\": \"table\"}]}, \"layout\": {\"annotationdefaults\": {\"arrowcolor\": \"#2a3f5f\", \"arrowhead\": 0, \"arrowwidth\": 1}, \"coloraxis\": {\"colorbar\": {\"outlinewidth\": 0, \"ticks\": \"\"}}, \"colorscale\": {\"diverging\": [[0, \"#8e0152\"], [0.1, \"#c51b7d\"], [0.2, \"#de77ae\"], [0.3, \"#f1b6da\"], [0.4, \"#fde0ef\"], [0.5, \"#f7f7f7\"], [0.6, \"#e6f5d0\"], [0.7, \"#b8e186\"], [0.8, \"#7fbc41\"], [0.9, \"#4d9221\"], [1, \"#276419\"]], \"sequential\": [[0.0, \"#0d0887\"], [0.1111111111111111, \"#46039f\"], [0.2222222222222222, \"#7201a8\"], [0.3333333333333333, \"#9c179e\"], [0.4444444444444444, \"#bd3786\"], [0.5555555555555556, \"#d8576b\"], [0.6666666666666666, \"#ed7953\"], [0.7777777777777778, \"#fb9f3a\"], [0.8888888888888888, \"#fdca26\"], [1.0, \"#f0f921\"]], \"sequentialminus\": [[0.0, \"#0d0887\"], [0.1111111111111111, \"#46039f\"], [0.2222222222222222, \"#7201a8\"], [0.3333333333333333, \"#9c179e\"], [0.4444444444444444, \"#bd3786\"], [0.5555555555555556, \"#d8576b\"], [0.6666666666666666, \"#ed7953\"], [0.7777777777777778, \"#fb9f3a\"], [0.8888888888888888, \"#fdca26\"], [1.0, \"#f0f921\"]]}, \"colorway\": [\"#636efa\", \"#EF553B\", \"#00cc96\", \"#ab63fa\", \"#FFA15A\", \"#19d3f3\", \"#FF6692\", \"#B6E880\", \"#FF97FF\", \"#FECB52\"], \"font\": {\"color\": \"#2a3f5f\"}, \"geo\": {\"bgcolor\": \"white\", \"lakecolor\": \"white\", \"landcolor\": \"#E5ECF6\", \"showlakes\": true, \"showland\": true, \"subunitcolor\": \"white\"}, \"hoverlabel\": {\"align\": \"left\"}, \"hovermode\": \"closest\", \"mapbox\": {\"style\": \"light\"}, \"paper_bgcolor\": \"white\", \"plot_bgcolor\": \"#E5ECF6\", \"polar\": {\"angularaxis\": {\"gridcolor\": \"white\", \"linecolor\": \"white\", \"ticks\": \"\"}, \"bgcolor\": \"#E5ECF6\", \"radialaxis\": {\"gridcolor\": \"white\", \"linecolor\": \"white\", \"ticks\": \"\"}}, \"scene\": {\"xaxis\": {\"backgroundcolor\": \"#E5ECF6\", \"gridcolor\": \"white\", \"gridwidth\": 2, \"linecolor\": \"white\", \"showbackground\": true, \"ticks\": \"\", \"zerolinecolor\": \"white\"}, \"yaxis\": {\"backgroundcolor\": \"#E5ECF6\", \"gridcolor\": \"white\", \"gridwidth\": 2, \"linecolor\": \"white\", \"showbackground\": true, \"ticks\": \"\", \"zerolinecolor\": \"white\"}, \"zaxis\": {\"backgroundcolor\": \"#E5ECF6\", \"gridcolor\": \"white\", \"gridwidth\": 2, \"linecolor\": \"white\", \"showbackground\": true, \"ticks\": \"\", \"zerolinecolor\": \"white\"}}, \"shapedefaults\": {\"line\": {\"color\": \"#2a3f5f\"}}, \"ternary\": {\"aaxis\": {\"gridcolor\": \"white\", \"linecolor\": \"white\", \"ticks\": \"\"}, \"baxis\": {\"gridcolor\": \"white\", \"linecolor\": \"white\", \"ticks\": \"\"}, \"bgcolor\": \"#E5ECF6\", \"caxis\": {\"gridcolor\": \"white\", \"linecolor\": \"white\", \"ticks\": \"\"}}, \"title\": {\"x\": 0.05}, \"xaxis\": {\"automargin\": true, \"gridcolor\": \"white\", \"linecolor\": \"white\", \"ticks\": \"\", \"title\": {\"standoff\": 15}, \"zerolinecolor\": \"white\", \"zerolinewidth\": 2}, \"yaxis\": {\"automargin\": true, \"gridcolor\": \"white\", \"linecolor\": \"white\", \"ticks\": \"\", \"title\": {\"standoff\": 15}, \"zerolinecolor\": \"white\", \"zerolinewidth\": 2}}}, \"title\": {\"font\": {\"color\": \"#4D5663\"}}, \"xaxis\": {\"gridcolor\": \"#E1E5ED\", \"showgrid\": true, \"tickfont\": {\"color\": \"#4D5663\"}, \"title\": {\"font\": {\"color\": \"#4D5663\"}, \"text\": \"\"}, \"zerolinecolor\": \"#E1E5ED\"}, \"yaxis\": {\"gridcolor\": \"#E1E5ED\", \"showgrid\": true, \"tickfont\": {\"color\": \"#4D5663\"}, \"title\": {\"font\": {\"color\": \"#4D5663\"}, \"text\": \"\"}, \"zerolinecolor\": \"#E1E5ED\"}},\n",
              "                        {\"showLink\": true, \"linkText\": \"Export to plot.ly\", \"plotlyServerURL\": \"https://plot.ly\", \"responsive\": true}\n",
              "                    ).then(function(){\n",
              "                            \n",
              "var gd = document.getElementById('4e9cff68-0f8b-479c-b663-95be0f4d0564');\n",
              "var x = new MutationObserver(function (mutations, observer) {{\n",
              "        var display = window.getComputedStyle(gd).display;\n",
              "        if (!display || display === 'none') {{\n",
              "            console.log([gd, 'removed!']);\n",
              "            Plotly.purge(gd);\n",
              "            observer.disconnect();\n",
              "        }}\n",
              "}});\n",
              "\n",
              "// Listen for the removal of the full notebook cells\n",
              "var notebookContainer = gd.closest('#notebook-container');\n",
              "if (notebookContainer) {{\n",
              "    x.observe(notebookContainer, {childList: true});\n",
              "}}\n",
              "\n",
              "// Listen for the clearing of the current output cell\n",
              "var outputEl = gd.closest('.output');\n",
              "if (outputEl) {{\n",
              "    x.observe(outputEl, {childList: true});\n",
              "}}\n",
              "\n",
              "                        })\n",
              "                };\n",
              "                });\n",
              "            </script>\n",
              "        </div>"
            ],
            "application/vnd.plotly.v1+json": {
              "data": [
                {
                  "name": "b",
                  "text": "",
                  "y": [
                    0.7285965508552592,
                    0.3264395565507072,
                    0.17777337886531763,
                    0.08930993873550008,
                    0.8917585974979793,
                    0.39328479095156954,
                    0.661044701778079,
                    0.31317096036364545,
                    0.8641280190087983,
                    0.29448025520164534,
                    0.9172442659081431,
                    0.36292097680538116,
                    0.3554448326969416,
                    0.20271836303112145,
                    0.9693589388581938,
                    0.04693355571242208,
                    0.4890576634401125,
                    0.6536337883313069,
                    0.8854395409190047,
                    0.5064989724408591,
                    0.5177495006139676,
                    0.30875202542359237,
                    0.016240728943423655,
                    0.7834149745171924,
                    0.38603785216769193,
                    0.5614058829937794,
                    0.37200945056313195,
                    0.30007776657750385,
                    0.09628227401162892,
                    0.5483526487654512,
                    0.7385265443831003,
                    0.7232859926189801,
                    0.9265120905167069,
                    0.035362210377484105,
                    0.6672663812787749,
                    0.21490958585447295,
                    0.2034490150798055,
                    0.8607075458055333,
                    0.8041008849023151,
                    0.4608229570089897,
                    0.6083372495229005,
                    0.9802477288968282,
                    0.7062359647645287,
                    0.0650822657907546,
                    0.9861519202719178,
                    0.5721523248847868,
                    0.19751163895220247,
                    0.4543177601270535,
                    0.14261275324915823,
                    0.4728588624217832,
                    0.5592942947432572,
                    0.7415887756520115,
                    0.5391528613387303,
                    0.07990386340000455,
                    0.9094069297636461,
                    0.27827164172163366,
                    0.881728213787127,
                    0.27486540521877467,
                    0.5386164239153762,
                    0.11833171885609695,
                    0.33386808000628676,
                    0.9033628528313126,
                    0.5950396889040918,
                    0.7458306665974866,
                    0.9753740963450107,
                    0.7087747686929403,
                    0.8159432338974885,
                    0.06734844377307159,
                    0.40192055274708194,
                    0.4612851963857856,
                    0.5078709162772186,
                    0.8738711152991113,
                    0.059166742328256694,
                    0.6557880674981983,
                    0.49700229931549367,
                    0.05625451927382341,
                    0.130576304055672,
                    0.8008490788833187,
                    0.6718107056736079,
                    0.47653881810481447,
                    0.6226161066927288,
                    0.1861185134304596,
                    0.8063705664889177,
                    0.7907469399018273,
                    0.8443286598128386,
                    0.9814386847107586,
                    0.3388133906449925,
                    0.3281358529831484,
                    0.936186925412127,
                    0.1984755418930455,
                    0.637183207813849,
                    0.25052858666709477,
                    0.3222794238067487,
                    0.8183157529121003,
                    0.8656218004927918,
                    0.4058313927983348,
                    0.9985326391547292,
                    0.3786258261022504,
                    0.37241492730611514,
                    0.9818317910324574
                  ],
                  "mode": "markers",
                  "marker": {
                    "symbol": "x",
                    "size": 7
                  },
                  "x": [
                    0.37609697461376856,
                    0.20015150787928115,
                    0.9613110930688991,
                    0.07379151292761887,
                    0.5415786144642684,
                    0.3859342648063391,
                    0.972174788802087,
                    0.7091101037151499,
                    0.8954384976164633,
                    0.7554321511313211,
                    0.22217275790160596,
                    0.2062588459113106,
                    0.6686828079858399,
                    0.1385909969629976,
                    0.21628933743800915,
                    0.9407633460152702,
                    0.48633981943569793,
                    0.6691552476559746,
                    0.42559479953074264,
                    0.3748273382152849,
                    0.01101695877733655,
                    0.9917208269321008,
                    0.06628893394252156,
                    0.006434719636494224,
                    0.2752766774577283,
                    0.6695172339512171,
                    0.07851299219330088,
                    0.22013074769731333,
                    0.15180715565343328,
                    0.3672598705716832,
                    0.5487387467486701,
                    0.6708331417204486,
                    0.9641722122716029,
                    0.23860162675291774,
                    0.5595010233288253,
                    0.4207726965477695,
                    0.9296296975190127,
                    0.14471446112499864,
                    0.7482004235668012,
                    0.38378608705385064,
                    0.6592042579643931,
                    0.3332143646705893,
                    0.3213975590197603,
                    0.10231675890827119,
                    0.12001921898701451,
                    0.24543501694234093,
                    0.1547112687051263,
                    0.7083402558058903,
                    0.6141910561099395,
                    0.9203213180531646,
                    0.5192264585593097,
                    0.18810572200791964,
                    0.47376086050116795,
                    0.8040434645619444,
                    0.4973297589232646,
                    0.9093224563690225,
                    0.6574138593651496,
                    0.7518166791373752,
                    0.15137793778333286,
                    0.493838158900881,
                    0.9581497810056016,
                    0.12684171613837325,
                    0.3428605590667809,
                    0.6628628621864585,
                    0.7583618481961643,
                    0.015250298143215213,
                    0.5051731167157442,
                    0.6368787013670724,
                    0.7046551818496082,
                    0.639755771480962,
                    0.8336010946451613,
                    0.2076820246851756,
                    0.5150977091558013,
                    0.428652765496509,
                    0.7298535406519255,
                    0.533394380569046,
                    0.8406229288919806,
                    0.514896550694654,
                    0.24333737343337358,
                    0.23031163003017174,
                    0.5530993873585878,
                    0.7989437236541155,
                    0.1967445859198027,
                    0.08152369487640165,
                    0.4424218698954493,
                    0.8510036671202461,
                    0.4948547899299717,
                    0.9159627056706446,
                    0.3599765788376408,
                    0.283437923196066,
                    0.37808683387390607,
                    0.09468901619714476,
                    0.6376254008074992,
                    0.32429305515472284,
                    0.8886079420484048,
                    0.26336850366689935,
                    0.9992474933271761,
                    0.561038367988352,
                    0.364177225500636,
                    0.4311612070114388
                  ],
                  "line": {
                    "color": "rgba(255, 153, 51, 1.0)",
                    "dash": "solid",
                    "shape": "linear",
                    "width": 1.3
                  },
                  "type": "scatter"
                }
              ],
              "config": {
                "plotlyServerURL": "https://plot.ly",
                "linkText": "Export to plot.ly",
                "showLink": true
              },
              "layout": {
                "template": {
                  "layout": {
                    "shapedefaults": {
                      "line": {
                        "color": "#2a3f5f"
                      }
                    },
                    "polar": {
                      "radialaxis": {
                        "ticks": "",
                        "gridcolor": "white",
                        "linecolor": "white"
                      },
                      "bgcolor": "#E5ECF6",
                      "angularaxis": {
                        "ticks": "",
                        "gridcolor": "white",
                        "linecolor": "white"
                      }
                    },
                    "colorway": [
                      "#636efa",
                      "#EF553B",
                      "#00cc96",
                      "#ab63fa",
                      "#FFA15A",
                      "#19d3f3",
                      "#FF6692",
                      "#B6E880",
                      "#FF97FF",
                      "#FECB52"
                    ],
                    "xaxis": {
                      "automargin": true,
                      "title": {
                        "standoff": 15
                      },
                      "zerolinewidth": 2,
                      "ticks": "",
                      "zerolinecolor": "white",
                      "gridcolor": "white",
                      "linecolor": "white"
                    },
                    "colorscale": {
                      "diverging": [
                        [
                          0,
                          "#8e0152"
                        ],
                        [
                          0.1,
                          "#c51b7d"
                        ],
                        [
                          0.2,
                          "#de77ae"
                        ],
                        [
                          0.3,
                          "#f1b6da"
                        ],
                        [
                          0.4,
                          "#fde0ef"
                        ],
                        [
                          0.5,
                          "#f7f7f7"
                        ],
                        [
                          0.6,
                          "#e6f5d0"
                        ],
                        [
                          0.7,
                          "#b8e186"
                        ],
                        [
                          0.8,
                          "#7fbc41"
                        ],
                        [
                          0.9,
                          "#4d9221"
                        ],
                        [
                          1,
                          "#276419"
                        ]
                      ],
                      "sequential": [
                        [
                          0,
                          "#0d0887"
                        ],
                        [
                          0.1111111111111111,
                          "#46039f"
                        ],
                        [
                          0.2222222222222222,
                          "#7201a8"
                        ],
                        [
                          0.3333333333333333,
                          "#9c179e"
                        ],
                        [
                          0.4444444444444444,
                          "#bd3786"
                        ],
                        [
                          0.5555555555555556,
                          "#d8576b"
                        ],
                        [
                          0.6666666666666666,
                          "#ed7953"
                        ],
                        [
                          0.7777777777777778,
                          "#fb9f3a"
                        ],
                        [
                          0.8888888888888888,
                          "#fdca26"
                        ],
                        [
                          1,
                          "#f0f921"
                        ]
                      ],
                      "sequentialminus": [
                        [
                          0,
                          "#0d0887"
                        ],
                        [
                          0.1111111111111111,
                          "#46039f"
                        ],
                        [
                          0.2222222222222222,
                          "#7201a8"
                        ],
                        [
                          0.3333333333333333,
                          "#9c179e"
                        ],
                        [
                          0.4444444444444444,
                          "#bd3786"
                        ],
                        [
                          0.5555555555555556,
                          "#d8576b"
                        ],
                        [
                          0.6666666666666666,
                          "#ed7953"
                        ],
                        [
                          0.7777777777777778,
                          "#fb9f3a"
                        ],
                        [
                          0.8888888888888888,
                          "#fdca26"
                        ],
                        [
                          1,
                          "#f0f921"
                        ]
                      ]
                    },
                    "paper_bgcolor": "white",
                    "plot_bgcolor": "#E5ECF6",
                    "title": {
                      "x": 0.05
                    },
                    "scene": {
                      "zaxis": {
                        "backgroundcolor": "#E5ECF6",
                        "ticks": "",
                        "gridwidth": 2,
                        "showbackground": true,
                        "zerolinecolor": "white",
                        "gridcolor": "white",
                        "linecolor": "white"
                      },
                      "xaxis": {
                        "backgroundcolor": "#E5ECF6",
                        "ticks": "",
                        "gridwidth": 2,
                        "showbackground": true,
                        "zerolinecolor": "white",
                        "gridcolor": "white",
                        "linecolor": "white"
                      },
                      "yaxis": {
                        "backgroundcolor": "#E5ECF6",
                        "ticks": "",
                        "gridwidth": 2,
                        "showbackground": true,
                        "zerolinecolor": "white",
                        "gridcolor": "white",
                        "linecolor": "white"
                      }
                    },
                    "yaxis": {
                      "automargin": true,
                      "title": {
                        "standoff": 15
                      },
                      "zerolinewidth": 2,
                      "ticks": "",
                      "zerolinecolor": "white",
                      "gridcolor": "white",
                      "linecolor": "white"
                    },
                    "annotationdefaults": {
                      "arrowwidth": 1,
                      "arrowhead": 0,
                      "arrowcolor": "#2a3f5f"
                    },
                    "hoverlabel": {
                      "align": "left"
                    },
                    "ternary": {
                      "bgcolor": "#E5ECF6",
                      "baxis": {
                        "ticks": "",
                        "gridcolor": "white",
                        "linecolor": "white"
                      },
                      "caxis": {
                        "ticks": "",
                        "gridcolor": "white",
                        "linecolor": "white"
                      },
                      "aaxis": {
                        "ticks": "",
                        "gridcolor": "white",
                        "linecolor": "white"
                      }
                    },
                    "mapbox": {
                      "style": "light"
                    },
                    "hovermode": "closest",
                    "font": {
                      "color": "#2a3f5f"
                    },
                    "geo": {
                      "showland": true,
                      "landcolor": "#E5ECF6",
                      "showlakes": true,
                      "bgcolor": "white",
                      "subunitcolor": "white",
                      "lakecolor": "white"
                    },
                    "coloraxis": {
                      "colorbar": {
                        "outlinewidth": 0,
                        "ticks": ""
                      }
                    }
                  },
                  "data": {
                    "mesh3d": [
                      {
                        "colorbar": {
                          "outlinewidth": 0,
                          "ticks": ""
                        },
                        "type": "mesh3d"
                      }
                    ],
                    "scattercarpet": [
                      {
                        "marker": {
                          "colorbar": {
                            "outlinewidth": 0,
                            "ticks": ""
                          }
                        },
                        "type": "scattercarpet"
                      }
                    ],
                    "pie": [
                      {
                        "automargin": true,
                        "type": "pie"
                      }
                    ],
                    "surface": [
                      {
                        "colorbar": {
                          "outlinewidth": 0,
                          "ticks": ""
                        },
                        "type": "surface",
                        "colorscale": [
                          [
                            0,
                            "#0d0887"
                          ],
                          [
                            0.1111111111111111,
                            "#46039f"
                          ],
                          [
                            0.2222222222222222,
                            "#7201a8"
                          ],
                          [
                            0.3333333333333333,
                            "#9c179e"
                          ],
                          [
                            0.4444444444444444,
                            "#bd3786"
                          ],
                          [
                            0.5555555555555556,
                            "#d8576b"
                          ],
                          [
                            0.6666666666666666,
                            "#ed7953"
                          ],
                          [
                            0.7777777777777778,
                            "#fb9f3a"
                          ],
                          [
                            0.8888888888888888,
                            "#fdca26"
                          ],
                          [
                            1,
                            "#f0f921"
                          ]
                        ]
                      }
                    ],
                    "table": [
                      {
                        "header": {
                          "line": {
                            "color": "white"
                          },
                          "fill": {
                            "color": "#C8D4E3"
                          }
                        },
                        "cells": {
                          "line": {
                            "color": "white"
                          },
                          "fill": {
                            "color": "#EBF0F8"
                          }
                        },
                        "type": "table"
                      }
                    ],
                    "scatterpolargl": [
                      {
                        "marker": {
                          "colorbar": {
                            "outlinewidth": 0,
                            "ticks": ""
                          }
                        },
                        "type": "scatterpolargl"
                      }
                    ],
                    "contour": [
                      {
                        "colorbar": {
                          "outlinewidth": 0,
                          "ticks": ""
                        },
                        "type": "contour",
                        "colorscale": [
                          [
                            0,
                            "#0d0887"
                          ],
                          [
                            0.1111111111111111,
                            "#46039f"
                          ],
                          [
                            0.2222222222222222,
                            "#7201a8"
                          ],
                          [
                            0.3333333333333333,
                            "#9c179e"
                          ],
                          [
                            0.4444444444444444,
                            "#bd3786"
                          ],
                          [
                            0.5555555555555556,
                            "#d8576b"
                          ],
                          [
                            0.6666666666666666,
                            "#ed7953"
                          ],
                          [
                            0.7777777777777778,
                            "#fb9f3a"
                          ],
                          [
                            0.8888888888888888,
                            "#fdca26"
                          ],
                          [
                            1,
                            "#f0f921"
                          ]
                        ]
                      }
                    ],
                    "carpet": [
                      {
                        "type": "carpet",
                        "baxis": {
                          "minorgridcolor": "white",
                          "gridcolor": "white",
                          "linecolor": "white",
                          "endlinecolor": "#2a3f5f",
                          "startlinecolor": "#2a3f5f"
                        },
                        "aaxis": {
                          "minorgridcolor": "white",
                          "gridcolor": "white",
                          "linecolor": "white",
                          "endlinecolor": "#2a3f5f",
                          "startlinecolor": "#2a3f5f"
                        }
                      }
                    ],
                    "contourcarpet": [
                      {
                        "colorbar": {
                          "outlinewidth": 0,
                          "ticks": ""
                        },
                        "type": "contourcarpet"
                      }
                    ],
                    "heatmap": [
                      {
                        "colorbar": {
                          "outlinewidth": 0,
                          "ticks": ""
                        },
                        "type": "heatmap",
                        "colorscale": [
                          [
                            0,
                            "#0d0887"
                          ],
                          [
                            0.1111111111111111,
                            "#46039f"
                          ],
                          [
                            0.2222222222222222,
                            "#7201a8"
                          ],
                          [
                            0.3333333333333333,
                            "#9c179e"
                          ],
                          [
                            0.4444444444444444,
                            "#bd3786"
                          ],
                          [
                            0.5555555555555556,
                            "#d8576b"
                          ],
                          [
                            0.6666666666666666,
                            "#ed7953"
                          ],
                          [
                            0.7777777777777778,
                            "#fb9f3a"
                          ],
                          [
                            0.8888888888888888,
                            "#fdca26"
                          ],
                          [
                            1,
                            "#f0f921"
                          ]
                        ]
                      }
                    ],
                    "scattermapbox": [
                      {
                        "marker": {
                          "colorbar": {
                            "outlinewidth": 0,
                            "ticks": ""
                          }
                        },
                        "type": "scattermapbox"
                      }
                    ],
                    "scatter3d": [
                      {
                        "marker": {
                          "colorbar": {
                            "outlinewidth": 0,
                            "ticks": ""
                          }
                        },
                        "line": {
                          "colorbar": {
                            "outlinewidth": 0,
                            "ticks": ""
                          }
                        },
                        "type": "scatter3d"
                      }
                    ],
                    "scattergl": [
                      {
                        "marker": {
                          "colorbar": {
                            "outlinewidth": 0,
                            "ticks": ""
                          }
                        },
                        "type": "scattergl"
                      }
                    ],
                    "scatterternary": [
                      {
                        "marker": {
                          "colorbar": {
                            "outlinewidth": 0,
                            "ticks": ""
                          }
                        },
                        "type": "scatterternary"
                      }
                    ],
                    "histogram": [
                      {
                        "marker": {
                          "colorbar": {
                            "outlinewidth": 0,
                            "ticks": ""
                          }
                        },
                        "type": "histogram"
                      }
                    ],
                    "heatmapgl": [
                      {
                        "colorbar": {
                          "outlinewidth": 0,
                          "ticks": ""
                        },
                        "type": "heatmapgl",
                        "colorscale": [
                          [
                            0,
                            "#0d0887"
                          ],
                          [
                            0.1111111111111111,
                            "#46039f"
                          ],
                          [
                            0.2222222222222222,
                            "#7201a8"
                          ],
                          [
                            0.3333333333333333,
                            "#9c179e"
                          ],
                          [
                            0.4444444444444444,
                            "#bd3786"
                          ],
                          [
                            0.5555555555555556,
                            "#d8576b"
                          ],
                          [
                            0.6666666666666666,
                            "#ed7953"
                          ],
                          [
                            0.7777777777777778,
                            "#fb9f3a"
                          ],
                          [
                            0.8888888888888888,
                            "#fdca26"
                          ],
                          [
                            1,
                            "#f0f921"
                          ]
                        ]
                      }
                    ],
                    "scatterpolar": [
                      {
                        "marker": {
                          "colorbar": {
                            "outlinewidth": 0,
                            "ticks": ""
                          }
                        },
                        "type": "scatterpolar"
                      }
                    ],
                    "histogram2d": [
                      {
                        "colorbar": {
                          "outlinewidth": 0,
                          "ticks": ""
                        },
                        "type": "histogram2d",
                        "colorscale": [
                          [
                            0,
                            "#0d0887"
                          ],
                          [
                            0.1111111111111111,
                            "#46039f"
                          ],
                          [
                            0.2222222222222222,
                            "#7201a8"
                          ],
                          [
                            0.3333333333333333,
                            "#9c179e"
                          ],
                          [
                            0.4444444444444444,
                            "#bd3786"
                          ],
                          [
                            0.5555555555555556,
                            "#d8576b"
                          ],
                          [
                            0.6666666666666666,
                            "#ed7953"
                          ],
                          [
                            0.7777777777777778,
                            "#fb9f3a"
                          ],
                          [
                            0.8888888888888888,
                            "#fdca26"
                          ],
                          [
                            1,
                            "#f0f921"
                          ]
                        ]
                      }
                    ],
                    "scattergeo": [
                      {
                        "marker": {
                          "colorbar": {
                            "outlinewidth": 0,
                            "ticks": ""
                          }
                        },
                        "type": "scattergeo"
                      }
                    ],
                    "bar": [
                      {
                        "marker": {
                          "line": {
                            "color": "#E5ECF6",
                            "width": 0.5
                          }
                        },
                        "type": "bar",
                        "error_x": {
                          "color": "#2a3f5f"
                        },
                        "error_y": {
                          "color": "#2a3f5f"
                        }
                      }
                    ],
                    "choropleth": [
                      {
                        "colorbar": {
                          "outlinewidth": 0,
                          "ticks": ""
                        },
                        "type": "choropleth"
                      }
                    ],
                    "parcoords": [
                      {
                        "line": {
                          "colorbar": {
                            "outlinewidth": 0,
                            "ticks": ""
                          }
                        },
                        "type": "parcoords"
                      }
                    ],
                    "barpolar": [
                      {
                        "marker": {
                          "line": {
                            "color": "#E5ECF6",
                            "width": 0.5
                          }
                        },
                        "type": "barpolar"
                      }
                    ],
                    "histogram2dcontour": [
                      {
                        "colorbar": {
                          "outlinewidth": 0,
                          "ticks": ""
                        },
                        "type": "histogram2dcontour",
                        "colorscale": [
                          [
                            0,
                            "#0d0887"
                          ],
                          [
                            0.1111111111111111,
                            "#46039f"
                          ],
                          [
                            0.2222222222222222,
                            "#7201a8"
                          ],
                          [
                            0.3333333333333333,
                            "#9c179e"
                          ],
                          [
                            0.4444444444444444,
                            "#bd3786"
                          ],
                          [
                            0.5555555555555556,
                            "#d8576b"
                          ],
                          [
                            0.6666666666666666,
                            "#ed7953"
                          ],
                          [
                            0.7777777777777778,
                            "#fb9f3a"
                          ],
                          [
                            0.8888888888888888,
                            "#fdca26"
                          ],
                          [
                            1,
                            "#f0f921"
                          ]
                        ]
                      }
                    ],
                    "scatter": [
                      {
                        "marker": {
                          "colorbar": {
                            "outlinewidth": 0,
                            "ticks": ""
                          }
                        },
                        "type": "scatter"
                      }
                    ]
                  }
                },
                "title": {
                  "font": {
                    "color": "#4D5663"
                  }
                },
                "paper_bgcolor": "#F5F6F9",
                "plot_bgcolor": "#F5F6F9",
                "yaxis": {
                  "tickfont": {
                    "color": "#4D5663"
                  },
                  "zerolinecolor": "#E1E5ED",
                  "title": {
                    "text": "",
                    "font": {
                      "color": "#4D5663"
                    }
                  },
                  "gridcolor": "#E1E5ED",
                  "showgrid": true
                },
                "xaxis": {
                  "tickfont": {
                    "color": "#4D5663"
                  },
                  "zerolinecolor": "#E1E5ED",
                  "title": {
                    "text": "",
                    "font": {
                      "color": "#4D5663"
                    }
                  },
                  "gridcolor": "#E1E5ED",
                  "showgrid": true
                },
                "legend": {
                  "bgcolor": "#F5F6F9",
                  "font": {
                    "color": "#4D5663"
                  }
                }
              }
            }
          },
          "metadata": {
            "tags": []
          }
        }
      ]
    },
    {
      "cell_type": "code",
      "metadata": {
        "id": "99XpBGhXfR6n",
        "colab_type": "code",
        "outputId": "3dda186a-a0eb-42ae-8c1e-f1235f81cb32",
        "colab": {
          "base_uri": "https://localhost:8080/",
          "height": 542
        }
      },
      "source": [
        "df.iplot(kind='surface')"
      ],
      "execution_count": 85,
      "outputs": [
        {
          "output_type": "display_data",
          "data": {
            "text/html": [
              "<div>\n",
              "        \n",
              "        \n",
              "            <div id=\"11a1a17d-0211-42af-a2a9-093f9462216a\" class=\"plotly-graph-div\" style=\"height:525px; width:100%;\"></div>\n",
              "            <script type=\"text/javascript\">\n",
              "                require([\"plotly\"], function(Plotly) {\n",
              "                    window.PLOTLYENV=window.PLOTLYENV || {};\n",
              "                    window.PLOTLYENV.BASE_URL='https://plot.ly';\n",
              "                    \n",
              "                if (document.getElementById(\"11a1a17d-0211-42af-a2a9-093f9462216a\")) {\n",
              "                    Plotly.newPlot(\n",
              "                        '11a1a17d-0211-42af-a2a9-093f9462216a',\n",
              "                        [{\"colorscale\": [[0.0, \"rgb(255, 153, 51)\"], [0.1111111111111111, \"rgb(55, 128, 191)\"], [0.2222222222222222, \"rgb(50, 171, 96)\"], [0.3333333333333333, \"rgb(128, 0, 128)\"], [0.4444444444444444, \"rgb(219, 64, 82)\"], [0.5555555555555556, \"rgb(0, 128, 128)\"], [0.6666666666666666, \"rgb(255, 255, 51)\"], [0.7777777777777778, \"rgb(128, 128, 0)\"], [0.8888888888888888, \"rgb(251, 128, 114)\"], [1.0, \"rgb(128, 177, 211)\"]], \"type\": \"surface\", \"x\": [0, 1, 2, 3, 4, 5, 6, 7, 8, 9, 10, 11, 12, 13, 14, 15, 16, 17, 18, 19, 20, 21, 22, 23, 24, 25, 26, 27, 28, 29, 30, 31, 32, 33, 34, 35, 36, 37, 38, 39, 40, 41, 42, 43, 44, 45, 46, 47, 48, 49, 50, 51, 52, 53, 54, 55, 56, 57, 58, 59, 60, 61, 62, 63, 64, 65, 66, 67, 68, 69, 70, 71, 72, 73, 74, 75, 76, 77, 78, 79, 80, 81, 82, 83, 84, 85, 86, 87, 88, 89, 90, 91, 92, 93, 94, 95, 96, 97, 98, 99], \"y\": [\"a\", \"b\", \"c\", \"d\", \"e\"], \"z\": [[0.37609697461376856, 0.20015150787928115, 0.9613110930688991, 0.07379151292761887, 0.5415786144642684, 0.3859342648063391, 0.972174788802087, 0.7091101037151499, 0.8954384976164633, 0.7554321511313211, 0.22217275790160596, 0.2062588459113106, 0.6686828079858399, 0.1385909969629976, 0.21628933743800915, 0.9407633460152702, 0.48633981943569793, 0.6691552476559746, 0.42559479953074264, 0.3748273382152849, 0.01101695877733655, 0.9917208269321008, 0.06628893394252156, 0.006434719636494224, 0.2752766774577283, 0.6695172339512171, 0.07851299219330088, 0.22013074769731333, 0.15180715565343328, 0.3672598705716832, 0.5487387467486701, 0.6708331417204486, 0.9641722122716029, 0.23860162675291774, 0.5595010233288253, 0.4207726965477695, 0.9296296975190127, 0.14471446112499864, 0.7482004235668012, 0.38378608705385064, 0.6592042579643931, 0.3332143646705893, 0.3213975590197603, 0.10231675890827119, 0.12001921898701451, 0.24543501694234093, 0.1547112687051263, 0.7083402558058903, 0.6141910561099395, 0.9203213180531646, 0.5192264585593097, 0.18810572200791964, 0.47376086050116795, 0.8040434645619444, 0.4973297589232646, 0.9093224563690225, 0.6574138593651496, 0.7518166791373752, 0.15137793778333286, 0.493838158900881, 0.9581497810056016, 0.12684171613837325, 0.3428605590667809, 0.6628628621864585, 0.7583618481961643, 0.015250298143215213, 0.5051731167157442, 0.6368787013670724, 0.7046551818496082, 0.639755771480962, 0.8336010946451613, 0.2076820246851756, 0.5150977091558013, 0.428652765496509, 0.7298535406519255, 0.533394380569046, 0.8406229288919806, 0.514896550694654, 0.24333737343337358, 0.23031163003017174, 0.5530993873585878, 0.7989437236541155, 0.1967445859198027, 0.08152369487640165, 0.4424218698954493, 0.8510036671202461, 0.4948547899299717, 0.9159627056706446, 0.3599765788376408, 0.283437923196066, 0.37808683387390607, 0.09468901619714476, 0.6376254008074992, 0.32429305515472284, 0.8886079420484048, 0.26336850366689935, 0.9992474933271761, 0.561038367988352, 0.364177225500636, 0.4311612070114388], [0.7285965508552592, 0.3264395565507072, 0.17777337886531763, 0.08930993873550008, 0.8917585974979793, 0.39328479095156954, 0.661044701778079, 0.31317096036364545, 0.8641280190087983, 0.29448025520164534, 0.9172442659081431, 0.36292097680538116, 0.3554448326969416, 0.20271836303112145, 0.9693589388581938, 0.04693355571242208, 0.4890576634401125, 0.6536337883313069, 0.8854395409190047, 0.5064989724408591, 0.5177495006139676, 0.30875202542359237, 0.016240728943423655, 0.7834149745171924, 0.38603785216769193, 0.5614058829937794, 0.37200945056313195, 0.30007776657750385, 0.09628227401162892, 0.5483526487654512, 0.7385265443831003, 0.7232859926189801, 0.9265120905167069, 0.035362210377484105, 0.6672663812787749, 0.21490958585447295, 0.2034490150798055, 0.8607075458055333, 0.8041008849023151, 0.4608229570089897, 0.6083372495229005, 0.9802477288968282, 0.7062359647645287, 0.0650822657907546, 0.9861519202719178, 0.5721523248847868, 0.19751163895220247, 0.4543177601270535, 0.14261275324915823, 0.4728588624217832, 0.5592942947432572, 0.7415887756520115, 0.5391528613387303, 0.07990386340000455, 0.9094069297636461, 0.27827164172163366, 0.881728213787127, 0.27486540521877467, 0.5386164239153762, 0.11833171885609695, 0.33386808000628676, 0.9033628528313126, 0.5950396889040918, 0.7458306665974866, 0.9753740963450107, 0.7087747686929403, 0.8159432338974885, 0.06734844377307159, 0.40192055274708194, 0.4612851963857856, 0.5078709162772186, 0.8738711152991113, 0.059166742328256694, 0.6557880674981983, 0.49700229931549367, 0.05625451927382341, 0.130576304055672, 0.8008490788833187, 0.6718107056736079, 0.47653881810481447, 0.6226161066927288, 0.1861185134304596, 0.8063705664889177, 0.7907469399018273, 0.8443286598128386, 0.9814386847107586, 0.3388133906449925, 0.3281358529831484, 0.936186925412127, 0.1984755418930455, 0.637183207813849, 0.25052858666709477, 0.3222794238067487, 0.8183157529121003, 0.8656218004927918, 0.4058313927983348, 0.9985326391547292, 0.3786258261022504, 0.37241492730611514, 0.9818317910324574], [0.7030207193173571, 0.35583062930134157, 0.7219531565584852, 0.4799423456564822, 0.13675174000999502, 0.16454489141747353, 0.28610551931517225, 0.3774224861853419, 0.5743432106089703, 0.6266564051456853, 0.09558444517754117, 0.8541867811698662, 0.9977452529410914, 0.3162481196937027, 0.6766125014832662, 0.6825516993942756, 0.48236423053519295, 0.7788800530678027, 0.5831326678736304, 0.44270071482355766, 0.6959168241612144, 0.049663355972474954, 0.6295388247540692, 0.019921943865609082, 0.7832505993976336, 0.509341064575061, 0.3149508710075314, 0.7112418574279137, 0.6906147961095919, 0.7241531608614012, 0.2739761147966835, 0.6382475930379901, 0.852737291921063, 0.3424604471704169, 0.3827782758010494, 0.5013037363017011, 0.09138283977477024, 0.4630554367356968, 0.66201843397268, 0.02333288646895204, 0.46099280790580943, 0.9491061765521756, 0.13553394936508534, 0.5788746700362015, 0.7010209731763317, 0.044263664583029105, 0.4963177710840555, 0.880751227587059, 0.9247519627757856, 0.5025911478842829, 0.2980755354673419, 0.19199369146906198, 0.8209278594515776, 0.14034193836174003, 0.04027653903230588, 0.5613341428927795, 0.8338210654236295, 0.7698904284831728, 0.6922542477577582, 0.5191183925094653, 0.48832870086609836, 0.10177853100250012, 0.45374816475247004, 0.9804359687805045, 0.7161593123614844, 0.4997450990040522, 0.13321610787029103, 0.09954212146227515, 0.8767234930065636, 0.4852752694958198, 0.8197039742081785, 0.6725408332205893, 0.6253187686723319, 0.05265507595431018, 0.8426341208975354, 0.200422561383231, 0.05136394740161454, 0.6146352808830764, 0.6534438549635678, 0.7450079547115416, 0.49661454928288795, 0.6929918011165636, 0.37512948766645127, 0.6983584851156005, 0.6168490897974865, 0.15157749029569556, 0.5807722269120572, 0.18012805321176073, 0.22663594019617017, 0.8979482167661446, 0.5850944677260471, 0.26914547558021773, 0.9863844193674619, 0.9074544633450553, 0.6064701995618049, 0.6706934606707955, 0.06968751496143422, 0.46675602780782677, 0.391501119896529, 0.8108714682632849], [0.4487381832738343, 0.3540721442818683, 0.6257943025272031, 0.08345830008439392, 0.5059000210506899, 0.059059030106884514, 0.5973853446562146, 0.35132996262759386, 0.0830860608770152, 0.30048285286514176, 0.36079976404941516, 0.20291781754118532, 0.45296157349100874, 0.1909017820244, 0.5529300975289005, 0.3197049174393769, 0.8997623397297769, 0.968832659846804, 0.3160594686578737, 0.9646079753426436, 0.6049520885438499, 0.5860559233365114, 0.9216848885527895, 0.4704558864254933, 0.3102956960959804, 0.16236250528431817, 0.9774991249131374, 0.6593377153810673, 0.16204054664771717, 0.22646500032489914, 0.46739428397933325, 0.5976835808165961, 0.8950739755650422, 0.45469473030326346, 0.04818063470018319, 0.1413900509457635, 0.37565660471632023, 0.4320324680763329, 0.008738364189422199, 0.10554664989259377, 0.6443181897290235, 0.5518161808244787, 0.6861715516598176, 0.6858005420700327, 0.7364731690869807, 0.6434996011534879, 0.12832919729144243, 0.6848747759572715, 0.6764440261289061, 0.40665221642840077, 0.8306621594393051, 0.9742844312899147, 0.2967071332942144, 0.023395135911267406, 0.3536518715179001, 0.76035117882619, 0.7704040083114605, 0.4152494377014936, 0.6643220443859128, 0.6348170146123333, 0.7170274437479984, 0.07244216419454097, 0.9812568690040028, 0.6946857346485762, 0.0018871820084116475, 0.7235513297962808, 0.243165685251715, 0.6984069822893493, 0.643603099278151, 0.6974421685973411, 0.48066364557716323, 0.027205930250465582, 0.5436367544159736, 0.048852772604564776, 0.928279229312726, 0.15011881964352658, 0.22827689231261517, 0.28911895596122106, 0.7368772257363315, 0.5466821764755295, 0.36640166867525226, 0.6969605404542606, 0.49420799081413136, 0.5602261095465022, 0.5835319684831781, 0.555112057348069, 0.8611667388304789, 0.5723124675052725, 0.021342690608009862, 0.7659591552952552, 0.022827545476074906, 0.15788403583593036, 0.9473268734612786, 0.6419075384725462, 0.3740090444934504, 0.3886025436122388, 0.42749598630289476, 0.4800586321769452, 0.2587307144486364, 0.5809084400683521], [0.8748531559702172, 0.3458717449962889, 0.3622236158154418, 0.05199334195967409, 0.8746333911041947, 0.10281066663534355, 0.4208372440510276, 0.8148490858091003, 0.16974769337206186, 0.04942713231122953, 0.01858666000561815, 0.6513929481678175, 0.03817096818419119, 0.9088355861594041, 0.2283162022342512, 0.4234842321828065, 0.40040422310211043, 0.48019185101527007, 0.4429199697011208, 0.26496184147781576, 0.051168842225511546, 0.8839765740584115, 0.3930160237833683, 0.06297488964270503, 0.43621604520763557, 0.7740172339793485, 0.7250284117328657, 0.1874235550442147, 0.9107374974923665, 0.6079148891096738, 0.33435306288093736, 0.048425792198065976, 0.13652641905428442, 0.16092785375366137, 0.2559005577168859, 0.7254823108628258, 0.9352189302779806, 0.13508142762782083, 0.40161832047897483, 0.8849658488652499, 0.4997542336124198, 0.26621929577003134, 0.9157084449306039, 0.613693019248173, 0.13824122193102784, 0.5126847169070776, 0.46501794932045204, 0.6751049617330164, 0.684556191821915, 0.45813710170875954, 0.36568675236295345, 0.13212421899536342, 0.8254414177459369, 0.30922594618281274, 0.4680803668972692, 0.6075850646207533, 0.605681624667661, 0.9216138565398706, 0.35690340844635915, 0.8117358719769993, 0.572360475563296, 0.6704175383981241, 0.6736765935931956, 0.40942144942294223, 0.41507088451534757, 0.3084191876282668, 0.7362836204898375, 0.6169168220178494, 0.2956403852312859, 0.3706688844161228, 0.802520075655963, 0.3324222100293889, 0.7773753660863424, 0.6639798193722469, 0.4399502496111627, 0.6079750212859367, 0.39918369301805556, 0.8135738879233281, 0.5464328878314737, 0.04285486200049238, 0.04624906629647929, 0.042245542635432676, 0.4228684707065993, 0.4749792003928308, 0.3575371010656768, 0.11731784049301552, 0.9655674898350809, 0.741239772757126, 0.41235887205352173, 0.44922615861504667, 0.24882112334497752, 0.8244535758660653, 0.3491863715105338, 0.00721110915755907, 0.7172316223964905, 0.2657919559815368, 0.23058370381523652, 0.9713939660478692, 0.8488283579867641, 0.3163051716341264]]}],\n",
              "                        {\"legend\": {\"bgcolor\": \"#F5F6F9\", \"font\": {\"color\": \"#4D5663\"}}, \"paper_bgcolor\": \"#F5F6F9\", \"plot_bgcolor\": \"#F5F6F9\", \"template\": {\"data\": {\"bar\": [{\"error_x\": {\"color\": \"#2a3f5f\"}, \"error_y\": {\"color\": \"#2a3f5f\"}, \"marker\": {\"line\": {\"color\": \"#E5ECF6\", \"width\": 0.5}}, \"type\": \"bar\"}], \"barpolar\": [{\"marker\": {\"line\": {\"color\": \"#E5ECF6\", \"width\": 0.5}}, \"type\": \"barpolar\"}], \"carpet\": [{\"aaxis\": {\"endlinecolor\": \"#2a3f5f\", \"gridcolor\": \"white\", \"linecolor\": \"white\", \"minorgridcolor\": \"white\", \"startlinecolor\": \"#2a3f5f\"}, \"baxis\": {\"endlinecolor\": \"#2a3f5f\", \"gridcolor\": \"white\", \"linecolor\": \"white\", \"minorgridcolor\": \"white\", \"startlinecolor\": \"#2a3f5f\"}, \"type\": \"carpet\"}], \"choropleth\": [{\"colorbar\": {\"outlinewidth\": 0, \"ticks\": \"\"}, \"type\": \"choropleth\"}], \"contour\": [{\"colorbar\": {\"outlinewidth\": 0, \"ticks\": \"\"}, \"colorscale\": [[0.0, \"#0d0887\"], [0.1111111111111111, \"#46039f\"], [0.2222222222222222, \"#7201a8\"], [0.3333333333333333, \"#9c179e\"], [0.4444444444444444, \"#bd3786\"], [0.5555555555555556, \"#d8576b\"], [0.6666666666666666, \"#ed7953\"], [0.7777777777777778, \"#fb9f3a\"], [0.8888888888888888, \"#fdca26\"], [1.0, \"#f0f921\"]], \"type\": \"contour\"}], \"contourcarpet\": [{\"colorbar\": {\"outlinewidth\": 0, \"ticks\": \"\"}, \"type\": \"contourcarpet\"}], \"heatmap\": [{\"colorbar\": {\"outlinewidth\": 0, \"ticks\": \"\"}, \"colorscale\": [[0.0, \"#0d0887\"], [0.1111111111111111, \"#46039f\"], [0.2222222222222222, \"#7201a8\"], [0.3333333333333333, \"#9c179e\"], [0.4444444444444444, \"#bd3786\"], [0.5555555555555556, \"#d8576b\"], [0.6666666666666666, \"#ed7953\"], [0.7777777777777778, \"#fb9f3a\"], [0.8888888888888888, \"#fdca26\"], [1.0, \"#f0f921\"]], \"type\": \"heatmap\"}], \"heatmapgl\": [{\"colorbar\": {\"outlinewidth\": 0, \"ticks\": \"\"}, \"colorscale\": [[0.0, \"#0d0887\"], [0.1111111111111111, \"#46039f\"], [0.2222222222222222, \"#7201a8\"], [0.3333333333333333, \"#9c179e\"], [0.4444444444444444, \"#bd3786\"], [0.5555555555555556, \"#d8576b\"], [0.6666666666666666, \"#ed7953\"], [0.7777777777777778, \"#fb9f3a\"], [0.8888888888888888, \"#fdca26\"], [1.0, \"#f0f921\"]], \"type\": \"heatmapgl\"}], \"histogram\": [{\"marker\": {\"colorbar\": {\"outlinewidth\": 0, \"ticks\": \"\"}}, \"type\": \"histogram\"}], \"histogram2d\": [{\"colorbar\": {\"outlinewidth\": 0, \"ticks\": \"\"}, \"colorscale\": [[0.0, \"#0d0887\"], [0.1111111111111111, \"#46039f\"], [0.2222222222222222, \"#7201a8\"], [0.3333333333333333, \"#9c179e\"], [0.4444444444444444, \"#bd3786\"], [0.5555555555555556, \"#d8576b\"], [0.6666666666666666, \"#ed7953\"], [0.7777777777777778, \"#fb9f3a\"], [0.8888888888888888, \"#fdca26\"], [1.0, \"#f0f921\"]], \"type\": \"histogram2d\"}], \"histogram2dcontour\": [{\"colorbar\": {\"outlinewidth\": 0, \"ticks\": \"\"}, \"colorscale\": [[0.0, \"#0d0887\"], [0.1111111111111111, \"#46039f\"], [0.2222222222222222, \"#7201a8\"], [0.3333333333333333, \"#9c179e\"], [0.4444444444444444, \"#bd3786\"], [0.5555555555555556, \"#d8576b\"], [0.6666666666666666, \"#ed7953\"], [0.7777777777777778, \"#fb9f3a\"], [0.8888888888888888, \"#fdca26\"], [1.0, \"#f0f921\"]], \"type\": \"histogram2dcontour\"}], \"mesh3d\": [{\"colorbar\": {\"outlinewidth\": 0, \"ticks\": \"\"}, \"type\": \"mesh3d\"}], \"parcoords\": [{\"line\": {\"colorbar\": {\"outlinewidth\": 0, \"ticks\": \"\"}}, \"type\": \"parcoords\"}], \"pie\": [{\"automargin\": true, \"type\": \"pie\"}], \"scatter\": [{\"marker\": {\"colorbar\": {\"outlinewidth\": 0, \"ticks\": \"\"}}, \"type\": \"scatter\"}], \"scatter3d\": [{\"line\": {\"colorbar\": {\"outlinewidth\": 0, \"ticks\": \"\"}}, \"marker\": {\"colorbar\": {\"outlinewidth\": 0, \"ticks\": \"\"}}, \"type\": \"scatter3d\"}], \"scattercarpet\": [{\"marker\": {\"colorbar\": {\"outlinewidth\": 0, \"ticks\": \"\"}}, \"type\": \"scattercarpet\"}], \"scattergeo\": [{\"marker\": {\"colorbar\": {\"outlinewidth\": 0, \"ticks\": \"\"}}, \"type\": \"scattergeo\"}], \"scattergl\": [{\"marker\": {\"colorbar\": {\"outlinewidth\": 0, \"ticks\": \"\"}}, \"type\": \"scattergl\"}], \"scattermapbox\": [{\"marker\": {\"colorbar\": {\"outlinewidth\": 0, \"ticks\": \"\"}}, \"type\": \"scattermapbox\"}], \"scatterpolar\": [{\"marker\": {\"colorbar\": {\"outlinewidth\": 0, \"ticks\": \"\"}}, \"type\": \"scatterpolar\"}], \"scatterpolargl\": [{\"marker\": {\"colorbar\": {\"outlinewidth\": 0, \"ticks\": \"\"}}, \"type\": \"scatterpolargl\"}], \"scatterternary\": [{\"marker\": {\"colorbar\": {\"outlinewidth\": 0, \"ticks\": \"\"}}, \"type\": \"scatterternary\"}], \"surface\": [{\"colorbar\": {\"outlinewidth\": 0, \"ticks\": \"\"}, \"colorscale\": [[0.0, \"#0d0887\"], [0.1111111111111111, \"#46039f\"], [0.2222222222222222, \"#7201a8\"], [0.3333333333333333, \"#9c179e\"], [0.4444444444444444, \"#bd3786\"], [0.5555555555555556, \"#d8576b\"], [0.6666666666666666, \"#ed7953\"], [0.7777777777777778, \"#fb9f3a\"], [0.8888888888888888, \"#fdca26\"], [1.0, \"#f0f921\"]], \"type\": \"surface\"}], \"table\": [{\"cells\": {\"fill\": {\"color\": \"#EBF0F8\"}, \"line\": {\"color\": \"white\"}}, \"header\": {\"fill\": {\"color\": \"#C8D4E3\"}, \"line\": {\"color\": \"white\"}}, \"type\": \"table\"}]}, \"layout\": {\"annotationdefaults\": {\"arrowcolor\": \"#2a3f5f\", \"arrowhead\": 0, \"arrowwidth\": 1}, \"coloraxis\": {\"colorbar\": {\"outlinewidth\": 0, \"ticks\": \"\"}}, \"colorscale\": {\"diverging\": [[0, \"#8e0152\"], [0.1, \"#c51b7d\"], [0.2, \"#de77ae\"], [0.3, \"#f1b6da\"], [0.4, \"#fde0ef\"], [0.5, \"#f7f7f7\"], [0.6, \"#e6f5d0\"], [0.7, \"#b8e186\"], [0.8, \"#7fbc41\"], [0.9, \"#4d9221\"], [1, \"#276419\"]], \"sequential\": [[0.0, \"#0d0887\"], [0.1111111111111111, \"#46039f\"], [0.2222222222222222, \"#7201a8\"], [0.3333333333333333, \"#9c179e\"], [0.4444444444444444, \"#bd3786\"], [0.5555555555555556, \"#d8576b\"], [0.6666666666666666, \"#ed7953\"], [0.7777777777777778, \"#fb9f3a\"], [0.8888888888888888, \"#fdca26\"], [1.0, \"#f0f921\"]], \"sequentialminus\": [[0.0, \"#0d0887\"], [0.1111111111111111, \"#46039f\"], [0.2222222222222222, \"#7201a8\"], [0.3333333333333333, \"#9c179e\"], [0.4444444444444444, \"#bd3786\"], [0.5555555555555556, \"#d8576b\"], [0.6666666666666666, \"#ed7953\"], [0.7777777777777778, \"#fb9f3a\"], [0.8888888888888888, \"#fdca26\"], [1.0, \"#f0f921\"]]}, \"colorway\": [\"#636efa\", \"#EF553B\", \"#00cc96\", \"#ab63fa\", \"#FFA15A\", \"#19d3f3\", \"#FF6692\", \"#B6E880\", \"#FF97FF\", \"#FECB52\"], \"font\": {\"color\": \"#2a3f5f\"}, \"geo\": {\"bgcolor\": \"white\", \"lakecolor\": \"white\", \"landcolor\": \"#E5ECF6\", \"showlakes\": true, \"showland\": true, \"subunitcolor\": \"white\"}, \"hoverlabel\": {\"align\": \"left\"}, \"hovermode\": \"closest\", \"mapbox\": {\"style\": \"light\"}, \"paper_bgcolor\": \"white\", \"plot_bgcolor\": \"#E5ECF6\", \"polar\": {\"angularaxis\": {\"gridcolor\": \"white\", \"linecolor\": \"white\", \"ticks\": \"\"}, \"bgcolor\": \"#E5ECF6\", \"radialaxis\": {\"gridcolor\": \"white\", \"linecolor\": \"white\", \"ticks\": \"\"}}, \"scene\": {\"xaxis\": {\"backgroundcolor\": \"#E5ECF6\", \"gridcolor\": \"white\", \"gridwidth\": 2, \"linecolor\": \"white\", \"showbackground\": true, \"ticks\": \"\", \"zerolinecolor\": \"white\"}, \"yaxis\": {\"backgroundcolor\": \"#E5ECF6\", \"gridcolor\": \"white\", \"gridwidth\": 2, \"linecolor\": \"white\", \"showbackground\": true, \"ticks\": \"\", \"zerolinecolor\": \"white\"}, \"zaxis\": {\"backgroundcolor\": \"#E5ECF6\", \"gridcolor\": \"white\", \"gridwidth\": 2, \"linecolor\": \"white\", \"showbackground\": true, \"ticks\": \"\", \"zerolinecolor\": \"white\"}}, \"shapedefaults\": {\"line\": {\"color\": \"#2a3f5f\"}}, \"ternary\": {\"aaxis\": {\"gridcolor\": \"white\", \"linecolor\": \"white\", \"ticks\": \"\"}, \"baxis\": {\"gridcolor\": \"white\", \"linecolor\": \"white\", \"ticks\": \"\"}, \"bgcolor\": \"#E5ECF6\", \"caxis\": {\"gridcolor\": \"white\", \"linecolor\": \"white\", \"ticks\": \"\"}}, \"title\": {\"x\": 0.05}, \"xaxis\": {\"automargin\": true, \"gridcolor\": \"white\", \"linecolor\": \"white\", \"ticks\": \"\", \"title\": {\"standoff\": 15}, \"zerolinecolor\": \"white\", \"zerolinewidth\": 2}, \"yaxis\": {\"automargin\": true, \"gridcolor\": \"white\", \"linecolor\": \"white\", \"ticks\": \"\", \"title\": {\"standoff\": 15}, \"zerolinecolor\": \"white\", \"zerolinewidth\": 2}}}, \"title\": {\"font\": {\"color\": \"#4D5663\"}}, \"xaxis\": {\"gridcolor\": \"#E1E5ED\", \"showgrid\": true, \"tickfont\": {\"color\": \"#4D5663\"}, \"title\": {\"font\": {\"color\": \"#4D5663\"}, \"text\": \"\"}, \"zerolinecolor\": \"#E1E5ED\"}, \"yaxis\": {\"gridcolor\": \"#E1E5ED\", \"showgrid\": true, \"tickfont\": {\"color\": \"#4D5663\"}, \"title\": {\"font\": {\"color\": \"#4D5663\"}, \"text\": \"\"}, \"zerolinecolor\": \"#E1E5ED\"}},\n",
              "                        {\"showLink\": true, \"linkText\": \"Export to plot.ly\", \"plotlyServerURL\": \"https://plot.ly\", \"responsive\": true}\n",
              "                    ).then(function(){\n",
              "                            \n",
              "var gd = document.getElementById('11a1a17d-0211-42af-a2a9-093f9462216a');\n",
              "var x = new MutationObserver(function (mutations, observer) {{\n",
              "        var display = window.getComputedStyle(gd).display;\n",
              "        if (!display || display === 'none') {{\n",
              "            console.log([gd, 'removed!']);\n",
              "            Plotly.purge(gd);\n",
              "            observer.disconnect();\n",
              "        }}\n",
              "}});\n",
              "\n",
              "// Listen for the removal of the full notebook cells\n",
              "var notebookContainer = gd.closest('#notebook-container');\n",
              "if (notebookContainer) {{\n",
              "    x.observe(notebookContainer, {childList: true});\n",
              "}}\n",
              "\n",
              "// Listen for the clearing of the current output cell\n",
              "var outputEl = gd.closest('.output');\n",
              "if (outputEl) {{\n",
              "    x.observe(outputEl, {childList: true});\n",
              "}}\n",
              "\n",
              "                        })\n",
              "                };\n",
              "                });\n",
              "            </script>\n",
              "        </div>"
            ],
            "application/vnd.plotly.v1+json": {
              "data": [
                {
                  "y": [
                    "a",
                    "b",
                    "c",
                    "d",
                    "e"
                  ],
                  "x": [
                    0,
                    1,
                    2,
                    3,
                    4,
                    5,
                    6,
                    7,
                    8,
                    9,
                    10,
                    11,
                    12,
                    13,
                    14,
                    15,
                    16,
                    17,
                    18,
                    19,
                    20,
                    21,
                    22,
                    23,
                    24,
                    25,
                    26,
                    27,
                    28,
                    29,
                    30,
                    31,
                    32,
                    33,
                    34,
                    35,
                    36,
                    37,
                    38,
                    39,
                    40,
                    41,
                    42,
                    43,
                    44,
                    45,
                    46,
                    47,
                    48,
                    49,
                    50,
                    51,
                    52,
                    53,
                    54,
                    55,
                    56,
                    57,
                    58,
                    59,
                    60,
                    61,
                    62,
                    63,
                    64,
                    65,
                    66,
                    67,
                    68,
                    69,
                    70,
                    71,
                    72,
                    73,
                    74,
                    75,
                    76,
                    77,
                    78,
                    79,
                    80,
                    81,
                    82,
                    83,
                    84,
                    85,
                    86,
                    87,
                    88,
                    89,
                    90,
                    91,
                    92,
                    93,
                    94,
                    95,
                    96,
                    97,
                    98,
                    99
                  ],
                  "z": [
                    [
                      0.37609697461376856,
                      0.20015150787928115,
                      0.9613110930688991,
                      0.07379151292761887,
                      0.5415786144642684,
                      0.3859342648063391,
                      0.972174788802087,
                      0.7091101037151499,
                      0.8954384976164633,
                      0.7554321511313211,
                      0.22217275790160596,
                      0.2062588459113106,
                      0.6686828079858399,
                      0.1385909969629976,
                      0.21628933743800915,
                      0.9407633460152702,
                      0.48633981943569793,
                      0.6691552476559746,
                      0.42559479953074264,
                      0.3748273382152849,
                      0.01101695877733655,
                      0.9917208269321008,
                      0.06628893394252156,
                      0.006434719636494224,
                      0.2752766774577283,
                      0.6695172339512171,
                      0.07851299219330088,
                      0.22013074769731333,
                      0.15180715565343328,
                      0.3672598705716832,
                      0.5487387467486701,
                      0.6708331417204486,
                      0.9641722122716029,
                      0.23860162675291774,
                      0.5595010233288253,
                      0.4207726965477695,
                      0.9296296975190127,
                      0.14471446112499864,
                      0.7482004235668012,
                      0.38378608705385064,
                      0.6592042579643931,
                      0.3332143646705893,
                      0.3213975590197603,
                      0.10231675890827119,
                      0.12001921898701451,
                      0.24543501694234093,
                      0.1547112687051263,
                      0.7083402558058903,
                      0.6141910561099395,
                      0.9203213180531646,
                      0.5192264585593097,
                      0.18810572200791964,
                      0.47376086050116795,
                      0.8040434645619444,
                      0.4973297589232646,
                      0.9093224563690225,
                      0.6574138593651496,
                      0.7518166791373752,
                      0.15137793778333286,
                      0.493838158900881,
                      0.9581497810056016,
                      0.12684171613837325,
                      0.3428605590667809,
                      0.6628628621864585,
                      0.7583618481961643,
                      0.015250298143215213,
                      0.5051731167157442,
                      0.6368787013670724,
                      0.7046551818496082,
                      0.639755771480962,
                      0.8336010946451613,
                      0.2076820246851756,
                      0.5150977091558013,
                      0.428652765496509,
                      0.7298535406519255,
                      0.533394380569046,
                      0.8406229288919806,
                      0.514896550694654,
                      0.24333737343337358,
                      0.23031163003017174,
                      0.5530993873585878,
                      0.7989437236541155,
                      0.1967445859198027,
                      0.08152369487640165,
                      0.4424218698954493,
                      0.8510036671202461,
                      0.4948547899299717,
                      0.9159627056706446,
                      0.3599765788376408,
                      0.283437923196066,
                      0.37808683387390607,
                      0.09468901619714476,
                      0.6376254008074992,
                      0.32429305515472284,
                      0.8886079420484048,
                      0.26336850366689935,
                      0.9992474933271761,
                      0.561038367988352,
                      0.364177225500636,
                      0.4311612070114388
                    ],
                    [
                      0.7285965508552592,
                      0.3264395565507072,
                      0.17777337886531763,
                      0.08930993873550008,
                      0.8917585974979793,
                      0.39328479095156954,
                      0.661044701778079,
                      0.31317096036364545,
                      0.8641280190087983,
                      0.29448025520164534,
                      0.9172442659081431,
                      0.36292097680538116,
                      0.3554448326969416,
                      0.20271836303112145,
                      0.9693589388581938,
                      0.04693355571242208,
                      0.4890576634401125,
                      0.6536337883313069,
                      0.8854395409190047,
                      0.5064989724408591,
                      0.5177495006139676,
                      0.30875202542359237,
                      0.016240728943423655,
                      0.7834149745171924,
                      0.38603785216769193,
                      0.5614058829937794,
                      0.37200945056313195,
                      0.30007776657750385,
                      0.09628227401162892,
                      0.5483526487654512,
                      0.7385265443831003,
                      0.7232859926189801,
                      0.9265120905167069,
                      0.035362210377484105,
                      0.6672663812787749,
                      0.21490958585447295,
                      0.2034490150798055,
                      0.8607075458055333,
                      0.8041008849023151,
                      0.4608229570089897,
                      0.6083372495229005,
                      0.9802477288968282,
                      0.7062359647645287,
                      0.0650822657907546,
                      0.9861519202719178,
                      0.5721523248847868,
                      0.19751163895220247,
                      0.4543177601270535,
                      0.14261275324915823,
                      0.4728588624217832,
                      0.5592942947432572,
                      0.7415887756520115,
                      0.5391528613387303,
                      0.07990386340000455,
                      0.9094069297636461,
                      0.27827164172163366,
                      0.881728213787127,
                      0.27486540521877467,
                      0.5386164239153762,
                      0.11833171885609695,
                      0.33386808000628676,
                      0.9033628528313126,
                      0.5950396889040918,
                      0.7458306665974866,
                      0.9753740963450107,
                      0.7087747686929403,
                      0.8159432338974885,
                      0.06734844377307159,
                      0.40192055274708194,
                      0.4612851963857856,
                      0.5078709162772186,
                      0.8738711152991113,
                      0.059166742328256694,
                      0.6557880674981983,
                      0.49700229931549367,
                      0.05625451927382341,
                      0.130576304055672,
                      0.8008490788833187,
                      0.6718107056736079,
                      0.47653881810481447,
                      0.6226161066927288,
                      0.1861185134304596,
                      0.8063705664889177,
                      0.7907469399018273,
                      0.8443286598128386,
                      0.9814386847107586,
                      0.3388133906449925,
                      0.3281358529831484,
                      0.936186925412127,
                      0.1984755418930455,
                      0.637183207813849,
                      0.25052858666709477,
                      0.3222794238067487,
                      0.8183157529121003,
                      0.8656218004927918,
                      0.4058313927983348,
                      0.9985326391547292,
                      0.3786258261022504,
                      0.37241492730611514,
                      0.9818317910324574
                    ],
                    [
                      0.7030207193173571,
                      0.35583062930134157,
                      0.7219531565584852,
                      0.4799423456564822,
                      0.13675174000999502,
                      0.16454489141747353,
                      0.28610551931517225,
                      0.3774224861853419,
                      0.5743432106089703,
                      0.6266564051456853,
                      0.09558444517754117,
                      0.8541867811698662,
                      0.9977452529410914,
                      0.3162481196937027,
                      0.6766125014832662,
                      0.6825516993942756,
                      0.48236423053519295,
                      0.7788800530678027,
                      0.5831326678736304,
                      0.44270071482355766,
                      0.6959168241612144,
                      0.049663355972474954,
                      0.6295388247540692,
                      0.019921943865609082,
                      0.7832505993976336,
                      0.509341064575061,
                      0.3149508710075314,
                      0.7112418574279137,
                      0.6906147961095919,
                      0.7241531608614012,
                      0.2739761147966835,
                      0.6382475930379901,
                      0.852737291921063,
                      0.3424604471704169,
                      0.3827782758010494,
                      0.5013037363017011,
                      0.09138283977477024,
                      0.4630554367356968,
                      0.66201843397268,
                      0.02333288646895204,
                      0.46099280790580943,
                      0.9491061765521756,
                      0.13553394936508534,
                      0.5788746700362015,
                      0.7010209731763317,
                      0.044263664583029105,
                      0.4963177710840555,
                      0.880751227587059,
                      0.9247519627757856,
                      0.5025911478842829,
                      0.2980755354673419,
                      0.19199369146906198,
                      0.8209278594515776,
                      0.14034193836174003,
                      0.04027653903230588,
                      0.5613341428927795,
                      0.8338210654236295,
                      0.7698904284831728,
                      0.6922542477577582,
                      0.5191183925094653,
                      0.48832870086609836,
                      0.10177853100250012,
                      0.45374816475247004,
                      0.9804359687805045,
                      0.7161593123614844,
                      0.4997450990040522,
                      0.13321610787029103,
                      0.09954212146227515,
                      0.8767234930065636,
                      0.4852752694958198,
                      0.8197039742081785,
                      0.6725408332205893,
                      0.6253187686723319,
                      0.05265507595431018,
                      0.8426341208975354,
                      0.200422561383231,
                      0.05136394740161454,
                      0.6146352808830764,
                      0.6534438549635678,
                      0.7450079547115416,
                      0.49661454928288795,
                      0.6929918011165636,
                      0.37512948766645127,
                      0.6983584851156005,
                      0.6168490897974865,
                      0.15157749029569556,
                      0.5807722269120572,
                      0.18012805321176073,
                      0.22663594019617017,
                      0.8979482167661446,
                      0.5850944677260471,
                      0.26914547558021773,
                      0.9863844193674619,
                      0.9074544633450553,
                      0.6064701995618049,
                      0.6706934606707955,
                      0.06968751496143422,
                      0.46675602780782677,
                      0.391501119896529,
                      0.8108714682632849
                    ],
                    [
                      0.4487381832738343,
                      0.3540721442818683,
                      0.6257943025272031,
                      0.08345830008439392,
                      0.5059000210506899,
                      0.059059030106884514,
                      0.5973853446562146,
                      0.35132996262759386,
                      0.0830860608770152,
                      0.30048285286514176,
                      0.36079976404941516,
                      0.20291781754118532,
                      0.45296157349100874,
                      0.1909017820244,
                      0.5529300975289005,
                      0.3197049174393769,
                      0.8997623397297769,
                      0.968832659846804,
                      0.3160594686578737,
                      0.9646079753426436,
                      0.6049520885438499,
                      0.5860559233365114,
                      0.9216848885527895,
                      0.4704558864254933,
                      0.3102956960959804,
                      0.16236250528431817,
                      0.9774991249131374,
                      0.6593377153810673,
                      0.16204054664771717,
                      0.22646500032489914,
                      0.46739428397933325,
                      0.5976835808165961,
                      0.8950739755650422,
                      0.45469473030326346,
                      0.04818063470018319,
                      0.1413900509457635,
                      0.37565660471632023,
                      0.4320324680763329,
                      0.008738364189422199,
                      0.10554664989259377,
                      0.6443181897290235,
                      0.5518161808244787,
                      0.6861715516598176,
                      0.6858005420700327,
                      0.7364731690869807,
                      0.6434996011534879,
                      0.12832919729144243,
                      0.6848747759572715,
                      0.6764440261289061,
                      0.40665221642840077,
                      0.8306621594393051,
                      0.9742844312899147,
                      0.2967071332942144,
                      0.023395135911267406,
                      0.3536518715179001,
                      0.76035117882619,
                      0.7704040083114605,
                      0.4152494377014936,
                      0.6643220443859128,
                      0.6348170146123333,
                      0.7170274437479984,
                      0.07244216419454097,
                      0.9812568690040028,
                      0.6946857346485762,
                      0.0018871820084116475,
                      0.7235513297962808,
                      0.243165685251715,
                      0.6984069822893493,
                      0.643603099278151,
                      0.6974421685973411,
                      0.48066364557716323,
                      0.027205930250465582,
                      0.5436367544159736,
                      0.048852772604564776,
                      0.928279229312726,
                      0.15011881964352658,
                      0.22827689231261517,
                      0.28911895596122106,
                      0.7368772257363315,
                      0.5466821764755295,
                      0.36640166867525226,
                      0.6969605404542606,
                      0.49420799081413136,
                      0.5602261095465022,
                      0.5835319684831781,
                      0.555112057348069,
                      0.8611667388304789,
                      0.5723124675052725,
                      0.021342690608009862,
                      0.7659591552952552,
                      0.022827545476074906,
                      0.15788403583593036,
                      0.9473268734612786,
                      0.6419075384725462,
                      0.3740090444934504,
                      0.3886025436122388,
                      0.42749598630289476,
                      0.4800586321769452,
                      0.2587307144486364,
                      0.5809084400683521
                    ],
                    [
                      0.8748531559702172,
                      0.3458717449962889,
                      0.3622236158154418,
                      0.05199334195967409,
                      0.8746333911041947,
                      0.10281066663534355,
                      0.4208372440510276,
                      0.8148490858091003,
                      0.16974769337206186,
                      0.04942713231122953,
                      0.01858666000561815,
                      0.6513929481678175,
                      0.03817096818419119,
                      0.9088355861594041,
                      0.2283162022342512,
                      0.4234842321828065,
                      0.40040422310211043,
                      0.48019185101527007,
                      0.4429199697011208,
                      0.26496184147781576,
                      0.051168842225511546,
                      0.8839765740584115,
                      0.3930160237833683,
                      0.06297488964270503,
                      0.43621604520763557,
                      0.7740172339793485,
                      0.7250284117328657,
                      0.1874235550442147,
                      0.9107374974923665,
                      0.6079148891096738,
                      0.33435306288093736,
                      0.048425792198065976,
                      0.13652641905428442,
                      0.16092785375366137,
                      0.2559005577168859,
                      0.7254823108628258,
                      0.9352189302779806,
                      0.13508142762782083,
                      0.40161832047897483,
                      0.8849658488652499,
                      0.4997542336124198,
                      0.26621929577003134,
                      0.9157084449306039,
                      0.613693019248173,
                      0.13824122193102784,
                      0.5126847169070776,
                      0.46501794932045204,
                      0.6751049617330164,
                      0.684556191821915,
                      0.45813710170875954,
                      0.36568675236295345,
                      0.13212421899536342,
                      0.8254414177459369,
                      0.30922594618281274,
                      0.4680803668972692,
                      0.6075850646207533,
                      0.605681624667661,
                      0.9216138565398706,
                      0.35690340844635915,
                      0.8117358719769993,
                      0.572360475563296,
                      0.6704175383981241,
                      0.6736765935931956,
                      0.40942144942294223,
                      0.41507088451534757,
                      0.3084191876282668,
                      0.7362836204898375,
                      0.6169168220178494,
                      0.2956403852312859,
                      0.3706688844161228,
                      0.802520075655963,
                      0.3324222100293889,
                      0.7773753660863424,
                      0.6639798193722469,
                      0.4399502496111627,
                      0.6079750212859367,
                      0.39918369301805556,
                      0.8135738879233281,
                      0.5464328878314737,
                      0.04285486200049238,
                      0.04624906629647929,
                      0.042245542635432676,
                      0.4228684707065993,
                      0.4749792003928308,
                      0.3575371010656768,
                      0.11731784049301552,
                      0.9655674898350809,
                      0.741239772757126,
                      0.41235887205352173,
                      0.44922615861504667,
                      0.24882112334497752,
                      0.8244535758660653,
                      0.3491863715105338,
                      0.00721110915755907,
                      0.7172316223964905,
                      0.2657919559815368,
                      0.23058370381523652,
                      0.9713939660478692,
                      0.8488283579867641,
                      0.3163051716341264
                    ]
                  ],
                  "type": "surface",
                  "colorscale": [
                    [
                      0,
                      "rgb(255, 153, 51)"
                    ],
                    [
                      0.1111111111111111,
                      "rgb(55, 128, 191)"
                    ],
                    [
                      0.2222222222222222,
                      "rgb(50, 171, 96)"
                    ],
                    [
                      0.3333333333333333,
                      "rgb(128, 0, 128)"
                    ],
                    [
                      0.4444444444444444,
                      "rgb(219, 64, 82)"
                    ],
                    [
                      0.5555555555555556,
                      "rgb(0, 128, 128)"
                    ],
                    [
                      0.6666666666666666,
                      "rgb(255, 255, 51)"
                    ],
                    [
                      0.7777777777777778,
                      "rgb(128, 128, 0)"
                    ],
                    [
                      0.8888888888888888,
                      "rgb(251, 128, 114)"
                    ],
                    [
                      1,
                      "rgb(128, 177, 211)"
                    ]
                  ]
                }
              ],
              "config": {
                "plotlyServerURL": "https://plot.ly",
                "linkText": "Export to plot.ly",
                "showLink": true
              },
              "layout": {
                "template": {
                  "layout": {
                    "shapedefaults": {
                      "line": {
                        "color": "#2a3f5f"
                      }
                    },
                    "polar": {
                      "radialaxis": {
                        "ticks": "",
                        "gridcolor": "white",
                        "linecolor": "white"
                      },
                      "bgcolor": "#E5ECF6",
                      "angularaxis": {
                        "ticks": "",
                        "gridcolor": "white",
                        "linecolor": "white"
                      }
                    },
                    "colorway": [
                      "#636efa",
                      "#EF553B",
                      "#00cc96",
                      "#ab63fa",
                      "#FFA15A",
                      "#19d3f3",
                      "#FF6692",
                      "#B6E880",
                      "#FF97FF",
                      "#FECB52"
                    ],
                    "xaxis": {
                      "automargin": true,
                      "title": {
                        "standoff": 15
                      },
                      "zerolinewidth": 2,
                      "ticks": "",
                      "zerolinecolor": "white",
                      "gridcolor": "white",
                      "linecolor": "white"
                    },
                    "colorscale": {
                      "diverging": [
                        [
                          0,
                          "#8e0152"
                        ],
                        [
                          0.1,
                          "#c51b7d"
                        ],
                        [
                          0.2,
                          "#de77ae"
                        ],
                        [
                          0.3,
                          "#f1b6da"
                        ],
                        [
                          0.4,
                          "#fde0ef"
                        ],
                        [
                          0.5,
                          "#f7f7f7"
                        ],
                        [
                          0.6,
                          "#e6f5d0"
                        ],
                        [
                          0.7,
                          "#b8e186"
                        ],
                        [
                          0.8,
                          "#7fbc41"
                        ],
                        [
                          0.9,
                          "#4d9221"
                        ],
                        [
                          1,
                          "#276419"
                        ]
                      ],
                      "sequential": [
                        [
                          0,
                          "#0d0887"
                        ],
                        [
                          0.1111111111111111,
                          "#46039f"
                        ],
                        [
                          0.2222222222222222,
                          "#7201a8"
                        ],
                        [
                          0.3333333333333333,
                          "#9c179e"
                        ],
                        [
                          0.4444444444444444,
                          "#bd3786"
                        ],
                        [
                          0.5555555555555556,
                          "#d8576b"
                        ],
                        [
                          0.6666666666666666,
                          "#ed7953"
                        ],
                        [
                          0.7777777777777778,
                          "#fb9f3a"
                        ],
                        [
                          0.8888888888888888,
                          "#fdca26"
                        ],
                        [
                          1,
                          "#f0f921"
                        ]
                      ],
                      "sequentialminus": [
                        [
                          0,
                          "#0d0887"
                        ],
                        [
                          0.1111111111111111,
                          "#46039f"
                        ],
                        [
                          0.2222222222222222,
                          "#7201a8"
                        ],
                        [
                          0.3333333333333333,
                          "#9c179e"
                        ],
                        [
                          0.4444444444444444,
                          "#bd3786"
                        ],
                        [
                          0.5555555555555556,
                          "#d8576b"
                        ],
                        [
                          0.6666666666666666,
                          "#ed7953"
                        ],
                        [
                          0.7777777777777778,
                          "#fb9f3a"
                        ],
                        [
                          0.8888888888888888,
                          "#fdca26"
                        ],
                        [
                          1,
                          "#f0f921"
                        ]
                      ]
                    },
                    "paper_bgcolor": "white",
                    "plot_bgcolor": "#E5ECF6",
                    "title": {
                      "x": 0.05
                    },
                    "scene": {
                      "zaxis": {
                        "backgroundcolor": "#E5ECF6",
                        "ticks": "",
                        "gridwidth": 2,
                        "showbackground": true,
                        "zerolinecolor": "white",
                        "gridcolor": "white",
                        "linecolor": "white"
                      },
                      "xaxis": {
                        "backgroundcolor": "#E5ECF6",
                        "ticks": "",
                        "gridwidth": 2,
                        "showbackground": true,
                        "zerolinecolor": "white",
                        "gridcolor": "white",
                        "linecolor": "white"
                      },
                      "yaxis": {
                        "backgroundcolor": "#E5ECF6",
                        "ticks": "",
                        "gridwidth": 2,
                        "showbackground": true,
                        "zerolinecolor": "white",
                        "gridcolor": "white",
                        "linecolor": "white"
                      }
                    },
                    "yaxis": {
                      "automargin": true,
                      "title": {
                        "standoff": 15
                      },
                      "zerolinewidth": 2,
                      "ticks": "",
                      "zerolinecolor": "white",
                      "gridcolor": "white",
                      "linecolor": "white"
                    },
                    "annotationdefaults": {
                      "arrowwidth": 1,
                      "arrowhead": 0,
                      "arrowcolor": "#2a3f5f"
                    },
                    "hoverlabel": {
                      "align": "left"
                    },
                    "ternary": {
                      "bgcolor": "#E5ECF6",
                      "baxis": {
                        "ticks": "",
                        "gridcolor": "white",
                        "linecolor": "white"
                      },
                      "caxis": {
                        "ticks": "",
                        "gridcolor": "white",
                        "linecolor": "white"
                      },
                      "aaxis": {
                        "ticks": "",
                        "gridcolor": "white",
                        "linecolor": "white"
                      }
                    },
                    "mapbox": {
                      "style": "light"
                    },
                    "hovermode": "closest",
                    "font": {
                      "color": "#2a3f5f"
                    },
                    "geo": {
                      "showland": true,
                      "landcolor": "#E5ECF6",
                      "showlakes": true,
                      "bgcolor": "white",
                      "subunitcolor": "white",
                      "lakecolor": "white"
                    },
                    "coloraxis": {
                      "colorbar": {
                        "outlinewidth": 0,
                        "ticks": ""
                      }
                    }
                  },
                  "data": {
                    "mesh3d": [
                      {
                        "colorbar": {
                          "outlinewidth": 0,
                          "ticks": ""
                        },
                        "type": "mesh3d"
                      }
                    ],
                    "scattercarpet": [
                      {
                        "marker": {
                          "colorbar": {
                            "outlinewidth": 0,
                            "ticks": ""
                          }
                        },
                        "type": "scattercarpet"
                      }
                    ],
                    "pie": [
                      {
                        "automargin": true,
                        "type": "pie"
                      }
                    ],
                    "surface": [
                      {
                        "colorbar": {
                          "outlinewidth": 0,
                          "ticks": ""
                        },
                        "type": "surface",
                        "colorscale": [
                          [
                            0,
                            "#0d0887"
                          ],
                          [
                            0.1111111111111111,
                            "#46039f"
                          ],
                          [
                            0.2222222222222222,
                            "#7201a8"
                          ],
                          [
                            0.3333333333333333,
                            "#9c179e"
                          ],
                          [
                            0.4444444444444444,
                            "#bd3786"
                          ],
                          [
                            0.5555555555555556,
                            "#d8576b"
                          ],
                          [
                            0.6666666666666666,
                            "#ed7953"
                          ],
                          [
                            0.7777777777777778,
                            "#fb9f3a"
                          ],
                          [
                            0.8888888888888888,
                            "#fdca26"
                          ],
                          [
                            1,
                            "#f0f921"
                          ]
                        ]
                      }
                    ],
                    "table": [
                      {
                        "header": {
                          "line": {
                            "color": "white"
                          },
                          "fill": {
                            "color": "#C8D4E3"
                          }
                        },
                        "cells": {
                          "line": {
                            "color": "white"
                          },
                          "fill": {
                            "color": "#EBF0F8"
                          }
                        },
                        "type": "table"
                      }
                    ],
                    "scatterpolargl": [
                      {
                        "marker": {
                          "colorbar": {
                            "outlinewidth": 0,
                            "ticks": ""
                          }
                        },
                        "type": "scatterpolargl"
                      }
                    ],
                    "contour": [
                      {
                        "colorbar": {
                          "outlinewidth": 0,
                          "ticks": ""
                        },
                        "type": "contour",
                        "colorscale": [
                          [
                            0,
                            "#0d0887"
                          ],
                          [
                            0.1111111111111111,
                            "#46039f"
                          ],
                          [
                            0.2222222222222222,
                            "#7201a8"
                          ],
                          [
                            0.3333333333333333,
                            "#9c179e"
                          ],
                          [
                            0.4444444444444444,
                            "#bd3786"
                          ],
                          [
                            0.5555555555555556,
                            "#d8576b"
                          ],
                          [
                            0.6666666666666666,
                            "#ed7953"
                          ],
                          [
                            0.7777777777777778,
                            "#fb9f3a"
                          ],
                          [
                            0.8888888888888888,
                            "#fdca26"
                          ],
                          [
                            1,
                            "#f0f921"
                          ]
                        ]
                      }
                    ],
                    "carpet": [
                      {
                        "type": "carpet",
                        "baxis": {
                          "minorgridcolor": "white",
                          "gridcolor": "white",
                          "linecolor": "white",
                          "endlinecolor": "#2a3f5f",
                          "startlinecolor": "#2a3f5f"
                        },
                        "aaxis": {
                          "minorgridcolor": "white",
                          "gridcolor": "white",
                          "linecolor": "white",
                          "endlinecolor": "#2a3f5f",
                          "startlinecolor": "#2a3f5f"
                        }
                      }
                    ],
                    "contourcarpet": [
                      {
                        "colorbar": {
                          "outlinewidth": 0,
                          "ticks": ""
                        },
                        "type": "contourcarpet"
                      }
                    ],
                    "heatmap": [
                      {
                        "colorbar": {
                          "outlinewidth": 0,
                          "ticks": ""
                        },
                        "type": "heatmap",
                        "colorscale": [
                          [
                            0,
                            "#0d0887"
                          ],
                          [
                            0.1111111111111111,
                            "#46039f"
                          ],
                          [
                            0.2222222222222222,
                            "#7201a8"
                          ],
                          [
                            0.3333333333333333,
                            "#9c179e"
                          ],
                          [
                            0.4444444444444444,
                            "#bd3786"
                          ],
                          [
                            0.5555555555555556,
                            "#d8576b"
                          ],
                          [
                            0.6666666666666666,
                            "#ed7953"
                          ],
                          [
                            0.7777777777777778,
                            "#fb9f3a"
                          ],
                          [
                            0.8888888888888888,
                            "#fdca26"
                          ],
                          [
                            1,
                            "#f0f921"
                          ]
                        ]
                      }
                    ],
                    "scattermapbox": [
                      {
                        "marker": {
                          "colorbar": {
                            "outlinewidth": 0,
                            "ticks": ""
                          }
                        },
                        "type": "scattermapbox"
                      }
                    ],
                    "scatter3d": [
                      {
                        "marker": {
                          "colorbar": {
                            "outlinewidth": 0,
                            "ticks": ""
                          }
                        },
                        "line": {
                          "colorbar": {
                            "outlinewidth": 0,
                            "ticks": ""
                          }
                        },
                        "type": "scatter3d"
                      }
                    ],
                    "scattergl": [
                      {
                        "marker": {
                          "colorbar": {
                            "outlinewidth": 0,
                            "ticks": ""
                          }
                        },
                        "type": "scattergl"
                      }
                    ],
                    "scatterternary": [
                      {
                        "marker": {
                          "colorbar": {
                            "outlinewidth": 0,
                            "ticks": ""
                          }
                        },
                        "type": "scatterternary"
                      }
                    ],
                    "histogram": [
                      {
                        "marker": {
                          "colorbar": {
                            "outlinewidth": 0,
                            "ticks": ""
                          }
                        },
                        "type": "histogram"
                      }
                    ],
                    "heatmapgl": [
                      {
                        "colorbar": {
                          "outlinewidth": 0,
                          "ticks": ""
                        },
                        "type": "heatmapgl",
                        "colorscale": [
                          [
                            0,
                            "#0d0887"
                          ],
                          [
                            0.1111111111111111,
                            "#46039f"
                          ],
                          [
                            0.2222222222222222,
                            "#7201a8"
                          ],
                          [
                            0.3333333333333333,
                            "#9c179e"
                          ],
                          [
                            0.4444444444444444,
                            "#bd3786"
                          ],
                          [
                            0.5555555555555556,
                            "#d8576b"
                          ],
                          [
                            0.6666666666666666,
                            "#ed7953"
                          ],
                          [
                            0.7777777777777778,
                            "#fb9f3a"
                          ],
                          [
                            0.8888888888888888,
                            "#fdca26"
                          ],
                          [
                            1,
                            "#f0f921"
                          ]
                        ]
                      }
                    ],
                    "scatterpolar": [
                      {
                        "marker": {
                          "colorbar": {
                            "outlinewidth": 0,
                            "ticks": ""
                          }
                        },
                        "type": "scatterpolar"
                      }
                    ],
                    "histogram2d": [
                      {
                        "colorbar": {
                          "outlinewidth": 0,
                          "ticks": ""
                        },
                        "type": "histogram2d",
                        "colorscale": [
                          [
                            0,
                            "#0d0887"
                          ],
                          [
                            0.1111111111111111,
                            "#46039f"
                          ],
                          [
                            0.2222222222222222,
                            "#7201a8"
                          ],
                          [
                            0.3333333333333333,
                            "#9c179e"
                          ],
                          [
                            0.4444444444444444,
                            "#bd3786"
                          ],
                          [
                            0.5555555555555556,
                            "#d8576b"
                          ],
                          [
                            0.6666666666666666,
                            "#ed7953"
                          ],
                          [
                            0.7777777777777778,
                            "#fb9f3a"
                          ],
                          [
                            0.8888888888888888,
                            "#fdca26"
                          ],
                          [
                            1,
                            "#f0f921"
                          ]
                        ]
                      }
                    ],
                    "scattergeo": [
                      {
                        "marker": {
                          "colorbar": {
                            "outlinewidth": 0,
                            "ticks": ""
                          }
                        },
                        "type": "scattergeo"
                      }
                    ],
                    "bar": [
                      {
                        "marker": {
                          "line": {
                            "color": "#E5ECF6",
                            "width": 0.5
                          }
                        },
                        "type": "bar",
                        "error_x": {
                          "color": "#2a3f5f"
                        },
                        "error_y": {
                          "color": "#2a3f5f"
                        }
                      }
                    ],
                    "choropleth": [
                      {
                        "colorbar": {
                          "outlinewidth": 0,
                          "ticks": ""
                        },
                        "type": "choropleth"
                      }
                    ],
                    "parcoords": [
                      {
                        "line": {
                          "colorbar": {
                            "outlinewidth": 0,
                            "ticks": ""
                          }
                        },
                        "type": "parcoords"
                      }
                    ],
                    "barpolar": [
                      {
                        "marker": {
                          "line": {
                            "color": "#E5ECF6",
                            "width": 0.5
                          }
                        },
                        "type": "barpolar"
                      }
                    ],
                    "histogram2dcontour": [
                      {
                        "colorbar": {
                          "outlinewidth": 0,
                          "ticks": ""
                        },
                        "type": "histogram2dcontour",
                        "colorscale": [
                          [
                            0,
                            "#0d0887"
                          ],
                          [
                            0.1111111111111111,
                            "#46039f"
                          ],
                          [
                            0.2222222222222222,
                            "#7201a8"
                          ],
                          [
                            0.3333333333333333,
                            "#9c179e"
                          ],
                          [
                            0.4444444444444444,
                            "#bd3786"
                          ],
                          [
                            0.5555555555555556,
                            "#d8576b"
                          ],
                          [
                            0.6666666666666666,
                            "#ed7953"
                          ],
                          [
                            0.7777777777777778,
                            "#fb9f3a"
                          ],
                          [
                            0.8888888888888888,
                            "#fdca26"
                          ],
                          [
                            1,
                            "#f0f921"
                          ]
                        ]
                      }
                    ],
                    "scatter": [
                      {
                        "marker": {
                          "colorbar": {
                            "outlinewidth": 0,
                            "ticks": ""
                          }
                        },
                        "type": "scatter"
                      }
                    ]
                  }
                },
                "title": {
                  "font": {
                    "color": "#4D5663"
                  }
                },
                "paper_bgcolor": "#F5F6F9",
                "plot_bgcolor": "#F5F6F9",
                "yaxis": {
                  "tickfont": {
                    "color": "#4D5663"
                  },
                  "zerolinecolor": "#E1E5ED",
                  "title": {
                    "text": "",
                    "font": {
                      "color": "#4D5663"
                    }
                  },
                  "gridcolor": "#E1E5ED",
                  "showgrid": true
                },
                "xaxis": {
                  "tickfont": {
                    "color": "#4D5663"
                  },
                  "zerolinecolor": "#E1E5ED",
                  "title": {
                    "text": "",
                    "font": {
                      "color": "#4D5663"
                    }
                  },
                  "gridcolor": "#E1E5ED",
                  "showgrid": true
                },
                "legend": {
                  "bgcolor": "#F5F6F9",
                  "font": {
                    "color": "#4D5663"
                  }
                }
              }
            }
          },
          "metadata": {
            "tags": []
          }
        }
      ]
    },
    {
      "cell_type": "code",
      "metadata": {
        "id": "ThybsJXIf2n6",
        "colab_type": "code",
        "outputId": "19117abf-799e-4b9d-f167-44bdd1fe81da",
        "colab": {
          "base_uri": "https://localhost:8080/",
          "height": 734
        }
      },
      "source": [
        "df.iplot(kind='spread')"
      ],
      "execution_count": 86,
      "outputs": [
        {
          "output_type": "stream",
          "text": [
            "/usr/local/lib/python3.6/dist-packages/cufflinks/plotlytools.py:849: FutureWarning:\n",
            "\n",
            "The pandas.np module is deprecated and will be removed from pandas in a future version. Import numpy directly instead\n",
            "\n",
            "/usr/local/lib/python3.6/dist-packages/cufflinks/plotlytools.py:850: FutureWarning:\n",
            "\n",
            "The pandas.np module is deprecated and will be removed from pandas in a future version. Import numpy directly instead\n",
            "\n"
          ],
          "name": "stderr"
        },
        {
          "output_type": "display_data",
          "data": {
            "text/html": [
              "<div>\n",
              "        \n",
              "        \n",
              "            <div id=\"bee43a4c-7393-40bf-b06a-b2abd69e641e\" class=\"plotly-graph-div\" style=\"height:525px; width:100%;\"></div>\n",
              "            <script type=\"text/javascript\">\n",
              "                require([\"plotly\"], function(Plotly) {\n",
              "                    window.PLOTLYENV=window.PLOTLYENV || {};\n",
              "                    window.PLOTLYENV.BASE_URL='https://plot.ly';\n",
              "                    \n",
              "                if (document.getElementById(\"bee43a4c-7393-40bf-b06a-b2abd69e641e\")) {\n",
              "                    Plotly.newPlot(\n",
              "                        'bee43a4c-7393-40bf-b06a-b2abd69e641e',\n",
              "                        [{\"line\": {\"color\": \"rgba(255, 153, 51, 1.0)\", \"dash\": \"solid\", \"shape\": \"linear\", \"width\": 1.3}, \"mode\": \"lines\", \"name\": \"a\", \"text\": \"\", \"type\": \"scatter\", \"x\": [0, 1, 2, 3, 4, 5, 6, 7, 8, 9, 10, 11, 12, 13, 14, 15, 16, 17, 18, 19, 20, 21, 22, 23, 24, 25, 26, 27, 28, 29, 30, 31, 32, 33, 34, 35, 36, 37, 38, 39, 40, 41, 42, 43, 44, 45, 46, 47, 48, 49, 50, 51, 52, 53, 54, 55, 56, 57, 58, 59, 60, 61, 62, 63, 64, 65, 66, 67, 68, 69, 70, 71, 72, 73, 74, 75, 76, 77, 78, 79, 80, 81, 82, 83, 84, 85, 86, 87, 88, 89, 90, 91, 92, 93, 94, 95, 96, 97, 98, 99], \"y\": [0.37609697461376856, 0.20015150787928115, 0.9613110930688991, 0.07379151292761887, 0.5415786144642684, 0.3859342648063391, 0.972174788802087, 0.7091101037151499, 0.8954384976164633, 0.7554321511313211, 0.22217275790160596, 0.2062588459113106, 0.6686828079858399, 0.1385909969629976, 0.21628933743800915, 0.9407633460152702, 0.48633981943569793, 0.6691552476559746, 0.42559479953074264, 0.3748273382152849, 0.01101695877733655, 0.9917208269321008, 0.06628893394252156, 0.006434719636494224, 0.2752766774577283, 0.6695172339512171, 0.07851299219330088, 0.22013074769731333, 0.15180715565343328, 0.3672598705716832, 0.5487387467486701, 0.6708331417204486, 0.9641722122716029, 0.23860162675291774, 0.5595010233288253, 0.4207726965477695, 0.9296296975190127, 0.14471446112499864, 0.7482004235668012, 0.38378608705385064, 0.6592042579643931, 0.3332143646705893, 0.3213975590197603, 0.10231675890827119, 0.12001921898701451, 0.24543501694234093, 0.1547112687051263, 0.7083402558058903, 0.6141910561099395, 0.9203213180531646, 0.5192264585593097, 0.18810572200791964, 0.47376086050116795, 0.8040434645619444, 0.4973297589232646, 0.9093224563690225, 0.6574138593651496, 0.7518166791373752, 0.15137793778333286, 0.493838158900881, 0.9581497810056016, 0.12684171613837325, 0.3428605590667809, 0.6628628621864585, 0.7583618481961643, 0.015250298143215213, 0.5051731167157442, 0.6368787013670724, 0.7046551818496082, 0.639755771480962, 0.8336010946451613, 0.2076820246851756, 0.5150977091558013, 0.428652765496509, 0.7298535406519255, 0.533394380569046, 0.8406229288919806, 0.514896550694654, 0.24333737343337358, 0.23031163003017174, 0.5530993873585878, 0.7989437236541155, 0.1967445859198027, 0.08152369487640165, 0.4424218698954493, 0.8510036671202461, 0.4948547899299717, 0.9159627056706446, 0.3599765788376408, 0.283437923196066, 0.37808683387390607, 0.09468901619714476, 0.6376254008074992, 0.32429305515472284, 0.8886079420484048, 0.26336850366689935, 0.9992474933271761, 0.561038367988352, 0.364177225500636, 0.4311612070114388]}, {\"line\": {\"color\": \"rgba(55, 128, 191, 1.0)\", \"dash\": \"solid\", \"shape\": \"linear\", \"width\": 1.3}, \"mode\": \"lines\", \"name\": \"b\", \"text\": \"\", \"type\": \"scatter\", \"x\": [0, 1, 2, 3, 4, 5, 6, 7, 8, 9, 10, 11, 12, 13, 14, 15, 16, 17, 18, 19, 20, 21, 22, 23, 24, 25, 26, 27, 28, 29, 30, 31, 32, 33, 34, 35, 36, 37, 38, 39, 40, 41, 42, 43, 44, 45, 46, 47, 48, 49, 50, 51, 52, 53, 54, 55, 56, 57, 58, 59, 60, 61, 62, 63, 64, 65, 66, 67, 68, 69, 70, 71, 72, 73, 74, 75, 76, 77, 78, 79, 80, 81, 82, 83, 84, 85, 86, 87, 88, 89, 90, 91, 92, 93, 94, 95, 96, 97, 98, 99], \"y\": [0.7285965508552592, 0.3264395565507072, 0.17777337886531763, 0.08930993873550008, 0.8917585974979793, 0.39328479095156954, 0.661044701778079, 0.31317096036364545, 0.8641280190087983, 0.29448025520164534, 0.9172442659081431, 0.36292097680538116, 0.3554448326969416, 0.20271836303112145, 0.9693589388581938, 0.04693355571242208, 0.4890576634401125, 0.6536337883313069, 0.8854395409190047, 0.5064989724408591, 0.5177495006139676, 0.30875202542359237, 0.016240728943423655, 0.7834149745171924, 0.38603785216769193, 0.5614058829937794, 0.37200945056313195, 0.30007776657750385, 0.09628227401162892, 0.5483526487654512, 0.7385265443831003, 0.7232859926189801, 0.9265120905167069, 0.035362210377484105, 0.6672663812787749, 0.21490958585447295, 0.2034490150798055, 0.8607075458055333, 0.8041008849023151, 0.4608229570089897, 0.6083372495229005, 0.9802477288968282, 0.7062359647645287, 0.0650822657907546, 0.9861519202719178, 0.5721523248847868, 0.19751163895220247, 0.4543177601270535, 0.14261275324915823, 0.4728588624217832, 0.5592942947432572, 0.7415887756520115, 0.5391528613387303, 0.07990386340000455, 0.9094069297636461, 0.27827164172163366, 0.881728213787127, 0.27486540521877467, 0.5386164239153762, 0.11833171885609695, 0.33386808000628676, 0.9033628528313126, 0.5950396889040918, 0.7458306665974866, 0.9753740963450107, 0.7087747686929403, 0.8159432338974885, 0.06734844377307159, 0.40192055274708194, 0.4612851963857856, 0.5078709162772186, 0.8738711152991113, 0.059166742328256694, 0.6557880674981983, 0.49700229931549367, 0.05625451927382341, 0.130576304055672, 0.8008490788833187, 0.6718107056736079, 0.47653881810481447, 0.6226161066927288, 0.1861185134304596, 0.8063705664889177, 0.7907469399018273, 0.8443286598128386, 0.9814386847107586, 0.3388133906449925, 0.3281358529831484, 0.936186925412127, 0.1984755418930455, 0.637183207813849, 0.25052858666709477, 0.3222794238067487, 0.8183157529121003, 0.8656218004927918, 0.4058313927983348, 0.9985326391547292, 0.3786258261022504, 0.37241492730611514, 0.9818317910324574]}, {\"line\": {\"color\": \"rgba(50, 171, 96, 1.0)\", \"dash\": \"solid\", \"shape\": \"linear\", \"width\": 1.3}, \"mode\": \"lines\", \"name\": \"c\", \"text\": \"\", \"type\": \"scatter\", \"x\": [0, 1, 2, 3, 4, 5, 6, 7, 8, 9, 10, 11, 12, 13, 14, 15, 16, 17, 18, 19, 20, 21, 22, 23, 24, 25, 26, 27, 28, 29, 30, 31, 32, 33, 34, 35, 36, 37, 38, 39, 40, 41, 42, 43, 44, 45, 46, 47, 48, 49, 50, 51, 52, 53, 54, 55, 56, 57, 58, 59, 60, 61, 62, 63, 64, 65, 66, 67, 68, 69, 70, 71, 72, 73, 74, 75, 76, 77, 78, 79, 80, 81, 82, 83, 84, 85, 86, 87, 88, 89, 90, 91, 92, 93, 94, 95, 96, 97, 98, 99], \"y\": [0.7030207193173571, 0.35583062930134157, 0.7219531565584852, 0.4799423456564822, 0.13675174000999502, 0.16454489141747353, 0.28610551931517225, 0.3774224861853419, 0.5743432106089703, 0.6266564051456853, 0.09558444517754117, 0.8541867811698662, 0.9977452529410914, 0.3162481196937027, 0.6766125014832662, 0.6825516993942756, 0.48236423053519295, 0.7788800530678027, 0.5831326678736304, 0.44270071482355766, 0.6959168241612144, 0.049663355972474954, 0.6295388247540692, 0.019921943865609082, 0.7832505993976336, 0.509341064575061, 0.3149508710075314, 0.7112418574279137, 0.6906147961095919, 0.7241531608614012, 0.2739761147966835, 0.6382475930379901, 0.852737291921063, 0.3424604471704169, 0.3827782758010494, 0.5013037363017011, 0.09138283977477024, 0.4630554367356968, 0.66201843397268, 0.02333288646895204, 0.46099280790580943, 0.9491061765521756, 0.13553394936508534, 0.5788746700362015, 0.7010209731763317, 0.044263664583029105, 0.4963177710840555, 0.880751227587059, 0.9247519627757856, 0.5025911478842829, 0.2980755354673419, 0.19199369146906198, 0.8209278594515776, 0.14034193836174003, 0.04027653903230588, 0.5613341428927795, 0.8338210654236295, 0.7698904284831728, 0.6922542477577582, 0.5191183925094653, 0.48832870086609836, 0.10177853100250012, 0.45374816475247004, 0.9804359687805045, 0.7161593123614844, 0.4997450990040522, 0.13321610787029103, 0.09954212146227515, 0.8767234930065636, 0.4852752694958198, 0.8197039742081785, 0.6725408332205893, 0.6253187686723319, 0.05265507595431018, 0.8426341208975354, 0.200422561383231, 0.05136394740161454, 0.6146352808830764, 0.6534438549635678, 0.7450079547115416, 0.49661454928288795, 0.6929918011165636, 0.37512948766645127, 0.6983584851156005, 0.6168490897974865, 0.15157749029569556, 0.5807722269120572, 0.18012805321176073, 0.22663594019617017, 0.8979482167661446, 0.5850944677260471, 0.26914547558021773, 0.9863844193674619, 0.9074544633450553, 0.6064701995618049, 0.6706934606707955, 0.06968751496143422, 0.46675602780782677, 0.391501119896529, 0.8108714682632849]}, {\"line\": {\"color\": \"rgba(128, 0, 128, 1.0)\", \"dash\": \"solid\", \"shape\": \"linear\", \"width\": 1.3}, \"mode\": \"lines\", \"name\": \"d\", \"text\": \"\", \"type\": \"scatter\", \"x\": [0, 1, 2, 3, 4, 5, 6, 7, 8, 9, 10, 11, 12, 13, 14, 15, 16, 17, 18, 19, 20, 21, 22, 23, 24, 25, 26, 27, 28, 29, 30, 31, 32, 33, 34, 35, 36, 37, 38, 39, 40, 41, 42, 43, 44, 45, 46, 47, 48, 49, 50, 51, 52, 53, 54, 55, 56, 57, 58, 59, 60, 61, 62, 63, 64, 65, 66, 67, 68, 69, 70, 71, 72, 73, 74, 75, 76, 77, 78, 79, 80, 81, 82, 83, 84, 85, 86, 87, 88, 89, 90, 91, 92, 93, 94, 95, 96, 97, 98, 99], \"y\": [0.4487381832738343, 0.3540721442818683, 0.6257943025272031, 0.08345830008439392, 0.5059000210506899, 0.059059030106884514, 0.5973853446562146, 0.35132996262759386, 0.0830860608770152, 0.30048285286514176, 0.36079976404941516, 0.20291781754118532, 0.45296157349100874, 0.1909017820244, 0.5529300975289005, 0.3197049174393769, 0.8997623397297769, 0.968832659846804, 0.3160594686578737, 0.9646079753426436, 0.6049520885438499, 0.5860559233365114, 0.9216848885527895, 0.4704558864254933, 0.3102956960959804, 0.16236250528431817, 0.9774991249131374, 0.6593377153810673, 0.16204054664771717, 0.22646500032489914, 0.46739428397933325, 0.5976835808165961, 0.8950739755650422, 0.45469473030326346, 0.04818063470018319, 0.1413900509457635, 0.37565660471632023, 0.4320324680763329, 0.008738364189422199, 0.10554664989259377, 0.6443181897290235, 0.5518161808244787, 0.6861715516598176, 0.6858005420700327, 0.7364731690869807, 0.6434996011534879, 0.12832919729144243, 0.6848747759572715, 0.6764440261289061, 0.40665221642840077, 0.8306621594393051, 0.9742844312899147, 0.2967071332942144, 0.023395135911267406, 0.3536518715179001, 0.76035117882619, 0.7704040083114605, 0.4152494377014936, 0.6643220443859128, 0.6348170146123333, 0.7170274437479984, 0.07244216419454097, 0.9812568690040028, 0.6946857346485762, 0.0018871820084116475, 0.7235513297962808, 0.243165685251715, 0.6984069822893493, 0.643603099278151, 0.6974421685973411, 0.48066364557716323, 0.027205930250465582, 0.5436367544159736, 0.048852772604564776, 0.928279229312726, 0.15011881964352658, 0.22827689231261517, 0.28911895596122106, 0.7368772257363315, 0.5466821764755295, 0.36640166867525226, 0.6969605404542606, 0.49420799081413136, 0.5602261095465022, 0.5835319684831781, 0.555112057348069, 0.8611667388304789, 0.5723124675052725, 0.021342690608009862, 0.7659591552952552, 0.022827545476074906, 0.15788403583593036, 0.9473268734612786, 0.6419075384725462, 0.3740090444934504, 0.3886025436122388, 0.42749598630289476, 0.4800586321769452, 0.2587307144486364, 0.5809084400683521]}, {\"line\": {\"color\": \"rgba(219, 64, 82, 1.0)\", \"dash\": \"solid\", \"shape\": \"linear\", \"width\": 1.3}, \"mode\": \"lines\", \"name\": \"e\", \"text\": \"\", \"type\": \"scatter\", \"x\": [0, 1, 2, 3, 4, 5, 6, 7, 8, 9, 10, 11, 12, 13, 14, 15, 16, 17, 18, 19, 20, 21, 22, 23, 24, 25, 26, 27, 28, 29, 30, 31, 32, 33, 34, 35, 36, 37, 38, 39, 40, 41, 42, 43, 44, 45, 46, 47, 48, 49, 50, 51, 52, 53, 54, 55, 56, 57, 58, 59, 60, 61, 62, 63, 64, 65, 66, 67, 68, 69, 70, 71, 72, 73, 74, 75, 76, 77, 78, 79, 80, 81, 82, 83, 84, 85, 86, 87, 88, 89, 90, 91, 92, 93, 94, 95, 96, 97, 98, 99], \"y\": [0.8748531559702172, 0.3458717449962889, 0.3622236158154418, 0.05199334195967409, 0.8746333911041947, 0.10281066663534355, 0.4208372440510276, 0.8148490858091003, 0.16974769337206186, 0.04942713231122953, 0.01858666000561815, 0.6513929481678175, 0.03817096818419119, 0.9088355861594041, 0.2283162022342512, 0.4234842321828065, 0.40040422310211043, 0.48019185101527007, 0.4429199697011208, 0.26496184147781576, 0.051168842225511546, 0.8839765740584115, 0.3930160237833683, 0.06297488964270503, 0.43621604520763557, 0.7740172339793485, 0.7250284117328657, 0.1874235550442147, 0.9107374974923665, 0.6079148891096738, 0.33435306288093736, 0.048425792198065976, 0.13652641905428442, 0.16092785375366137, 0.2559005577168859, 0.7254823108628258, 0.9352189302779806, 0.13508142762782083, 0.40161832047897483, 0.8849658488652499, 0.4997542336124198, 0.26621929577003134, 0.9157084449306039, 0.613693019248173, 0.13824122193102784, 0.5126847169070776, 0.46501794932045204, 0.6751049617330164, 0.684556191821915, 0.45813710170875954, 0.36568675236295345, 0.13212421899536342, 0.8254414177459369, 0.30922594618281274, 0.4680803668972692, 0.6075850646207533, 0.605681624667661, 0.9216138565398706, 0.35690340844635915, 0.8117358719769993, 0.572360475563296, 0.6704175383981241, 0.6736765935931956, 0.40942144942294223, 0.41507088451534757, 0.3084191876282668, 0.7362836204898375, 0.6169168220178494, 0.2956403852312859, 0.3706688844161228, 0.802520075655963, 0.3324222100293889, 0.7773753660863424, 0.6639798193722469, 0.4399502496111627, 0.6079750212859367, 0.39918369301805556, 0.8135738879233281, 0.5464328878314737, 0.04285486200049238, 0.04624906629647929, 0.042245542635432676, 0.4228684707065993, 0.4749792003928308, 0.3575371010656768, 0.11731784049301552, 0.9655674898350809, 0.741239772757126, 0.41235887205352173, 0.44922615861504667, 0.24882112334497752, 0.8244535758660653, 0.3491863715105338, 0.00721110915755907, 0.7172316223964905, 0.2657919559815368, 0.23058370381523652, 0.9713939660478692, 0.8488283579867641, 0.3163051716341264]}, {\"connectgaps\": false, \"fill\": \"tozeroy\", \"line\": {\"color\": \"green\", \"dash\": \"solid\", \"shape\": \"linear\", \"width\": 0.5}, \"mode\": \"lines\", \"name\": \"Spread\", \"showlegend\": false, \"type\": \"scatter\", \"x\": [0, 1, 2, 3, 4, 5, 6, 7, 8, 9, 10, 11, 12, 13, 14, 15, 16, 17, 18, 19, 20, 21, 22, 23, 24, 25, 26, 27, 28, 29, 30, 31, 32, 33, 34, 35, 36, 37, 38, 39, 40, 41, 42, 43, 44, 45, 46, 47, 48, 49, 50, 51, 52, 53, 54, 55, 56, 57, 58, 59, 60, 61, 62, 63, 64, 65, 66, 67, 68, 69, 70, 71, 72, 73, 74, 75, 76, 77, 78, 79, 80, 81, 82, 83, 84, 85, 86, 87, 88, 89, 90, 91, 92, 93, 94, 95, 96, 97, 98, 99], \"xaxis\": \"x2\", \"y\": [\"\", \"\", 0.7835377142035814, \"\", \"\", \"\", 0.311130087024008, 0.3959391433515045, 0.031310478607665004, 0.4609518959296758, \"\", \"\", 0.3132379752888983, \"\", \"\", 0.8938297903028481, \"\", 0.015521459324667641, \"\", \"\", \"\", 0.6829688015085085, 0.0500482049990979, \"\", \"\", 0.10811135095743774, \"\", \"\", 0.05552488164180436, \"\", \"\", \"\", 0.03766012175489597, 0.20323941637543363, \"\", 0.20586311069329655, 0.7261806824392072, \"\", \"\", \"\", 0.05086700844149261, \"\", \"\", 0.03723449311751659, \"\", \"\", \"\", 0.25402249567883683, 0.4715783028607813, 0.44746245563138143, \"\", \"\", \"\", 0.7241396011619399, \"\", 0.6310508146473889, \"\", 0.4769512739186005, \"\", 0.37550644004478406, 0.6242817009993148, \"\", \"\", \"\", \"\", \"\", \"\", 0.5695302575940008, 0.30273462910252624, 0.1784705750951764, 0.3257301783679427, \"\", 0.45593096682754464, \"\", 0.23285124133643187, 0.47713986129522257, 0.7100466248363086, \"\", \"\", \"\", \"\", 0.6128252102236559, \"\", \"\", \"\", \"\", 0.15604139928497918, 0.5878268526874962, \"\", 0.08496238130302047, \"\", \"\", 0.3153459770007505, \"\", 0.02298614155561296, \"\", 0.0007148541724468771, 0.18241254188610168, \"\", \"\"], \"yaxis\": \"y2\"}, {\"connectgaps\": false, \"fill\": \"tozeroy\", \"line\": {\"color\": \"red\", \"dash\": \"solid\", \"shape\": \"linear\", \"width\": 0.5}, \"mode\": \"lines\", \"name\": \"Spread\", \"showlegend\": false, \"type\": \"scatter\", \"x\": [0, 1, 2, 3, 4, 5, 6, 7, 8, 9, 10, 11, 12, 13, 14, 15, 16, 17, 18, 19, 20, 21, 22, 23, 24, 25, 26, 27, 28, 29, 30, 31, 32, 33, 34, 35, 36, 37, 38, 39, 40, 41, 42, 43, 44, 45, 46, 47, 48, 49, 50, 51, 52, 53, 54, 55, 56, 57, 58, 59, 60, 61, 62, 63, 64, 65, 66, 67, 68, 69, 70, 71, 72, 73, 74, 75, 76, 77, 78, 79, 80, 81, 82, 83, 84, 85, 86, 87, 88, 89, 90, 91, 92, 93, 94, 95, 96, 97, 98, 99], \"xaxis\": \"x2\", \"y\": [-0.35249957624149064, -0.12628804867142607, \"\", -0.015518425807881209, -0.3501799830337109, -0.007350526145230463, \"\", \"\", \"\", \"\", -0.6950715080065372, -0.15666213089407055, \"\", -0.06412736606812386, -0.7530696014201846, \"\", -0.002717844004414549, \"\", -0.45984474138826203, -0.13167163422557415, -0.5067325418366311, \"\", \"\", -0.7769802548806982, -0.1107611747099636, \"\", -0.29349645836983107, -0.07994701888019051, \"\", -0.181092778193768, -0.1897877976344302, -0.05245285089853147, \"\", \"\", -0.10776535794994957, \"\", \"\", -0.7159930846805347, -0.05590046133551396, -0.07703686995513903, \"\", -0.6470333642262389, -0.38483840574476835, \"\", -0.8661327012849033, -0.3267173079424459, -0.04280037024707617, \"\", \"\", \"\", -0.04006783618394749, -0.5534830536440919, -0.06539200083756236, \"\", -0.41207717084038153, \"\", -0.22431435442197734, \"\", -0.38723848613204337, \"\", \"\", -0.7765211366929393, -0.25217912983731083, -0.08296780441102813, -0.21701224814884645, -0.6935244705497251, -0.3107701171817443, \"\", \"\", \"\", \"\", -0.6661890906139357, \"\", -0.2271353020016893, \"\", \"\", \"\", -0.2859525281886647, -0.4284733322402343, -0.24622718807464272, -0.06951671933414105, \"\", -0.609625980569115, -0.7092232450254257, -0.40190678991738926, -0.13043501759051246, \"\", \"\", -0.5762103465744862, \"\", -0.2590963739399429, -0.15583957046995, \"\", -0.4940226977573775, \"\", -0.14246288913143546, \"\", \"\", -0.008237701805479114, -0.5506705840210186], \"yaxis\": \"y2\"}],\n",
              "                        {\"hovermode\": \"x\", \"legend\": {\"bgcolor\": \"#F5F6F9\", \"font\": {\"color\": \"#4D5663\"}}, \"paper_bgcolor\": \"#F5F6F9\", \"plot_bgcolor\": \"#F5F6F9\", \"template\": {\"data\": {\"bar\": [{\"error_x\": {\"color\": \"#2a3f5f\"}, \"error_y\": {\"color\": \"#2a3f5f\"}, \"marker\": {\"line\": {\"color\": \"#E5ECF6\", \"width\": 0.5}}, \"type\": \"bar\"}], \"barpolar\": [{\"marker\": {\"line\": {\"color\": \"#E5ECF6\", \"width\": 0.5}}, \"type\": \"barpolar\"}], \"carpet\": [{\"aaxis\": {\"endlinecolor\": \"#2a3f5f\", \"gridcolor\": \"white\", \"linecolor\": \"white\", \"minorgridcolor\": \"white\", \"startlinecolor\": \"#2a3f5f\"}, \"baxis\": {\"endlinecolor\": \"#2a3f5f\", \"gridcolor\": \"white\", \"linecolor\": \"white\", \"minorgridcolor\": \"white\", \"startlinecolor\": \"#2a3f5f\"}, \"type\": \"carpet\"}], \"choropleth\": [{\"colorbar\": {\"outlinewidth\": 0, \"ticks\": \"\"}, \"type\": \"choropleth\"}], \"contour\": [{\"colorbar\": {\"outlinewidth\": 0, \"ticks\": \"\"}, \"colorscale\": [[0.0, \"#0d0887\"], [0.1111111111111111, \"#46039f\"], [0.2222222222222222, \"#7201a8\"], [0.3333333333333333, \"#9c179e\"], [0.4444444444444444, \"#bd3786\"], [0.5555555555555556, \"#d8576b\"], [0.6666666666666666, \"#ed7953\"], [0.7777777777777778, \"#fb9f3a\"], [0.8888888888888888, \"#fdca26\"], [1.0, \"#f0f921\"]], \"type\": \"contour\"}], \"contourcarpet\": [{\"colorbar\": {\"outlinewidth\": 0, \"ticks\": \"\"}, \"type\": \"contourcarpet\"}], \"heatmap\": [{\"colorbar\": {\"outlinewidth\": 0, \"ticks\": \"\"}, \"colorscale\": [[0.0, \"#0d0887\"], [0.1111111111111111, \"#46039f\"], [0.2222222222222222, \"#7201a8\"], [0.3333333333333333, \"#9c179e\"], [0.4444444444444444, \"#bd3786\"], [0.5555555555555556, \"#d8576b\"], [0.6666666666666666, \"#ed7953\"], [0.7777777777777778, \"#fb9f3a\"], [0.8888888888888888, \"#fdca26\"], [1.0, \"#f0f921\"]], \"type\": \"heatmap\"}], \"heatmapgl\": [{\"colorbar\": {\"outlinewidth\": 0, \"ticks\": \"\"}, \"colorscale\": [[0.0, \"#0d0887\"], [0.1111111111111111, \"#46039f\"], [0.2222222222222222, \"#7201a8\"], [0.3333333333333333, \"#9c179e\"], [0.4444444444444444, \"#bd3786\"], [0.5555555555555556, \"#d8576b\"], [0.6666666666666666, \"#ed7953\"], [0.7777777777777778, \"#fb9f3a\"], [0.8888888888888888, \"#fdca26\"], [1.0, \"#f0f921\"]], \"type\": \"heatmapgl\"}], \"histogram\": [{\"marker\": {\"colorbar\": {\"outlinewidth\": 0, \"ticks\": \"\"}}, \"type\": \"histogram\"}], \"histogram2d\": [{\"colorbar\": {\"outlinewidth\": 0, \"ticks\": \"\"}, \"colorscale\": [[0.0, \"#0d0887\"], [0.1111111111111111, \"#46039f\"], [0.2222222222222222, \"#7201a8\"], [0.3333333333333333, \"#9c179e\"], [0.4444444444444444, \"#bd3786\"], [0.5555555555555556, \"#d8576b\"], [0.6666666666666666, \"#ed7953\"], [0.7777777777777778, \"#fb9f3a\"], [0.8888888888888888, \"#fdca26\"], [1.0, \"#f0f921\"]], \"type\": \"histogram2d\"}], \"histogram2dcontour\": [{\"colorbar\": {\"outlinewidth\": 0, \"ticks\": \"\"}, \"colorscale\": [[0.0, \"#0d0887\"], [0.1111111111111111, \"#46039f\"], [0.2222222222222222, \"#7201a8\"], [0.3333333333333333, \"#9c179e\"], [0.4444444444444444, \"#bd3786\"], [0.5555555555555556, \"#d8576b\"], [0.6666666666666666, \"#ed7953\"], [0.7777777777777778, \"#fb9f3a\"], [0.8888888888888888, \"#fdca26\"], [1.0, \"#f0f921\"]], \"type\": \"histogram2dcontour\"}], \"mesh3d\": [{\"colorbar\": {\"outlinewidth\": 0, \"ticks\": \"\"}, \"type\": \"mesh3d\"}], \"parcoords\": [{\"line\": {\"colorbar\": {\"outlinewidth\": 0, \"ticks\": \"\"}}, \"type\": \"parcoords\"}], \"pie\": [{\"automargin\": true, \"type\": \"pie\"}], \"scatter\": [{\"marker\": {\"colorbar\": {\"outlinewidth\": 0, \"ticks\": \"\"}}, \"type\": \"scatter\"}], \"scatter3d\": [{\"line\": {\"colorbar\": {\"outlinewidth\": 0, \"ticks\": \"\"}}, \"marker\": {\"colorbar\": {\"outlinewidth\": 0, \"ticks\": \"\"}}, \"type\": \"scatter3d\"}], \"scattercarpet\": [{\"marker\": {\"colorbar\": {\"outlinewidth\": 0, \"ticks\": \"\"}}, \"type\": \"scattercarpet\"}], \"scattergeo\": [{\"marker\": {\"colorbar\": {\"outlinewidth\": 0, \"ticks\": \"\"}}, \"type\": \"scattergeo\"}], \"scattergl\": [{\"marker\": {\"colorbar\": {\"outlinewidth\": 0, \"ticks\": \"\"}}, \"type\": \"scattergl\"}], \"scattermapbox\": [{\"marker\": {\"colorbar\": {\"outlinewidth\": 0, \"ticks\": \"\"}}, \"type\": \"scattermapbox\"}], \"scatterpolar\": [{\"marker\": {\"colorbar\": {\"outlinewidth\": 0, \"ticks\": \"\"}}, \"type\": \"scatterpolar\"}], \"scatterpolargl\": [{\"marker\": {\"colorbar\": {\"outlinewidth\": 0, \"ticks\": \"\"}}, \"type\": \"scatterpolargl\"}], \"scatterternary\": [{\"marker\": {\"colorbar\": {\"outlinewidth\": 0, \"ticks\": \"\"}}, \"type\": \"scatterternary\"}], \"surface\": [{\"colorbar\": {\"outlinewidth\": 0, \"ticks\": \"\"}, \"colorscale\": [[0.0, \"#0d0887\"], [0.1111111111111111, \"#46039f\"], [0.2222222222222222, \"#7201a8\"], [0.3333333333333333, \"#9c179e\"], [0.4444444444444444, \"#bd3786\"], [0.5555555555555556, \"#d8576b\"], [0.6666666666666666, \"#ed7953\"], [0.7777777777777778, \"#fb9f3a\"], [0.8888888888888888, \"#fdca26\"], [1.0, \"#f0f921\"]], \"type\": \"surface\"}], \"table\": [{\"cells\": {\"fill\": {\"color\": \"#EBF0F8\"}, \"line\": {\"color\": \"white\"}}, \"header\": {\"fill\": {\"color\": \"#C8D4E3\"}, \"line\": {\"color\": \"white\"}}, \"type\": \"table\"}]}, \"layout\": {\"annotationdefaults\": {\"arrowcolor\": \"#2a3f5f\", \"arrowhead\": 0, \"arrowwidth\": 1}, \"coloraxis\": {\"colorbar\": {\"outlinewidth\": 0, \"ticks\": \"\"}}, \"colorscale\": {\"diverging\": [[0, \"#8e0152\"], [0.1, \"#c51b7d\"], [0.2, \"#de77ae\"], [0.3, \"#f1b6da\"], [0.4, \"#fde0ef\"], [0.5, \"#f7f7f7\"], [0.6, \"#e6f5d0\"], [0.7, \"#b8e186\"], [0.8, \"#7fbc41\"], [0.9, \"#4d9221\"], [1, \"#276419\"]], \"sequential\": [[0.0, \"#0d0887\"], [0.1111111111111111, \"#46039f\"], [0.2222222222222222, \"#7201a8\"], [0.3333333333333333, \"#9c179e\"], [0.4444444444444444, \"#bd3786\"], [0.5555555555555556, \"#d8576b\"], [0.6666666666666666, \"#ed7953\"], [0.7777777777777778, \"#fb9f3a\"], [0.8888888888888888, \"#fdca26\"], [1.0, \"#f0f921\"]], \"sequentialminus\": [[0.0, \"#0d0887\"], [0.1111111111111111, \"#46039f\"], [0.2222222222222222, \"#7201a8\"], [0.3333333333333333, \"#9c179e\"], [0.4444444444444444, \"#bd3786\"], [0.5555555555555556, \"#d8576b\"], [0.6666666666666666, \"#ed7953\"], [0.7777777777777778, \"#fb9f3a\"], [0.8888888888888888, \"#fdca26\"], [1.0, \"#f0f921\"]]}, \"colorway\": [\"#636efa\", \"#EF553B\", \"#00cc96\", \"#ab63fa\", \"#FFA15A\", \"#19d3f3\", \"#FF6692\", \"#B6E880\", \"#FF97FF\", \"#FECB52\"], \"font\": {\"color\": \"#2a3f5f\"}, \"geo\": {\"bgcolor\": \"white\", \"lakecolor\": \"white\", \"landcolor\": \"#E5ECF6\", \"showlakes\": true, \"showland\": true, \"subunitcolor\": \"white\"}, \"hoverlabel\": {\"align\": \"left\"}, \"hovermode\": \"closest\", \"mapbox\": {\"style\": \"light\"}, \"paper_bgcolor\": \"white\", \"plot_bgcolor\": \"#E5ECF6\", \"polar\": {\"angularaxis\": {\"gridcolor\": \"white\", \"linecolor\": \"white\", \"ticks\": \"\"}, \"bgcolor\": \"#E5ECF6\", \"radialaxis\": {\"gridcolor\": \"white\", \"linecolor\": \"white\", \"ticks\": \"\"}}, \"scene\": {\"xaxis\": {\"backgroundcolor\": \"#E5ECF6\", \"gridcolor\": \"white\", \"gridwidth\": 2, \"linecolor\": \"white\", \"showbackground\": true, \"ticks\": \"\", \"zerolinecolor\": \"white\"}, \"yaxis\": {\"backgroundcolor\": \"#E5ECF6\", \"gridcolor\": \"white\", \"gridwidth\": 2, \"linecolor\": \"white\", \"showbackground\": true, \"ticks\": \"\", \"zerolinecolor\": \"white\"}, \"zaxis\": {\"backgroundcolor\": \"#E5ECF6\", \"gridcolor\": \"white\", \"gridwidth\": 2, \"linecolor\": \"white\", \"showbackground\": true, \"ticks\": \"\", \"zerolinecolor\": \"white\"}}, \"shapedefaults\": {\"line\": {\"color\": \"#2a3f5f\"}}, \"ternary\": {\"aaxis\": {\"gridcolor\": \"white\", \"linecolor\": \"white\", \"ticks\": \"\"}, \"baxis\": {\"gridcolor\": \"white\", \"linecolor\": \"white\", \"ticks\": \"\"}, \"bgcolor\": \"#E5ECF6\", \"caxis\": {\"gridcolor\": \"white\", \"linecolor\": \"white\", \"ticks\": \"\"}}, \"title\": {\"x\": 0.05}, \"xaxis\": {\"automargin\": true, \"gridcolor\": \"white\", \"linecolor\": \"white\", \"ticks\": \"\", \"title\": {\"standoff\": 15}, \"zerolinecolor\": \"white\", \"zerolinewidth\": 2}, \"yaxis\": {\"automargin\": true, \"gridcolor\": \"white\", \"linecolor\": \"white\", \"ticks\": \"\", \"title\": {\"standoff\": 15}, \"zerolinecolor\": \"white\", \"zerolinewidth\": 2}}}, \"title\": {\"font\": {\"color\": \"#4D5663\"}}, \"xaxis\": {\"gridcolor\": \"#E1E5ED\", \"showgrid\": true, \"tickfont\": {\"color\": \"#4D5663\"}, \"title\": {\"font\": {\"color\": \"#4D5663\"}, \"text\": \"\"}, \"zerolinecolor\": \"#E1E5ED\"}, \"xaxis2\": {\"anchor\": \"y2\", \"gridcolor\": \"#E1E5ED\", \"showgrid\": true, \"showticklabels\": false, \"tickfont\": {\"color\": \"#4D5663\"}, \"title\": {\"font\": {\"color\": \"#4D5663\"}, \"text\": \"\"}, \"zerolinecolor\": \"#E1E5ED\"}, \"yaxis\": {\"domain\": [0.3, 1], \"gridcolor\": \"#E1E5ED\", \"showgrid\": true, \"tickfont\": {\"color\": \"#4D5663\"}, \"title\": {\"font\": {\"color\": \"#4D5663\"}, \"text\": \"\"}, \"zerolinecolor\": \"#E1E5ED\"}, \"yaxis2\": {\"domain\": [0, 0.25], \"gridcolor\": \"#E1E5ED\", \"showgrid\": true, \"tickfont\": {\"color\": \"#4D5663\"}, \"title\": {\"font\": {\"color\": \"#4D5663\"}, \"text\": \"Spread\"}, \"zerolinecolor\": \"#E1E5ED\"}},\n",
              "                        {\"showLink\": true, \"linkText\": \"Export to plot.ly\", \"plotlyServerURL\": \"https://plot.ly\", \"responsive\": true}\n",
              "                    ).then(function(){\n",
              "                            \n",
              "var gd = document.getElementById('bee43a4c-7393-40bf-b06a-b2abd69e641e');\n",
              "var x = new MutationObserver(function (mutations, observer) {{\n",
              "        var display = window.getComputedStyle(gd).display;\n",
              "        if (!display || display === 'none') {{\n",
              "            console.log([gd, 'removed!']);\n",
              "            Plotly.purge(gd);\n",
              "            observer.disconnect();\n",
              "        }}\n",
              "}});\n",
              "\n",
              "// Listen for the removal of the full notebook cells\n",
              "var notebookContainer = gd.closest('#notebook-container');\n",
              "if (notebookContainer) {{\n",
              "    x.observe(notebookContainer, {childList: true});\n",
              "}}\n",
              "\n",
              "// Listen for the clearing of the current output cell\n",
              "var outputEl = gd.closest('.output');\n",
              "if (outputEl) {{\n",
              "    x.observe(outputEl, {childList: true});\n",
              "}}\n",
              "\n",
              "                        })\n",
              "                };\n",
              "                });\n",
              "            </script>\n",
              "        </div>"
            ],
            "application/vnd.plotly.v1+json": {
              "data": [
                {
                  "name": "a",
                  "text": "",
                  "mode": "lines",
                  "y": [
                    0.37609697461376856,
                    0.20015150787928115,
                    0.9613110930688991,
                    0.07379151292761887,
                    0.5415786144642684,
                    0.3859342648063391,
                    0.972174788802087,
                    0.7091101037151499,
                    0.8954384976164633,
                    0.7554321511313211,
                    0.22217275790160596,
                    0.2062588459113106,
                    0.6686828079858399,
                    0.1385909969629976,
                    0.21628933743800915,
                    0.9407633460152702,
                    0.48633981943569793,
                    0.6691552476559746,
                    0.42559479953074264,
                    0.3748273382152849,
                    0.01101695877733655,
                    0.9917208269321008,
                    0.06628893394252156,
                    0.006434719636494224,
                    0.2752766774577283,
                    0.6695172339512171,
                    0.07851299219330088,
                    0.22013074769731333,
                    0.15180715565343328,
                    0.3672598705716832,
                    0.5487387467486701,
                    0.6708331417204486,
                    0.9641722122716029,
                    0.23860162675291774,
                    0.5595010233288253,
                    0.4207726965477695,
                    0.9296296975190127,
                    0.14471446112499864,
                    0.7482004235668012,
                    0.38378608705385064,
                    0.6592042579643931,
                    0.3332143646705893,
                    0.3213975590197603,
                    0.10231675890827119,
                    0.12001921898701451,
                    0.24543501694234093,
                    0.1547112687051263,
                    0.7083402558058903,
                    0.6141910561099395,
                    0.9203213180531646,
                    0.5192264585593097,
                    0.18810572200791964,
                    0.47376086050116795,
                    0.8040434645619444,
                    0.4973297589232646,
                    0.9093224563690225,
                    0.6574138593651496,
                    0.7518166791373752,
                    0.15137793778333286,
                    0.493838158900881,
                    0.9581497810056016,
                    0.12684171613837325,
                    0.3428605590667809,
                    0.6628628621864585,
                    0.7583618481961643,
                    0.015250298143215213,
                    0.5051731167157442,
                    0.6368787013670724,
                    0.7046551818496082,
                    0.639755771480962,
                    0.8336010946451613,
                    0.2076820246851756,
                    0.5150977091558013,
                    0.428652765496509,
                    0.7298535406519255,
                    0.533394380569046,
                    0.8406229288919806,
                    0.514896550694654,
                    0.24333737343337358,
                    0.23031163003017174,
                    0.5530993873585878,
                    0.7989437236541155,
                    0.1967445859198027,
                    0.08152369487640165,
                    0.4424218698954493,
                    0.8510036671202461,
                    0.4948547899299717,
                    0.9159627056706446,
                    0.3599765788376408,
                    0.283437923196066,
                    0.37808683387390607,
                    0.09468901619714476,
                    0.6376254008074992,
                    0.32429305515472284,
                    0.8886079420484048,
                    0.26336850366689935,
                    0.9992474933271761,
                    0.561038367988352,
                    0.364177225500636,
                    0.4311612070114388
                  ],
                  "x": [
                    0,
                    1,
                    2,
                    3,
                    4,
                    5,
                    6,
                    7,
                    8,
                    9,
                    10,
                    11,
                    12,
                    13,
                    14,
                    15,
                    16,
                    17,
                    18,
                    19,
                    20,
                    21,
                    22,
                    23,
                    24,
                    25,
                    26,
                    27,
                    28,
                    29,
                    30,
                    31,
                    32,
                    33,
                    34,
                    35,
                    36,
                    37,
                    38,
                    39,
                    40,
                    41,
                    42,
                    43,
                    44,
                    45,
                    46,
                    47,
                    48,
                    49,
                    50,
                    51,
                    52,
                    53,
                    54,
                    55,
                    56,
                    57,
                    58,
                    59,
                    60,
                    61,
                    62,
                    63,
                    64,
                    65,
                    66,
                    67,
                    68,
                    69,
                    70,
                    71,
                    72,
                    73,
                    74,
                    75,
                    76,
                    77,
                    78,
                    79,
                    80,
                    81,
                    82,
                    83,
                    84,
                    85,
                    86,
                    87,
                    88,
                    89,
                    90,
                    91,
                    92,
                    93,
                    94,
                    95,
                    96,
                    97,
                    98,
                    99
                  ],
                  "line": {
                    "color": "rgba(255, 153, 51, 1.0)",
                    "dash": "solid",
                    "shape": "linear",
                    "width": 1.3
                  },
                  "type": "scatter"
                },
                {
                  "name": "b",
                  "text": "",
                  "mode": "lines",
                  "y": [
                    0.7285965508552592,
                    0.3264395565507072,
                    0.17777337886531763,
                    0.08930993873550008,
                    0.8917585974979793,
                    0.39328479095156954,
                    0.661044701778079,
                    0.31317096036364545,
                    0.8641280190087983,
                    0.29448025520164534,
                    0.9172442659081431,
                    0.36292097680538116,
                    0.3554448326969416,
                    0.20271836303112145,
                    0.9693589388581938,
                    0.04693355571242208,
                    0.4890576634401125,
                    0.6536337883313069,
                    0.8854395409190047,
                    0.5064989724408591,
                    0.5177495006139676,
                    0.30875202542359237,
                    0.016240728943423655,
                    0.7834149745171924,
                    0.38603785216769193,
                    0.5614058829937794,
                    0.37200945056313195,
                    0.30007776657750385,
                    0.09628227401162892,
                    0.5483526487654512,
                    0.7385265443831003,
                    0.7232859926189801,
                    0.9265120905167069,
                    0.035362210377484105,
                    0.6672663812787749,
                    0.21490958585447295,
                    0.2034490150798055,
                    0.8607075458055333,
                    0.8041008849023151,
                    0.4608229570089897,
                    0.6083372495229005,
                    0.9802477288968282,
                    0.7062359647645287,
                    0.0650822657907546,
                    0.9861519202719178,
                    0.5721523248847868,
                    0.19751163895220247,
                    0.4543177601270535,
                    0.14261275324915823,
                    0.4728588624217832,
                    0.5592942947432572,
                    0.7415887756520115,
                    0.5391528613387303,
                    0.07990386340000455,
                    0.9094069297636461,
                    0.27827164172163366,
                    0.881728213787127,
                    0.27486540521877467,
                    0.5386164239153762,
                    0.11833171885609695,
                    0.33386808000628676,
                    0.9033628528313126,
                    0.5950396889040918,
                    0.7458306665974866,
                    0.9753740963450107,
                    0.7087747686929403,
                    0.8159432338974885,
                    0.06734844377307159,
                    0.40192055274708194,
                    0.4612851963857856,
                    0.5078709162772186,
                    0.8738711152991113,
                    0.059166742328256694,
                    0.6557880674981983,
                    0.49700229931549367,
                    0.05625451927382341,
                    0.130576304055672,
                    0.8008490788833187,
                    0.6718107056736079,
                    0.47653881810481447,
                    0.6226161066927288,
                    0.1861185134304596,
                    0.8063705664889177,
                    0.7907469399018273,
                    0.8443286598128386,
                    0.9814386847107586,
                    0.3388133906449925,
                    0.3281358529831484,
                    0.936186925412127,
                    0.1984755418930455,
                    0.637183207813849,
                    0.25052858666709477,
                    0.3222794238067487,
                    0.8183157529121003,
                    0.8656218004927918,
                    0.4058313927983348,
                    0.9985326391547292,
                    0.3786258261022504,
                    0.37241492730611514,
                    0.9818317910324574
                  ],
                  "x": [
                    0,
                    1,
                    2,
                    3,
                    4,
                    5,
                    6,
                    7,
                    8,
                    9,
                    10,
                    11,
                    12,
                    13,
                    14,
                    15,
                    16,
                    17,
                    18,
                    19,
                    20,
                    21,
                    22,
                    23,
                    24,
                    25,
                    26,
                    27,
                    28,
                    29,
                    30,
                    31,
                    32,
                    33,
                    34,
                    35,
                    36,
                    37,
                    38,
                    39,
                    40,
                    41,
                    42,
                    43,
                    44,
                    45,
                    46,
                    47,
                    48,
                    49,
                    50,
                    51,
                    52,
                    53,
                    54,
                    55,
                    56,
                    57,
                    58,
                    59,
                    60,
                    61,
                    62,
                    63,
                    64,
                    65,
                    66,
                    67,
                    68,
                    69,
                    70,
                    71,
                    72,
                    73,
                    74,
                    75,
                    76,
                    77,
                    78,
                    79,
                    80,
                    81,
                    82,
                    83,
                    84,
                    85,
                    86,
                    87,
                    88,
                    89,
                    90,
                    91,
                    92,
                    93,
                    94,
                    95,
                    96,
                    97,
                    98,
                    99
                  ],
                  "line": {
                    "color": "rgba(55, 128, 191, 1.0)",
                    "dash": "solid",
                    "shape": "linear",
                    "width": 1.3
                  },
                  "type": "scatter"
                },
                {
                  "name": "c",
                  "text": "",
                  "mode": "lines",
                  "y": [
                    0.7030207193173571,
                    0.35583062930134157,
                    0.7219531565584852,
                    0.4799423456564822,
                    0.13675174000999502,
                    0.16454489141747353,
                    0.28610551931517225,
                    0.3774224861853419,
                    0.5743432106089703,
                    0.6266564051456853,
                    0.09558444517754117,
                    0.8541867811698662,
                    0.9977452529410914,
                    0.3162481196937027,
                    0.6766125014832662,
                    0.6825516993942756,
                    0.48236423053519295,
                    0.7788800530678027,
                    0.5831326678736304,
                    0.44270071482355766,
                    0.6959168241612144,
                    0.049663355972474954,
                    0.6295388247540692,
                    0.019921943865609082,
                    0.7832505993976336,
                    0.509341064575061,
                    0.3149508710075314,
                    0.7112418574279137,
                    0.6906147961095919,
                    0.7241531608614012,
                    0.2739761147966835,
                    0.6382475930379901,
                    0.852737291921063,
                    0.3424604471704169,
                    0.3827782758010494,
                    0.5013037363017011,
                    0.09138283977477024,
                    0.4630554367356968,
                    0.66201843397268,
                    0.02333288646895204,
                    0.46099280790580943,
                    0.9491061765521756,
                    0.13553394936508534,
                    0.5788746700362015,
                    0.7010209731763317,
                    0.044263664583029105,
                    0.4963177710840555,
                    0.880751227587059,
                    0.9247519627757856,
                    0.5025911478842829,
                    0.2980755354673419,
                    0.19199369146906198,
                    0.8209278594515776,
                    0.14034193836174003,
                    0.04027653903230588,
                    0.5613341428927795,
                    0.8338210654236295,
                    0.7698904284831728,
                    0.6922542477577582,
                    0.5191183925094653,
                    0.48832870086609836,
                    0.10177853100250012,
                    0.45374816475247004,
                    0.9804359687805045,
                    0.7161593123614844,
                    0.4997450990040522,
                    0.13321610787029103,
                    0.09954212146227515,
                    0.8767234930065636,
                    0.4852752694958198,
                    0.8197039742081785,
                    0.6725408332205893,
                    0.6253187686723319,
                    0.05265507595431018,
                    0.8426341208975354,
                    0.200422561383231,
                    0.05136394740161454,
                    0.6146352808830764,
                    0.6534438549635678,
                    0.7450079547115416,
                    0.49661454928288795,
                    0.6929918011165636,
                    0.37512948766645127,
                    0.6983584851156005,
                    0.6168490897974865,
                    0.15157749029569556,
                    0.5807722269120572,
                    0.18012805321176073,
                    0.22663594019617017,
                    0.8979482167661446,
                    0.5850944677260471,
                    0.26914547558021773,
                    0.9863844193674619,
                    0.9074544633450553,
                    0.6064701995618049,
                    0.6706934606707955,
                    0.06968751496143422,
                    0.46675602780782677,
                    0.391501119896529,
                    0.8108714682632849
                  ],
                  "x": [
                    0,
                    1,
                    2,
                    3,
                    4,
                    5,
                    6,
                    7,
                    8,
                    9,
                    10,
                    11,
                    12,
                    13,
                    14,
                    15,
                    16,
                    17,
                    18,
                    19,
                    20,
                    21,
                    22,
                    23,
                    24,
                    25,
                    26,
                    27,
                    28,
                    29,
                    30,
                    31,
                    32,
                    33,
                    34,
                    35,
                    36,
                    37,
                    38,
                    39,
                    40,
                    41,
                    42,
                    43,
                    44,
                    45,
                    46,
                    47,
                    48,
                    49,
                    50,
                    51,
                    52,
                    53,
                    54,
                    55,
                    56,
                    57,
                    58,
                    59,
                    60,
                    61,
                    62,
                    63,
                    64,
                    65,
                    66,
                    67,
                    68,
                    69,
                    70,
                    71,
                    72,
                    73,
                    74,
                    75,
                    76,
                    77,
                    78,
                    79,
                    80,
                    81,
                    82,
                    83,
                    84,
                    85,
                    86,
                    87,
                    88,
                    89,
                    90,
                    91,
                    92,
                    93,
                    94,
                    95,
                    96,
                    97,
                    98,
                    99
                  ],
                  "line": {
                    "color": "rgba(50, 171, 96, 1.0)",
                    "dash": "solid",
                    "shape": "linear",
                    "width": 1.3
                  },
                  "type": "scatter"
                },
                {
                  "name": "d",
                  "text": "",
                  "mode": "lines",
                  "y": [
                    0.4487381832738343,
                    0.3540721442818683,
                    0.6257943025272031,
                    0.08345830008439392,
                    0.5059000210506899,
                    0.059059030106884514,
                    0.5973853446562146,
                    0.35132996262759386,
                    0.0830860608770152,
                    0.30048285286514176,
                    0.36079976404941516,
                    0.20291781754118532,
                    0.45296157349100874,
                    0.1909017820244,
                    0.5529300975289005,
                    0.3197049174393769,
                    0.8997623397297769,
                    0.968832659846804,
                    0.3160594686578737,
                    0.9646079753426436,
                    0.6049520885438499,
                    0.5860559233365114,
                    0.9216848885527895,
                    0.4704558864254933,
                    0.3102956960959804,
                    0.16236250528431817,
                    0.9774991249131374,
                    0.6593377153810673,
                    0.16204054664771717,
                    0.22646500032489914,
                    0.46739428397933325,
                    0.5976835808165961,
                    0.8950739755650422,
                    0.45469473030326346,
                    0.04818063470018319,
                    0.1413900509457635,
                    0.37565660471632023,
                    0.4320324680763329,
                    0.008738364189422199,
                    0.10554664989259377,
                    0.6443181897290235,
                    0.5518161808244787,
                    0.6861715516598176,
                    0.6858005420700327,
                    0.7364731690869807,
                    0.6434996011534879,
                    0.12832919729144243,
                    0.6848747759572715,
                    0.6764440261289061,
                    0.40665221642840077,
                    0.8306621594393051,
                    0.9742844312899147,
                    0.2967071332942144,
                    0.023395135911267406,
                    0.3536518715179001,
                    0.76035117882619,
                    0.7704040083114605,
                    0.4152494377014936,
                    0.6643220443859128,
                    0.6348170146123333,
                    0.7170274437479984,
                    0.07244216419454097,
                    0.9812568690040028,
                    0.6946857346485762,
                    0.0018871820084116475,
                    0.7235513297962808,
                    0.243165685251715,
                    0.6984069822893493,
                    0.643603099278151,
                    0.6974421685973411,
                    0.48066364557716323,
                    0.027205930250465582,
                    0.5436367544159736,
                    0.048852772604564776,
                    0.928279229312726,
                    0.15011881964352658,
                    0.22827689231261517,
                    0.28911895596122106,
                    0.7368772257363315,
                    0.5466821764755295,
                    0.36640166867525226,
                    0.6969605404542606,
                    0.49420799081413136,
                    0.5602261095465022,
                    0.5835319684831781,
                    0.555112057348069,
                    0.8611667388304789,
                    0.5723124675052725,
                    0.021342690608009862,
                    0.7659591552952552,
                    0.022827545476074906,
                    0.15788403583593036,
                    0.9473268734612786,
                    0.6419075384725462,
                    0.3740090444934504,
                    0.3886025436122388,
                    0.42749598630289476,
                    0.4800586321769452,
                    0.2587307144486364,
                    0.5809084400683521
                  ],
                  "x": [
                    0,
                    1,
                    2,
                    3,
                    4,
                    5,
                    6,
                    7,
                    8,
                    9,
                    10,
                    11,
                    12,
                    13,
                    14,
                    15,
                    16,
                    17,
                    18,
                    19,
                    20,
                    21,
                    22,
                    23,
                    24,
                    25,
                    26,
                    27,
                    28,
                    29,
                    30,
                    31,
                    32,
                    33,
                    34,
                    35,
                    36,
                    37,
                    38,
                    39,
                    40,
                    41,
                    42,
                    43,
                    44,
                    45,
                    46,
                    47,
                    48,
                    49,
                    50,
                    51,
                    52,
                    53,
                    54,
                    55,
                    56,
                    57,
                    58,
                    59,
                    60,
                    61,
                    62,
                    63,
                    64,
                    65,
                    66,
                    67,
                    68,
                    69,
                    70,
                    71,
                    72,
                    73,
                    74,
                    75,
                    76,
                    77,
                    78,
                    79,
                    80,
                    81,
                    82,
                    83,
                    84,
                    85,
                    86,
                    87,
                    88,
                    89,
                    90,
                    91,
                    92,
                    93,
                    94,
                    95,
                    96,
                    97,
                    98,
                    99
                  ],
                  "line": {
                    "color": "rgba(128, 0, 128, 1.0)",
                    "dash": "solid",
                    "shape": "linear",
                    "width": 1.3
                  },
                  "type": "scatter"
                },
                {
                  "name": "e",
                  "text": "",
                  "mode": "lines",
                  "y": [
                    0.8748531559702172,
                    0.3458717449962889,
                    0.3622236158154418,
                    0.05199334195967409,
                    0.8746333911041947,
                    0.10281066663534355,
                    0.4208372440510276,
                    0.8148490858091003,
                    0.16974769337206186,
                    0.04942713231122953,
                    0.01858666000561815,
                    0.6513929481678175,
                    0.03817096818419119,
                    0.9088355861594041,
                    0.2283162022342512,
                    0.4234842321828065,
                    0.40040422310211043,
                    0.48019185101527007,
                    0.4429199697011208,
                    0.26496184147781576,
                    0.051168842225511546,
                    0.8839765740584115,
                    0.3930160237833683,
                    0.06297488964270503,
                    0.43621604520763557,
                    0.7740172339793485,
                    0.7250284117328657,
                    0.1874235550442147,
                    0.9107374974923665,
                    0.6079148891096738,
                    0.33435306288093736,
                    0.048425792198065976,
                    0.13652641905428442,
                    0.16092785375366137,
                    0.2559005577168859,
                    0.7254823108628258,
                    0.9352189302779806,
                    0.13508142762782083,
                    0.40161832047897483,
                    0.8849658488652499,
                    0.4997542336124198,
                    0.26621929577003134,
                    0.9157084449306039,
                    0.613693019248173,
                    0.13824122193102784,
                    0.5126847169070776,
                    0.46501794932045204,
                    0.6751049617330164,
                    0.684556191821915,
                    0.45813710170875954,
                    0.36568675236295345,
                    0.13212421899536342,
                    0.8254414177459369,
                    0.30922594618281274,
                    0.4680803668972692,
                    0.6075850646207533,
                    0.605681624667661,
                    0.9216138565398706,
                    0.35690340844635915,
                    0.8117358719769993,
                    0.572360475563296,
                    0.6704175383981241,
                    0.6736765935931956,
                    0.40942144942294223,
                    0.41507088451534757,
                    0.3084191876282668,
                    0.7362836204898375,
                    0.6169168220178494,
                    0.2956403852312859,
                    0.3706688844161228,
                    0.802520075655963,
                    0.3324222100293889,
                    0.7773753660863424,
                    0.6639798193722469,
                    0.4399502496111627,
                    0.6079750212859367,
                    0.39918369301805556,
                    0.8135738879233281,
                    0.5464328878314737,
                    0.04285486200049238,
                    0.04624906629647929,
                    0.042245542635432676,
                    0.4228684707065993,
                    0.4749792003928308,
                    0.3575371010656768,
                    0.11731784049301552,
                    0.9655674898350809,
                    0.741239772757126,
                    0.41235887205352173,
                    0.44922615861504667,
                    0.24882112334497752,
                    0.8244535758660653,
                    0.3491863715105338,
                    0.00721110915755907,
                    0.7172316223964905,
                    0.2657919559815368,
                    0.23058370381523652,
                    0.9713939660478692,
                    0.8488283579867641,
                    0.3163051716341264
                  ],
                  "x": [
                    0,
                    1,
                    2,
                    3,
                    4,
                    5,
                    6,
                    7,
                    8,
                    9,
                    10,
                    11,
                    12,
                    13,
                    14,
                    15,
                    16,
                    17,
                    18,
                    19,
                    20,
                    21,
                    22,
                    23,
                    24,
                    25,
                    26,
                    27,
                    28,
                    29,
                    30,
                    31,
                    32,
                    33,
                    34,
                    35,
                    36,
                    37,
                    38,
                    39,
                    40,
                    41,
                    42,
                    43,
                    44,
                    45,
                    46,
                    47,
                    48,
                    49,
                    50,
                    51,
                    52,
                    53,
                    54,
                    55,
                    56,
                    57,
                    58,
                    59,
                    60,
                    61,
                    62,
                    63,
                    64,
                    65,
                    66,
                    67,
                    68,
                    69,
                    70,
                    71,
                    72,
                    73,
                    74,
                    75,
                    76,
                    77,
                    78,
                    79,
                    80,
                    81,
                    82,
                    83,
                    84,
                    85,
                    86,
                    87,
                    88,
                    89,
                    90,
                    91,
                    92,
                    93,
                    94,
                    95,
                    96,
                    97,
                    98,
                    99
                  ],
                  "line": {
                    "color": "rgba(219, 64, 82, 1.0)",
                    "dash": "solid",
                    "shape": "linear",
                    "width": 1.3
                  },
                  "type": "scatter"
                },
                {
                  "showlegend": false,
                  "name": "Spread",
                  "yaxis": "y2",
                  "connectgaps": false,
                  "mode": "lines",
                  "xaxis": "x2",
                  "y": [
                    "",
                    "",
                    0.7835377142035814,
                    "",
                    "",
                    "",
                    0.311130087024008,
                    0.3959391433515045,
                    0.031310478607665004,
                    0.4609518959296758,
                    "",
                    "",
                    0.3132379752888983,
                    "",
                    "",
                    0.8938297903028481,
                    "",
                    0.015521459324667641,
                    "",
                    "",
                    "",
                    0.6829688015085085,
                    0.0500482049990979,
                    "",
                    "",
                    0.10811135095743774,
                    "",
                    "",
                    0.05552488164180436,
                    "",
                    "",
                    "",
                    0.03766012175489597,
                    0.20323941637543363,
                    "",
                    0.20586311069329655,
                    0.7261806824392072,
                    "",
                    "",
                    "",
                    0.05086700844149261,
                    "",
                    "",
                    0.03723449311751659,
                    "",
                    "",
                    "",
                    0.25402249567883683,
                    0.4715783028607813,
                    0.44746245563138143,
                    "",
                    "",
                    "",
                    0.7241396011619399,
                    "",
                    0.6310508146473889,
                    "",
                    0.4769512739186005,
                    "",
                    0.37550644004478406,
                    0.6242817009993148,
                    "",
                    "",
                    "",
                    "",
                    "",
                    "",
                    0.5695302575940008,
                    0.30273462910252624,
                    0.1784705750951764,
                    0.3257301783679427,
                    "",
                    0.45593096682754464,
                    "",
                    0.23285124133643187,
                    0.47713986129522257,
                    0.7100466248363086,
                    "",
                    "",
                    "",
                    "",
                    0.6128252102236559,
                    "",
                    "",
                    "",
                    "",
                    0.15604139928497918,
                    0.5878268526874962,
                    "",
                    0.08496238130302047,
                    "",
                    "",
                    0.3153459770007505,
                    "",
                    0.02298614155561296,
                    "",
                    0.0007148541724468771,
                    0.18241254188610168,
                    "",
                    ""
                  ],
                  "x": [
                    0,
                    1,
                    2,
                    3,
                    4,
                    5,
                    6,
                    7,
                    8,
                    9,
                    10,
                    11,
                    12,
                    13,
                    14,
                    15,
                    16,
                    17,
                    18,
                    19,
                    20,
                    21,
                    22,
                    23,
                    24,
                    25,
                    26,
                    27,
                    28,
                    29,
                    30,
                    31,
                    32,
                    33,
                    34,
                    35,
                    36,
                    37,
                    38,
                    39,
                    40,
                    41,
                    42,
                    43,
                    44,
                    45,
                    46,
                    47,
                    48,
                    49,
                    50,
                    51,
                    52,
                    53,
                    54,
                    55,
                    56,
                    57,
                    58,
                    59,
                    60,
                    61,
                    62,
                    63,
                    64,
                    65,
                    66,
                    67,
                    68,
                    69,
                    70,
                    71,
                    72,
                    73,
                    74,
                    75,
                    76,
                    77,
                    78,
                    79,
                    80,
                    81,
                    82,
                    83,
                    84,
                    85,
                    86,
                    87,
                    88,
                    89,
                    90,
                    91,
                    92,
                    93,
                    94,
                    95,
                    96,
                    97,
                    98,
                    99
                  ],
                  "line": {
                    "color": "green",
                    "dash": "solid",
                    "shape": "linear",
                    "width": 0.5
                  },
                  "type": "scatter",
                  "fill": "tozeroy"
                },
                {
                  "showlegend": false,
                  "name": "Spread",
                  "yaxis": "y2",
                  "connectgaps": false,
                  "mode": "lines",
                  "xaxis": "x2",
                  "y": [
                    -0.35249957624149064,
                    -0.12628804867142607,
                    "",
                    -0.015518425807881209,
                    -0.3501799830337109,
                    -0.007350526145230463,
                    "",
                    "",
                    "",
                    "",
                    -0.6950715080065372,
                    -0.15666213089407055,
                    "",
                    -0.06412736606812386,
                    -0.7530696014201846,
                    "",
                    -0.002717844004414549,
                    "",
                    -0.45984474138826203,
                    -0.13167163422557415,
                    -0.5067325418366311,
                    "",
                    "",
                    -0.7769802548806982,
                    -0.1107611747099636,
                    "",
                    -0.29349645836983107,
                    -0.07994701888019051,
                    "",
                    -0.181092778193768,
                    -0.1897877976344302,
                    -0.05245285089853147,
                    "",
                    "",
                    -0.10776535794994957,
                    "",
                    "",
                    -0.7159930846805347,
                    -0.05590046133551396,
                    -0.07703686995513903,
                    "",
                    -0.6470333642262389,
                    -0.38483840574476835,
                    "",
                    -0.8661327012849033,
                    -0.3267173079424459,
                    -0.04280037024707617,
                    "",
                    "",
                    "",
                    -0.04006783618394749,
                    -0.5534830536440919,
                    -0.06539200083756236,
                    "",
                    -0.41207717084038153,
                    "",
                    -0.22431435442197734,
                    "",
                    -0.38723848613204337,
                    "",
                    "",
                    -0.7765211366929393,
                    -0.25217912983731083,
                    -0.08296780441102813,
                    -0.21701224814884645,
                    -0.6935244705497251,
                    -0.3107701171817443,
                    "",
                    "",
                    "",
                    "",
                    -0.6661890906139357,
                    "",
                    -0.2271353020016893,
                    "",
                    "",
                    "",
                    -0.2859525281886647,
                    -0.4284733322402343,
                    -0.24622718807464272,
                    -0.06951671933414105,
                    "",
                    -0.609625980569115,
                    -0.7092232450254257,
                    -0.40190678991738926,
                    -0.13043501759051246,
                    "",
                    "",
                    -0.5762103465744862,
                    "",
                    -0.2590963739399429,
                    -0.15583957046995,
                    "",
                    -0.4940226977573775,
                    "",
                    -0.14246288913143546,
                    "",
                    "",
                    -0.008237701805479114,
                    -0.5506705840210186
                  ],
                  "x": [
                    0,
                    1,
                    2,
                    3,
                    4,
                    5,
                    6,
                    7,
                    8,
                    9,
                    10,
                    11,
                    12,
                    13,
                    14,
                    15,
                    16,
                    17,
                    18,
                    19,
                    20,
                    21,
                    22,
                    23,
                    24,
                    25,
                    26,
                    27,
                    28,
                    29,
                    30,
                    31,
                    32,
                    33,
                    34,
                    35,
                    36,
                    37,
                    38,
                    39,
                    40,
                    41,
                    42,
                    43,
                    44,
                    45,
                    46,
                    47,
                    48,
                    49,
                    50,
                    51,
                    52,
                    53,
                    54,
                    55,
                    56,
                    57,
                    58,
                    59,
                    60,
                    61,
                    62,
                    63,
                    64,
                    65,
                    66,
                    67,
                    68,
                    69,
                    70,
                    71,
                    72,
                    73,
                    74,
                    75,
                    76,
                    77,
                    78,
                    79,
                    80,
                    81,
                    82,
                    83,
                    84,
                    85,
                    86,
                    87,
                    88,
                    89,
                    90,
                    91,
                    92,
                    93,
                    94,
                    95,
                    96,
                    97,
                    98,
                    99
                  ],
                  "line": {
                    "color": "red",
                    "dash": "solid",
                    "shape": "linear",
                    "width": 0.5
                  },
                  "type": "scatter",
                  "fill": "tozeroy"
                }
              ],
              "config": {
                "plotlyServerURL": "https://plot.ly",
                "linkText": "Export to plot.ly",
                "showLink": true
              },
              "layout": {
                "xaxis": {
                  "tickfont": {
                    "color": "#4D5663"
                  },
                  "zerolinecolor": "#E1E5ED",
                  "title": {
                    "text": "",
                    "font": {
                      "color": "#4D5663"
                    }
                  },
                  "gridcolor": "#E1E5ED",
                  "showgrid": true
                },
                "title": {
                  "font": {
                    "color": "#4D5663"
                  }
                },
                "paper_bgcolor": "#F5F6F9",
                "plot_bgcolor": "#F5F6F9",
                "yaxis": {
                  "tickfont": {
                    "color": "#4D5663"
                  },
                  "domain": [
                    0.3,
                    1
                  ],
                  "title": {
                    "text": "",
                    "font": {
                      "color": "#4D5663"
                    }
                  },
                  "showgrid": true,
                  "zerolinecolor": "#E1E5ED",
                  "gridcolor": "#E1E5ED"
                },
                "xaxis2": {
                  "tickfont": {
                    "color": "#4D5663"
                  },
                  "showticklabels": false,
                  "title": {
                    "text": "",
                    "font": {
                      "color": "#4D5663"
                    }
                  },
                  "showgrid": true,
                  "zerolinecolor": "#E1E5ED",
                  "gridcolor": "#E1E5ED",
                  "anchor": "y2"
                },
                "yaxis2": {
                  "tickfont": {
                    "color": "#4D5663"
                  },
                  "domain": [
                    0,
                    0.25
                  ],
                  "title": {
                    "text": "Spread",
                    "font": {
                      "color": "#4D5663"
                    }
                  },
                  "showgrid": true,
                  "zerolinecolor": "#E1E5ED",
                  "gridcolor": "#E1E5ED"
                },
                "template": {
                  "layout": {
                    "shapedefaults": {
                      "line": {
                        "color": "#2a3f5f"
                      }
                    },
                    "polar": {
                      "radialaxis": {
                        "ticks": "",
                        "gridcolor": "white",
                        "linecolor": "white"
                      },
                      "bgcolor": "#E5ECF6",
                      "angularaxis": {
                        "ticks": "",
                        "gridcolor": "white",
                        "linecolor": "white"
                      }
                    },
                    "colorway": [
                      "#636efa",
                      "#EF553B",
                      "#00cc96",
                      "#ab63fa",
                      "#FFA15A",
                      "#19d3f3",
                      "#FF6692",
                      "#B6E880",
                      "#FF97FF",
                      "#FECB52"
                    ],
                    "xaxis": {
                      "automargin": true,
                      "title": {
                        "standoff": 15
                      },
                      "zerolinewidth": 2,
                      "ticks": "",
                      "zerolinecolor": "white",
                      "gridcolor": "white",
                      "linecolor": "white"
                    },
                    "colorscale": {
                      "diverging": [
                        [
                          0,
                          "#8e0152"
                        ],
                        [
                          0.1,
                          "#c51b7d"
                        ],
                        [
                          0.2,
                          "#de77ae"
                        ],
                        [
                          0.3,
                          "#f1b6da"
                        ],
                        [
                          0.4,
                          "#fde0ef"
                        ],
                        [
                          0.5,
                          "#f7f7f7"
                        ],
                        [
                          0.6,
                          "#e6f5d0"
                        ],
                        [
                          0.7,
                          "#b8e186"
                        ],
                        [
                          0.8,
                          "#7fbc41"
                        ],
                        [
                          0.9,
                          "#4d9221"
                        ],
                        [
                          1,
                          "#276419"
                        ]
                      ],
                      "sequential": [
                        [
                          0,
                          "#0d0887"
                        ],
                        [
                          0.1111111111111111,
                          "#46039f"
                        ],
                        [
                          0.2222222222222222,
                          "#7201a8"
                        ],
                        [
                          0.3333333333333333,
                          "#9c179e"
                        ],
                        [
                          0.4444444444444444,
                          "#bd3786"
                        ],
                        [
                          0.5555555555555556,
                          "#d8576b"
                        ],
                        [
                          0.6666666666666666,
                          "#ed7953"
                        ],
                        [
                          0.7777777777777778,
                          "#fb9f3a"
                        ],
                        [
                          0.8888888888888888,
                          "#fdca26"
                        ],
                        [
                          1,
                          "#f0f921"
                        ]
                      ],
                      "sequentialminus": [
                        [
                          0,
                          "#0d0887"
                        ],
                        [
                          0.1111111111111111,
                          "#46039f"
                        ],
                        [
                          0.2222222222222222,
                          "#7201a8"
                        ],
                        [
                          0.3333333333333333,
                          "#9c179e"
                        ],
                        [
                          0.4444444444444444,
                          "#bd3786"
                        ],
                        [
                          0.5555555555555556,
                          "#d8576b"
                        ],
                        [
                          0.6666666666666666,
                          "#ed7953"
                        ],
                        [
                          0.7777777777777778,
                          "#fb9f3a"
                        ],
                        [
                          0.8888888888888888,
                          "#fdca26"
                        ],
                        [
                          1,
                          "#f0f921"
                        ]
                      ]
                    },
                    "paper_bgcolor": "white",
                    "plot_bgcolor": "#E5ECF6",
                    "title": {
                      "x": 0.05
                    },
                    "scene": {
                      "zaxis": {
                        "backgroundcolor": "#E5ECF6",
                        "ticks": "",
                        "gridwidth": 2,
                        "showbackground": true,
                        "zerolinecolor": "white",
                        "gridcolor": "white",
                        "linecolor": "white"
                      },
                      "xaxis": {
                        "backgroundcolor": "#E5ECF6",
                        "ticks": "",
                        "gridwidth": 2,
                        "showbackground": true,
                        "zerolinecolor": "white",
                        "gridcolor": "white",
                        "linecolor": "white"
                      },
                      "yaxis": {
                        "backgroundcolor": "#E5ECF6",
                        "ticks": "",
                        "gridwidth": 2,
                        "showbackground": true,
                        "zerolinecolor": "white",
                        "gridcolor": "white",
                        "linecolor": "white"
                      }
                    },
                    "yaxis": {
                      "automargin": true,
                      "title": {
                        "standoff": 15
                      },
                      "zerolinewidth": 2,
                      "ticks": "",
                      "zerolinecolor": "white",
                      "gridcolor": "white",
                      "linecolor": "white"
                    },
                    "annotationdefaults": {
                      "arrowwidth": 1,
                      "arrowhead": 0,
                      "arrowcolor": "#2a3f5f"
                    },
                    "hoverlabel": {
                      "align": "left"
                    },
                    "ternary": {
                      "bgcolor": "#E5ECF6",
                      "baxis": {
                        "ticks": "",
                        "gridcolor": "white",
                        "linecolor": "white"
                      },
                      "caxis": {
                        "ticks": "",
                        "gridcolor": "white",
                        "linecolor": "white"
                      },
                      "aaxis": {
                        "ticks": "",
                        "gridcolor": "white",
                        "linecolor": "white"
                      }
                    },
                    "mapbox": {
                      "style": "light"
                    },
                    "hovermode": "closest",
                    "font": {
                      "color": "#2a3f5f"
                    },
                    "geo": {
                      "showland": true,
                      "landcolor": "#E5ECF6",
                      "showlakes": true,
                      "bgcolor": "white",
                      "subunitcolor": "white",
                      "lakecolor": "white"
                    },
                    "coloraxis": {
                      "colorbar": {
                        "outlinewidth": 0,
                        "ticks": ""
                      }
                    }
                  },
                  "data": {
                    "mesh3d": [
                      {
                        "colorbar": {
                          "outlinewidth": 0,
                          "ticks": ""
                        },
                        "type": "mesh3d"
                      }
                    ],
                    "scattercarpet": [
                      {
                        "marker": {
                          "colorbar": {
                            "outlinewidth": 0,
                            "ticks": ""
                          }
                        },
                        "type": "scattercarpet"
                      }
                    ],
                    "pie": [
                      {
                        "automargin": true,
                        "type": "pie"
                      }
                    ],
                    "surface": [
                      {
                        "colorbar": {
                          "outlinewidth": 0,
                          "ticks": ""
                        },
                        "type": "surface",
                        "colorscale": [
                          [
                            0,
                            "#0d0887"
                          ],
                          [
                            0.1111111111111111,
                            "#46039f"
                          ],
                          [
                            0.2222222222222222,
                            "#7201a8"
                          ],
                          [
                            0.3333333333333333,
                            "#9c179e"
                          ],
                          [
                            0.4444444444444444,
                            "#bd3786"
                          ],
                          [
                            0.5555555555555556,
                            "#d8576b"
                          ],
                          [
                            0.6666666666666666,
                            "#ed7953"
                          ],
                          [
                            0.7777777777777778,
                            "#fb9f3a"
                          ],
                          [
                            0.8888888888888888,
                            "#fdca26"
                          ],
                          [
                            1,
                            "#f0f921"
                          ]
                        ]
                      }
                    ],
                    "table": [
                      {
                        "header": {
                          "line": {
                            "color": "white"
                          },
                          "fill": {
                            "color": "#C8D4E3"
                          }
                        },
                        "cells": {
                          "line": {
                            "color": "white"
                          },
                          "fill": {
                            "color": "#EBF0F8"
                          }
                        },
                        "type": "table"
                      }
                    ],
                    "scatterpolargl": [
                      {
                        "marker": {
                          "colorbar": {
                            "outlinewidth": 0,
                            "ticks": ""
                          }
                        },
                        "type": "scatterpolargl"
                      }
                    ],
                    "contour": [
                      {
                        "colorbar": {
                          "outlinewidth": 0,
                          "ticks": ""
                        },
                        "type": "contour",
                        "colorscale": [
                          [
                            0,
                            "#0d0887"
                          ],
                          [
                            0.1111111111111111,
                            "#46039f"
                          ],
                          [
                            0.2222222222222222,
                            "#7201a8"
                          ],
                          [
                            0.3333333333333333,
                            "#9c179e"
                          ],
                          [
                            0.4444444444444444,
                            "#bd3786"
                          ],
                          [
                            0.5555555555555556,
                            "#d8576b"
                          ],
                          [
                            0.6666666666666666,
                            "#ed7953"
                          ],
                          [
                            0.7777777777777778,
                            "#fb9f3a"
                          ],
                          [
                            0.8888888888888888,
                            "#fdca26"
                          ],
                          [
                            1,
                            "#f0f921"
                          ]
                        ]
                      }
                    ],
                    "carpet": [
                      {
                        "type": "carpet",
                        "baxis": {
                          "minorgridcolor": "white",
                          "gridcolor": "white",
                          "linecolor": "white",
                          "endlinecolor": "#2a3f5f",
                          "startlinecolor": "#2a3f5f"
                        },
                        "aaxis": {
                          "minorgridcolor": "white",
                          "gridcolor": "white",
                          "linecolor": "white",
                          "endlinecolor": "#2a3f5f",
                          "startlinecolor": "#2a3f5f"
                        }
                      }
                    ],
                    "contourcarpet": [
                      {
                        "colorbar": {
                          "outlinewidth": 0,
                          "ticks": ""
                        },
                        "type": "contourcarpet"
                      }
                    ],
                    "heatmap": [
                      {
                        "colorbar": {
                          "outlinewidth": 0,
                          "ticks": ""
                        },
                        "type": "heatmap",
                        "colorscale": [
                          [
                            0,
                            "#0d0887"
                          ],
                          [
                            0.1111111111111111,
                            "#46039f"
                          ],
                          [
                            0.2222222222222222,
                            "#7201a8"
                          ],
                          [
                            0.3333333333333333,
                            "#9c179e"
                          ],
                          [
                            0.4444444444444444,
                            "#bd3786"
                          ],
                          [
                            0.5555555555555556,
                            "#d8576b"
                          ],
                          [
                            0.6666666666666666,
                            "#ed7953"
                          ],
                          [
                            0.7777777777777778,
                            "#fb9f3a"
                          ],
                          [
                            0.8888888888888888,
                            "#fdca26"
                          ],
                          [
                            1,
                            "#f0f921"
                          ]
                        ]
                      }
                    ],
                    "scattermapbox": [
                      {
                        "marker": {
                          "colorbar": {
                            "outlinewidth": 0,
                            "ticks": ""
                          }
                        },
                        "type": "scattermapbox"
                      }
                    ],
                    "scatter3d": [
                      {
                        "marker": {
                          "colorbar": {
                            "outlinewidth": 0,
                            "ticks": ""
                          }
                        },
                        "line": {
                          "colorbar": {
                            "outlinewidth": 0,
                            "ticks": ""
                          }
                        },
                        "type": "scatter3d"
                      }
                    ],
                    "scattergl": [
                      {
                        "marker": {
                          "colorbar": {
                            "outlinewidth": 0,
                            "ticks": ""
                          }
                        },
                        "type": "scattergl"
                      }
                    ],
                    "scatterternary": [
                      {
                        "marker": {
                          "colorbar": {
                            "outlinewidth": 0,
                            "ticks": ""
                          }
                        },
                        "type": "scatterternary"
                      }
                    ],
                    "histogram": [
                      {
                        "marker": {
                          "colorbar": {
                            "outlinewidth": 0,
                            "ticks": ""
                          }
                        },
                        "type": "histogram"
                      }
                    ],
                    "heatmapgl": [
                      {
                        "colorbar": {
                          "outlinewidth": 0,
                          "ticks": ""
                        },
                        "type": "heatmapgl",
                        "colorscale": [
                          [
                            0,
                            "#0d0887"
                          ],
                          [
                            0.1111111111111111,
                            "#46039f"
                          ],
                          [
                            0.2222222222222222,
                            "#7201a8"
                          ],
                          [
                            0.3333333333333333,
                            "#9c179e"
                          ],
                          [
                            0.4444444444444444,
                            "#bd3786"
                          ],
                          [
                            0.5555555555555556,
                            "#d8576b"
                          ],
                          [
                            0.6666666666666666,
                            "#ed7953"
                          ],
                          [
                            0.7777777777777778,
                            "#fb9f3a"
                          ],
                          [
                            0.8888888888888888,
                            "#fdca26"
                          ],
                          [
                            1,
                            "#f0f921"
                          ]
                        ]
                      }
                    ],
                    "scatterpolar": [
                      {
                        "marker": {
                          "colorbar": {
                            "outlinewidth": 0,
                            "ticks": ""
                          }
                        },
                        "type": "scatterpolar"
                      }
                    ],
                    "histogram2d": [
                      {
                        "colorbar": {
                          "outlinewidth": 0,
                          "ticks": ""
                        },
                        "type": "histogram2d",
                        "colorscale": [
                          [
                            0,
                            "#0d0887"
                          ],
                          [
                            0.1111111111111111,
                            "#46039f"
                          ],
                          [
                            0.2222222222222222,
                            "#7201a8"
                          ],
                          [
                            0.3333333333333333,
                            "#9c179e"
                          ],
                          [
                            0.4444444444444444,
                            "#bd3786"
                          ],
                          [
                            0.5555555555555556,
                            "#d8576b"
                          ],
                          [
                            0.6666666666666666,
                            "#ed7953"
                          ],
                          [
                            0.7777777777777778,
                            "#fb9f3a"
                          ],
                          [
                            0.8888888888888888,
                            "#fdca26"
                          ],
                          [
                            1,
                            "#f0f921"
                          ]
                        ]
                      }
                    ],
                    "scattergeo": [
                      {
                        "marker": {
                          "colorbar": {
                            "outlinewidth": 0,
                            "ticks": ""
                          }
                        },
                        "type": "scattergeo"
                      }
                    ],
                    "bar": [
                      {
                        "marker": {
                          "line": {
                            "color": "#E5ECF6",
                            "width": 0.5
                          }
                        },
                        "type": "bar",
                        "error_x": {
                          "color": "#2a3f5f"
                        },
                        "error_y": {
                          "color": "#2a3f5f"
                        }
                      }
                    ],
                    "choropleth": [
                      {
                        "colorbar": {
                          "outlinewidth": 0,
                          "ticks": ""
                        },
                        "type": "choropleth"
                      }
                    ],
                    "parcoords": [
                      {
                        "line": {
                          "colorbar": {
                            "outlinewidth": 0,
                            "ticks": ""
                          }
                        },
                        "type": "parcoords"
                      }
                    ],
                    "barpolar": [
                      {
                        "marker": {
                          "line": {
                            "color": "#E5ECF6",
                            "width": 0.5
                          }
                        },
                        "type": "barpolar"
                      }
                    ],
                    "histogram2dcontour": [
                      {
                        "colorbar": {
                          "outlinewidth": 0,
                          "ticks": ""
                        },
                        "type": "histogram2dcontour",
                        "colorscale": [
                          [
                            0,
                            "#0d0887"
                          ],
                          [
                            0.1111111111111111,
                            "#46039f"
                          ],
                          [
                            0.2222222222222222,
                            "#7201a8"
                          ],
                          [
                            0.3333333333333333,
                            "#9c179e"
                          ],
                          [
                            0.4444444444444444,
                            "#bd3786"
                          ],
                          [
                            0.5555555555555556,
                            "#d8576b"
                          ],
                          [
                            0.6666666666666666,
                            "#ed7953"
                          ],
                          [
                            0.7777777777777778,
                            "#fb9f3a"
                          ],
                          [
                            0.8888888888888888,
                            "#fdca26"
                          ],
                          [
                            1,
                            "#f0f921"
                          ]
                        ]
                      }
                    ],
                    "scatter": [
                      {
                        "marker": {
                          "colorbar": {
                            "outlinewidth": 0,
                            "ticks": ""
                          }
                        },
                        "type": "scatter"
                      }
                    ]
                  }
                },
                "hovermode": "x",
                "legend": {
                  "bgcolor": "#F5F6F9",
                  "font": {
                    "color": "#4D5663"
                  }
                }
              }
            }
          },
          "metadata": {
            "tags": []
          }
        }
      ]
    }
  ]
}