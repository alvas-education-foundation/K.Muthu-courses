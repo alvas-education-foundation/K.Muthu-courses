{
  "nbformat": 4,
  "nbformat_minor": 0,
  "metadata": {
    "colab": {
      "name": "Day 1 session 1 Exercise.ipynb",
      "provenance": [],
      "collapsed_sections": [],
      "authorship_tag": "ABX9TyPJWkDCEiks5RDirkH6LsVo",
      "include_colab_link": true
    },
    "kernelspec": {
      "name": "python3",
      "display_name": "Python 3"
    }
  },
  "cells": [
    {
      "cell_type": "markdown",
      "metadata": {
        "id": "view-in-github",
        "colab_type": "text"
      },
      "source": [
        "<a href=\"https://colab.research.google.com/github/alvas-education-foundation/K.Muthu-courses/blob/master/How%20to%20develop%20Pythonic%20coding%20rather%20than%20Python%20coding%20%E2%80%93%20Logic%20Perspective/Day_1_session_1_Exercise.ipynb\" target=\"_parent\"><img src=\"https://colab.research.google.com/assets/colab-badge.svg\" alt=\"Open In Colab\"/></a>"
      ]
    },
    {
      "cell_type": "markdown",
      "metadata": {
        "id": "yCR3YHMWNO0D",
        "colab_type": "text"
      },
      "source": [
        "## **Session 1 Excercise Programs**"
      ]
    },
    {
      "cell_type": "code",
      "metadata": {
        "id": "_ncgQX0tNj8t",
        "colab_type": "code",
        "colab": {
          "base_uri": "https://localhost:8080/",
          "height": 84
        },
        "outputId": "5c7c84e9-2f23-4299-c450-d8b54e387426"
      },
      "source": [
        "# 1.\tFind the compound interest for the given p,n,r  (formula : p(1+n*r/100)n )\n",
        "\n",
        "p = int(input('Enter the Principal Amount: '))\n",
        "n = int(input('Enter the No of Years: '))\n",
        "r = int(input('Ente the Rate of Interest: '))\n",
        "\n",
        "#Computing Compound Interest\n",
        "ci = p*(1+n*r/100)*n\n",
        "\n",
        "print('Compound Interest = ',ci)"
      ],
      "execution_count": null,
      "outputs": [
        {
          "output_type": "stream",
          "text": [
            "Enter the Principal Amount: 2000\n",
            "Enter the No of Years: 3\n",
            "Ente the Rate of Interest: 5\n",
            "Compound Interest =  6900.0\n"
          ],
          "name": "stdout"
        }
      ]
    },
    {
      "cell_type": "code",
      "metadata": {
        "id": "yS47zux_QSBz",
        "colab_type": "code",
        "colab": {
          "base_uri": "https://localhost:8080/",
          "height": 50
        },
        "outputId": "df533470-7065-4883-f196-253a4abc4cc4"
      },
      "source": [
        "# 2.\tConvert centigrade to fahrenheit  ( f= 9/5*c+32)\n",
        "\n",
        "c = float(input('Enter the Temperature in centigrade: '))\n",
        "f = 9/5*c+32\n",
        "print('Temperature in Fahrenheit: ',f)"
      ],
      "execution_count": null,
      "outputs": [
        {
          "output_type": "stream",
          "text": [
            "Enter the Temperature in centigrade: 32\n",
            "Temperature in Fahrenheit:  89.6\n"
          ],
          "name": "stdout"
        }
      ]
    },
    {
      "cell_type": "code",
      "metadata": {
        "id": "LsA3qfMhRYMt",
        "colab_type": "code",
        "colab": {
          "base_uri": "https://localhost:8080/",
          "height": 67
        },
        "outputId": "ed24ab45-d42d-4886-ea16-aa145f571f85"
      },
      "source": [
        "# 3.\tFind the greater of two nos \n",
        "\n",
        "a = int(input('Enter the 1st no: '))\n",
        "b = int(input('Enter the 2nd no: '))\n",
        "\n",
        "if a > b:\n",
        "  print('Greatest no is: ',a)\n",
        "else:\n",
        "  print('Greatest no is: ',b)"
      ],
      "execution_count": null,
      "outputs": [
        {
          "output_type": "stream",
          "text": [
            "Enter the 1st no: 5\n",
            "Enter the 2nd no: 9\n",
            "Greatest no is:  9\n"
          ],
          "name": "stdout"
        }
      ]
    },
    {
      "cell_type": "code",
      "metadata": {
        "id": "2RALStYjSTiw",
        "colab_type": "code",
        "colab": {
          "base_uri": "https://localhost:8080/",
          "height": 84
        },
        "outputId": "7429e145-e738-4001-a75f-08a10c87c821"
      },
      "source": [
        "# 4.\tWrite a program for finding surface areas of cylinder and cone (2*PI*r*r*h, 1/3*PI*r*r*h) using function.\n",
        "\n",
        "import math\n",
        "r = int(input('Enter the radius: '))\n",
        "h = int(input('Enter the height: '))\n",
        "\n",
        "cyl = 2*math.pi*r*r*h\n",
        "cone = 1/3*math.pi*r*r*h\n",
        "\n",
        "print('Surface area of Cylinder: ',cyl)\n",
        "print('Surfce area of Cone: ',cone)"
      ],
      "execution_count": null,
      "outputs": [
        {
          "output_type": "stream",
          "text": [
            "Enter the radius: 3\n",
            "Enter the height: 6\n",
            "Surface area of Cylinder:  339.29200658769764\n",
            "Surfce area of Cone:  56.548667764616276\n"
          ],
          "name": "stdout"
        }
      ]
    },
    {
      "cell_type": "code",
      "metadata": {
        "id": "bvYfsQKTVDsa",
        "colab_type": "code",
        "colab": {
          "base_uri": "https://localhost:8080/",
          "height": 50
        },
        "outputId": "b82c7f67-612f-47dd-f418-cd6dea541734"
      },
      "source": [
        "# 5.\tFind the greatest of four nos ( using ‘and’ operator)   using function.\n",
        "\n",
        "a,b,c,d = map(int,input(\"Enter 4 no's: \").split())\n",
        "if a > b and a>c and a>d:\n",
        "  print('Greatest no is: ',a)\n",
        "elif b>c and b>d:\n",
        "  print('Greatest no is: ',b)\n",
        "elif c>d:\n",
        "  print('Greatest no is: ',c)\n",
        "else:\n",
        "  print('Greatest no is: ',d)"
      ],
      "execution_count": null,
      "outputs": [
        {
          "output_type": "stream",
          "text": [
            "Enter 4 no's: 4 8 2 5\n",
            "Greatest no is:  8\n"
          ],
          "name": "stdout"
        }
      ]
    },
    {
      "cell_type": "code",
      "metadata": {
        "id": "lvToAEoUvkNE",
        "colab_type": "code",
        "colab": {
          "base_uri": "https://localhost:8080/",
          "height": 1000
        },
        "outputId": "862cd3a4-de90-4419-a126-a37b897fdfb0"
      },
      "source": [
        "# 6.\tWrite a  menu program to perform the operations ( ODDorEven, Factorial, ODDNoUptoN, PrimeUptoN ) using functions for two nos with  menu choice\n",
        "\n",
        "import math\n",
        "\n",
        "def ODDorEven(i):\n",
        "  if i%2 == 0:\n",
        "    print(i, 'is EVEN')\n",
        "  else:\n",
        "    print(i, 'is ODD')\n",
        "\n",
        "def Factorial(i):\n",
        "  print(math.factorial(i))\n",
        "\n",
        "def ODDNoUptoN(i):\n",
        "  list_odd = [x for x in range(1,i+1) if x%2 == 1]\n",
        "  print(list_odd)\n",
        "\n",
        "def PrimeUptoN(i):\n",
        "  list_prime = []\n",
        "  if i > 1:\n",
        "    for x in range(2,i):\n",
        "      for y in range(2,x):\n",
        "        if x%y == 0:\n",
        "          break\n",
        "      else:\n",
        "        list_prime.append(x)\n",
        "  print(list_prime)\n",
        "\n",
        "loop = 1\n",
        "ch = 0\n",
        "print('Greetings...')\n",
        "print('I can perform some operations for u...')\n",
        "\n",
        "while loop:\n",
        "  print('------')\n",
        "  print('Menu :')\n",
        "  print('1 -> ODDorEven')\n",
        "  print('2 -> Factorial')\n",
        "  print('3 -> ODDNoUptoN')\n",
        "  print('4 -> PrimeUptoN')\n",
        "  print('5 -> Quit')\n",
        "\n",
        "  try:\n",
        "    ch = int(input('Enter your choice: '))\n",
        "  except:\n",
        "    print('Provide valid input...')\n",
        "\n",
        "  if ch == 1:\n",
        "    n = int(input('Enter a no:'))\n",
        "    ODDorEven(n)\n",
        "  elif ch == 2:\n",
        "    n = int(input('Enter a no:'))\n",
        "    Factorial(n)\n",
        "  elif ch == 3:\n",
        "    n = int(input('Enter a no:'))\n",
        "    ODDNoUptoN(n)\n",
        "  elif ch == 4:\n",
        "    n = int(input('Enter a no:'))\n",
        "    PrimeUptoN(n)\n",
        "  elif ch == 5:\n",
        "    loop = 0\n",
        "  else:\n",
        "    print(\"Input no's from 1 to 5...\")\n",
        "    ch = 0\n"
      ],
      "execution_count": null,
      "outputs": [
        {
          "output_type": "stream",
          "text": [
            "Greetings...\n",
            "I can perform some operations for u...\n",
            "------\n",
            "Menu :\n",
            "1 -> ODDorEven\n",
            "2 -> Factorial\n",
            "3 -> ODDNoUptoN\n",
            "4 -> PrimeUptoN\n",
            "5 -> Quit\n",
            "Enter your choice: 1\n",
            "Enter a no:82\n",
            "82 is EVEN\n",
            "------\n",
            "Menu :\n",
            "1 -> ODDorEven\n",
            "2 -> Factorial\n",
            "3 -> ODDNoUptoN\n",
            "4 -> PrimeUptoN\n",
            "5 -> Quit\n",
            "Enter your choice: 2\n",
            "Enter a no:5\n",
            "120\n",
            "------\n",
            "Menu :\n",
            "1 -> ODDorEven\n",
            "2 -> Factorial\n",
            "3 -> ODDNoUptoN\n",
            "4 -> PrimeUptoN\n",
            "5 -> Quit\n",
            "Enter your choice: 3\n",
            "Enter a no:15\n",
            "[1, 3, 5, 7, 9, 11, 13, 15]\n",
            "------\n",
            "Menu :\n",
            "1 -> ODDorEven\n",
            "2 -> Factorial\n",
            "3 -> ODDNoUptoN\n",
            "4 -> PrimeUptoN\n",
            "5 -> Quit\n",
            "Enter your choice: 4\n",
            "Enter a no:15\n",
            "[2, 3, 5, 7, 11, 13]\n",
            "------\n",
            "Menu :\n",
            "1 -> ODDorEven\n",
            "2 -> Factorial\n",
            "3 -> ODDNoUptoN\n",
            "4 -> PrimeUptoN\n",
            "5 -> Quit\n",
            "Enter your choice: 6\n",
            "Input no's from 1 to 5...\n",
            "------\n",
            "Menu :\n",
            "1 -> ODDorEven\n",
            "2 -> Factorial\n",
            "3 -> ODDNoUptoN\n",
            "4 -> PrimeUptoN\n",
            "5 -> Quit\n",
            "Enter your choice: h\n",
            "Provide valid input...\n",
            "Input no's from 1 to 5...\n",
            "------\n",
            "Menu :\n",
            "1 -> ODDorEven\n",
            "2 -> Factorial\n",
            "3 -> ODDNoUptoN\n",
            "4 -> PrimeUptoN\n",
            "5 -> Quit\n",
            "Enter your choice: 5\n"
          ],
          "name": "stdout"
        }
      ]
    }
  ]
}